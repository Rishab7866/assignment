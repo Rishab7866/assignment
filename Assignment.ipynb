{
  "nbformat": 4,
  "nbformat_minor": 0,
  "metadata": {
    "colab": {
      "provenance": []
    },
    "kernelspec": {
      "name": "python3",
      "display_name": "Python 3"
    },
    "language_info": {
      "name": "python"
    }
  },
  "cells": [
    {
      "cell_type": "markdown",
      "source": [
        "#Practical Questions\n"
      ],
      "metadata": {
        "id": "TrCXXlq2MckJ"
      }
    },
    {
      "cell_type": "markdown",
      "source": [],
      "metadata": {
        "id": "FtW6xp4GM-_A"
      }
    },
    {
      "cell_type": "markdown",
      "source": [
        "1) Write a Python program to print \"Hello, World!\""
      ],
      "metadata": {
        "id": "9n9wprgZNBj4"
      }
    },
    {
      "cell_type": "code",
      "source": [
        "print (\"Hello, World!\")"
      ],
      "metadata": {
        "colab": {
          "base_uri": "https://localhost:8080/"
        },
        "id": "Q3x80QrQNGd3",
        "outputId": "7ee55be5-2594-47e9-82a6-45d9db69856e"
      },
      "execution_count": null,
      "outputs": [
        {
          "output_type": "stream",
          "name": "stdout",
          "text": [
            "Hello, World!\n"
          ]
        }
      ]
    },
    {
      "cell_type": "markdown",
      "source": [
        "2) Write a Python program that displays your name and age"
      ],
      "metadata": {
        "id": "ozkw55NhNSCh"
      }
    },
    {
      "cell_type": "code",
      "source": [
        "name = input(\"What is your name? \")\n",
        "age = input(\"What is your age? \")\n",
        "print(name, age)"
      ],
      "metadata": {
        "colab": {
          "base_uri": "https://localhost:8080/"
        },
        "id": "DcumBJQoNZDK",
        "outputId": "03bf30bd-605e-4aff-d09a-a98311ff5920"
      },
      "execution_count": null,
      "outputs": [
        {
          "output_type": "stream",
          "name": "stdout",
          "text": [
            "What is your name? rishab\n",
            "What is your age? 20\n",
            "rishab 20\n"
          ]
        }
      ]
    },
    {
      "cell_type": "markdown",
      "source": [
        "3)  Write code to print all the pre-defined keywords in Python using the keyword library"
      ],
      "metadata": {
        "id": "Kc3Tzm4GN89Z"
      }
    },
    {
      "cell_type": "code",
      "source": [
        "import keyword\n",
        "\n",
        "print(keyword.kwlist)"
      ],
      "metadata": {
        "colab": {
          "base_uri": "https://localhost:8080/"
        },
        "id": "dvpBjh_dNeWf",
        "outputId": "5f2b3cfa-f2bf-4c61-ac49-8a35646782e5"
      },
      "execution_count": null,
      "outputs": [
        {
          "output_type": "stream",
          "name": "stdout",
          "text": [
            "['False', 'None', 'True', 'and', 'as', 'assert', 'async', 'await', 'break', 'class', 'continue', 'def', 'del', 'elif', 'else', 'except', 'finally', 'for', 'from', 'global', 'if', 'import', 'in', 'is', 'lambda', 'nonlocal', 'not', 'or', 'pass', 'raise', 'return', 'try', 'while', 'with', 'yield']\n"
          ]
        }
      ]
    },
    {
      "cell_type": "markdown",
      "source": [],
      "metadata": {
        "id": "5wMr9fCYPdDI"
      }
    },
    {
      "cell_type": "markdown",
      "source": [
        "4)  Write a program that checks if a given word is a Python keyword.\n",
        "   -> i tried but i did'nt get answer of this Question.\n"
      ],
      "metadata": {
        "id": "iR5US4WFNkNa"
      }
    },
    {
      "cell_type": "markdown",
      "source": [
        "5) Create a list and tuple in Python, and demonstrate how attempting to change an element works differently\n",
        "for each"
      ],
      "metadata": {
        "id": "3FJxn91APoWh"
      }
    },
    {
      "cell_type": "code",
      "source": [
        "\n",
        "my_list = [10, 20, 30]\n",
        "print(\"Before:\", my_list)\n",
        "\n",
        "\n",
        "my_list[1] = 99\n",
        "print(\"After modifying index 1:\", my_list)\n",
        "\n",
        "\n",
        "my_list.append(40)\n",
        "print(\"After append:\", my_list)\n"
      ],
      "metadata": {
        "colab": {
          "base_uri": "https://localhost:8080/"
        },
        "id": "Ig-8bmVOOilw",
        "outputId": "87bb036f-c28f-43b3-bdc4-713844a0b0aa"
      },
      "execution_count": null,
      "outputs": [
        {
          "output_type": "stream",
          "name": "stdout",
          "text": [
            "Before: [10, 20, 30]\n",
            "After modifying index 1: [10, 99, 30]\n",
            "After append: [10, 99, 30, 40]\n"
          ]
        }
      ]
    },
    {
      "cell_type": "markdown",
      "source": [
        "6) Write a function to demonstrate the behavior of mutable and immutable arguments ->  i tried but i did'nt get answer of this Question."
      ],
      "metadata": {
        "id": "Gsyp9la5Q0bB"
      }
    },
    {
      "cell_type": "markdown",
      "source": [
        "7) Write a program that performs basic arithmetic operations on two user-input numbers."
      ],
      "metadata": {
        "id": "JvR0eejGRGlx"
      }
    },
    {
      "cell_type": "code",
      "source": [
        "def main():\n",
        "\n",
        "    x = float(input(\"Enter the first number: \"))\n",
        "    y = float(input(\"Enter the second number: \"))\n",
        "\n",
        "\n",
        "    add       = x + y\n",
        "    sub       = x - y\n",
        "    mul       = x * y\n",
        "    div       = x / y if y != 0 else \"Infinity (division by zero)\"\n",
        "    floor_div = x // y if y != 0 else \"Undefined\"\n",
        "    mod       = x % y if y != 0 else \"Undefined\"\n",
        "    power     = x ** y\n",
        "\n",
        "\n",
        "    print(f\"\\nResults for {x} and {y}:\")\n",
        "    print(f\"Addition:            {add}\")\n",
        "    print(f\"Subtraction:         {sub}\")\n",
        "    print(f\"Multiplication:      {mul}\")\n",
        "    print(f\"Division (/):        {div}\")\n",
        "    print(f\"Floor Division (//): {floor_div}\")\n",
        "    print(f\"Modulus (%):         {mod}\")\n",
        "    print(f\"Exponentiation (**): {power}\")\n",
        "\n",
        "if __name__ == \"__main__\":\n",
        "    main()\n"
      ],
      "metadata": {
        "colab": {
          "base_uri": "https://localhost:8080/"
        },
        "id": "VxrB7NVpQrer",
        "outputId": "e707bc45-d77b-4eb1-a542-12bf85972257"
      },
      "execution_count": null,
      "outputs": [
        {
          "output_type": "stream",
          "name": "stdout",
          "text": [
            "Enter the first number: 23\n",
            "Enter the second number: 12\n",
            "\n",
            "Results for 23.0 and 12.0:\n",
            "Addition:            35.0\n",
            "Subtraction:         11.0\n",
            "Multiplication:      276.0\n",
            "Division (/):        1.9166666666666667\n",
            "Floor Division (//): 1.0\n",
            "Modulus (%):         11.0\n",
            "Exponentiation (**): 2.191462443202032e+16\n"
          ]
        }
      ]
    },
    {
      "cell_type": "markdown",
      "source": [
        "8. Write a program to demonstrate the use of logical operators."
      ],
      "metadata": {
        "id": "bjbeCRf_jMlA"
      }
    },
    {
      "cell_type": "code",
      "source": [
        "def demo_logical_ops():\n",
        "    a, b, c = True, False, True\n",
        "\n",
        "    print(\"a and c:\", a and c)\n",
        "    print(\"a or b:\", a or b)\n",
        "    print(\"not b:\", not b)\n",
        "\n",
        "    x, y = 10, 5\n",
        "    print(\"x > y and x < 20:\", x > y and x < 20)\n",
        "    print(\"x < y or y == 5:\", x < y or y == 5)\n",
        "    print(\"not(x == y):\", not (x == y))\n",
        "\n",
        "\n",
        "    print(\"10 and 0:\", 10 and 0)\n",
        "    print(\"0 or 10:\", 0 or 10)\n",
        "\n",
        "\n",
        "    def fail():\n",
        "        print(\"This shouldn't run\")\n",
        "        return True\n",
        "\n",
        "    print(\"False and fail():\", False and fail())\n",
        "    print(\"True or fail():\", True or fail())\n",
        "\n",
        "if __name__ == \"__main__\":\n",
        "    demo_logical_ops()\n"
      ],
      "metadata": {
        "id": "nQTXzxmqRdR8",
        "colab": {
          "base_uri": "https://localhost:8080/"
        },
        "outputId": "82ee4ea9-874d-41ac-ab3d-ba2a48f95768"
      },
      "execution_count": 1,
      "outputs": [
        {
          "output_type": "stream",
          "name": "stdout",
          "text": [
            "a and c: True\n",
            "a or b: True\n",
            "not b: True\n",
            "x > y and x < 20: True\n",
            "x < y or y == 5: True\n",
            "not(x == y): True\n",
            "10 and 0: 0\n",
            "0 or 10: 10\n",
            "False and fail(): False\n",
            "True or fail(): True\n"
          ]
        }
      ]
    },
    {
      "cell_type": "markdown",
      "source": [
        "9. Write a Python program to convert user input from string to integer, float, and boolean types --> i tried but i did'nt get answer of this Question.\n"
      ],
      "metadata": {
        "id": "3gbe2ovpjv7R"
      }
    },
    {
      "cell_type": "markdown",
      "source": [
        "10. Write code to demonstrate type casting with list elements."
      ],
      "metadata": {
        "id": "rEY-DWKRkGFo"
      }
    },
    {
      "cell_type": "code",
      "source": [
        "def demo_list_casting():\n",
        "\n",
        "    str_nums = [\"1\", \"2\", \"3\", \"10\"]\n",
        "    int_nums = [int(x) for x in str_nums]\n",
        "    print(\"Strings → Ints:\", int_nums)\n",
        "\n",
        "    float_nums = list(map(float, str_nums))\n",
        "    print(\"Strings → Floats:\", float_nums)\n",
        "\n",
        "    mixed_numbers = [5, 3.14, 42]\n",
        "    str_numbers = [str(x) for x in mixed_numbers]\n",
        "    print(\"Numbers → Strings:\", str_numbers)\n",
        "\n",
        "    bool_strs = [\"True\", \"false\", \"TRUE\", \"nope\"]\n",
        "    bools = [s.lower() == \"true\" for s in bool_strs]\n",
        "    print(\"Strings → Booleans:\", bools)\n",
        "\n",
        "    matrix = [[\"1\", \"2\"], [\"3\", \"4\"]]\n",
        "    int_matrix = [[int(x) for x in row] for row in matrix]\n",
        "    print(\"Nested strings → Int matrix:\", int_matrix)\n",
        "\n",
        "    raw = [\"7\", \"eight\", \"9.5\", \"\", \"0\"]\n",
        "    safe_ints = []\n",
        "    for s in raw:\n",
        "        try:\n",
        "            safe_ints.append(int(s))\n",
        "        except ValueError:\n",
        "            safe_ints.append(None)\n",
        "    print(\"Safe int casting:\", safe_ints)\n",
        "\n",
        "if __name__ == \"__main__\":\n",
        "    demo_list_casting()\n"
      ],
      "metadata": {
        "colab": {
          "base_uri": "https://localhost:8080/"
        },
        "id": "sbs1bHtrjw6M",
        "outputId": "b17c2cb4-1b47-47d8-9451-4e5662d96913"
      },
      "execution_count": 2,
      "outputs": [
        {
          "output_type": "stream",
          "name": "stdout",
          "text": [
            "Strings → Ints: [1, 2, 3, 10]\n",
            "Strings → Floats: [1.0, 2.0, 3.0, 10.0]\n",
            "Numbers → Strings: ['5', '3.14', '42']\n",
            "Strings → Booleans: [True, False, True, False]\n",
            "Nested strings → Int matrix: [[1, 2], [3, 4]]\n",
            "Safe int casting: [7, None, None, None, 0]\n"
          ]
        }
      ]
    },
    {
      "cell_type": "markdown",
      "source": [
        "11. Write a program that checks if a number is positive, negative, or zero."
      ],
      "metadata": {
        "id": "LLWnGqnXkitO"
      }
    },
    {
      "cell_type": "code",
      "source": [
        "def check_number(num):\n",
        "    if num > 0:\n",
        "        return \"Positive\"\n",
        "    elif num == 0:\n",
        "        return \"Zero\"\n",
        "    else:\n",
        "        return \"Negative\"\n",
        "\n",
        "def main():\n",
        "    n = float(input(\"Enter a number: \"))\n",
        "    result = check_number(n)\n",
        "    print(f\"The number is {result}.\")\n",
        "\n",
        "if __name__ == \"__main__\":\n",
        "    main()\n"
      ],
      "metadata": {
        "colab": {
          "base_uri": "https://localhost:8080/"
        },
        "id": "j-uXPE2mkd3I",
        "outputId": "99cd903d-e547-4915-ecfa-ed32d48f1bf7"
      },
      "execution_count": 3,
      "outputs": [
        {
          "output_type": "stream",
          "name": "stdout",
          "text": [
            "Enter a number: 12\n",
            "The number is Positive.\n"
          ]
        }
      ]
    },
    {
      "cell_type": "markdown",
      "source": [
        "12. Write a for loop to print numbers from 1 to 10."
      ],
      "metadata": {
        "id": "vvfqE8Eok1un"
      }
    },
    {
      "cell_type": "code",
      "source": [
        "for i in range(1, 11):\n",
        "    print(i)\n"
      ],
      "metadata": {
        "colab": {
          "base_uri": "https://localhost:8080/"
        },
        "id": "INAqcdixku23",
        "outputId": "3c339c5f-980e-4320-87a0-1b5bad6ec4f6"
      },
      "execution_count": 4,
      "outputs": [
        {
          "output_type": "stream",
          "name": "stdout",
          "text": [
            "1\n",
            "2\n",
            "3\n",
            "4\n",
            "5\n",
            "6\n",
            "7\n",
            "8\n",
            "9\n",
            "10\n"
          ]
        }
      ]
    },
    {
      "cell_type": "markdown",
      "source": [
        "13. Write a Python program to find the sum of all even numbers between 1 and 50."
      ],
      "metadata": {
        "id": "sTLJLGJok8E3"
      }
    },
    {
      "cell_type": "code",
      "source": [
        "def sum_even_basic():\n",
        "    total = 0\n",
        "    for i in range(1, 51):\n",
        "        if i % 2 == 0:\n",
        "            total += i\n",
        "    return total\n",
        "\n",
        "def sum_even_step():\n",
        "    return sum(range(2, 51, 2))\n",
        "\n",
        "def sum_even_formula():\n",
        "\n",
        "    k = 50 // 2\n",
        "    return k * (k + 1)\n",
        "\n",
        "if __name__ == \"__main__\":\n",
        "    print(\"Basic loop:\", sum_even_basic())\n",
        "    print(\"Using range step:\", sum_even_step())\n",
        "    print(\"Using formula:\", sum_even_formula())\n"
      ],
      "metadata": {
        "colab": {
          "base_uri": "https://localhost:8080/"
        },
        "id": "aDu1mJ3ck6th",
        "outputId": "28f7d24f-9b65-4199-d1bf-bb912fb060e3"
      },
      "execution_count": 5,
      "outputs": [
        {
          "output_type": "stream",
          "name": "stdout",
          "text": [
            "Basic loop: 650\n",
            "Using range step: 650\n",
            "Using formula: 650\n"
          ]
        }
      ]
    },
    {
      "cell_type": "markdown",
      "source": [
        "14. Write a program to reverse a string using a while loop"
      ],
      "metadata": {
        "id": "zmfS74fwlOk_"
      }
    },
    {
      "cell_type": "code",
      "source": [
        "def reverse_while(s):\n",
        "    result = \"\"\n",
        "    index = len(s) - 1\n",
        "    while index >= 0:\n",
        "        result += s[index]\n",
        "        index -= 1\n",
        "    return result\n",
        "\n",
        "if __name__ == \"__main__\":\n",
        "    original = input(\"Enter a string: \")\n",
        "    print(\"Reversed string:\", reverse_while(original))\n"
      ],
      "metadata": {
        "colab": {
          "base_uri": "https://localhost:8080/"
        },
        "id": "RAhVU8WelKfp",
        "outputId": "b0f748fc-bc6e-4813-ecd4-e9d1bfcafb8d"
      },
      "execution_count": 6,
      "outputs": [
        {
          "output_type": "stream",
          "name": "stdout",
          "text": [
            "Enter a string: rishab\n",
            "Reversed string: bahsir\n"
          ]
        }
      ]
    },
    {
      "cell_type": "markdown",
      "source": [
        "15. Write a Python program to calculate the factorial of a number provided by the user using a while loop."
      ],
      "metadata": {
        "id": "oTm0cb4wlc9f"
      }
    },
    {
      "cell_type": "code",
      "source": [
        "def factorial(n):\n",
        "    if n < 0:\n",
        "        raise ValueError(\"Factorial is not defined for negative numbers\")\n",
        "    result = 1\n",
        "    counter = n\n",
        "    while counter > 1:\n",
        "        result *= counter\n",
        "        counter -= 1\n",
        "    return result\n",
        "\n",
        "def main():\n",
        "    try:\n",
        "        n = int(input(\"Enter a non-negative integer: \"))\n",
        "        print(f\"{n}! =\", factorial(n))\n",
        "    except ValueError as e:\n",
        "        print(\"Error:\", e)\n",
        "\n",
        "if __name__ == \"__main__\":\n",
        "    main()\n",
        "\n"
      ],
      "metadata": {
        "colab": {
          "base_uri": "https://localhost:8080/"
        },
        "id": "C61ABmbJlT2_",
        "outputId": "54b6f445-d974-4e8f-ad3d-85ca084d5db2"
      },
      "execution_count": 7,
      "outputs": [
        {
          "output_type": "stream",
          "name": "stdout",
          "text": [
            "Enter a non-negative integer: 123\n",
            "123! = 12146304367025329675766243241881295855454217088483382315328918161829235892362167668831156960612640202170735835221294047782591091570411651472186029519906261646730733907419814952960000000000000000000000000000\n"
          ]
        }
      ]
    }
  ]
}