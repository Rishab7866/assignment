{
  "nbformat": 4,
  "nbformat_minor": 0,
  "metadata": {
    "colab": {
      "provenance": []
    },
    "kernelspec": {
      "name": "python3",
      "display_name": "Python 3"
    },
    "language_info": {
      "name": "python"
    }
  },
  "cells": [
    {
      "cell_type": "markdown",
      "source": [
        "# MACHINE LEARNING ASSIGNMENT"
      ],
      "metadata": {
        "id": "JGvuR2TbDvXc"
      }
    },
    {
      "cell_type": "markdown",
      "source": [
        "1.  Explain the differences between AI, ML, Deep Learning (DL), and Data\n",
        "Science (DS).\n",
        "\n",
        "-> Artificial Intelligence (AI)\n",
        "\n",
        "Broad field concerned with making machines/systems that can perform tasks which normally require human intelligence: reasoning, perception, decision making, planning, natural language understanding, etc.\n",
        "\n",
        "\n",
        "Not limited to learning from data; might include rule-based systems, heuristics, expert systems.\n",
        "\n",
        "\n",
        "Machine Learning (ML)\n",
        "\n",
        "Subset of AI. The set of techniques where systems learn from data (rather than being explicitly programmed for every case).\n",
        "\n",
        "\n",
        "It involves creating algorithms/models that improve with more data/experience. Methods include supervised learning, unsupervised learning, reinforcement learning.\n",
        "\n",
        "\n",
        "Deep Learning (DL)\n",
        "\n",
        "Subset of machine learning. Uses neural networks with many layers (“deep” networks) to automatically learn representations/features from data.\n",
        "\n",
        "\n",
        "Particularly useful for large amounts of unstructured data (images, audio, text), where feature engineering by hand is difficult.\n",
        "\n",
        "\n",
        "Data Science (DS)\n",
        "\n",
        "More interdisciplinary. Involves collecting, cleaning, processing, analyzing, visualizing data, and using it to draw insights, make decisions, build predictive models.\n",
        "\n",
        "DS uses tools & techniques from statistics, ML, sometimes DL, domain knowledge, data visualization, etc. It’s not just about “making smart machines,” but about extracting useful insights from data."
      ],
      "metadata": {
        "id": "1rqJWu50D-LU"
      }
    },
    {
      "cell_type": "markdown",
      "source": [
        "2. What are the types of machine learning? Describe each with one\n",
        "real-world example.\n",
        "\n",
        "-> Supervised Learning\n",
        "\n",
        "In supervised learning, the system is given input data along with the correct output (“labels”) during training. The model learns to map inputs to outputs, so that when new, unseen inputs come it can predict the correct output. Problems in supervised learning include classification (where output is a category) and regression (where output is a continuous value).\n",
        "\n",
        "\n",
        "Real-world example:\n",
        "Predicting house prices. A model is trained on data with features like “square footage”, “number of bedrooms”, “location” and with the correct selling price. After training, given a new house, the model predicts its price.\n",
        "\n",
        "\n",
        "Unsupervised Learning\n",
        "\n",
        "Here, the model is given data without any explicit labels. It seeks to discover underlying structure: grouping similar data points together, finding patterns, identifying density or anomalies, reducing dimensions, etc. The model doesn’t know ahead of time what the correct output should be.\n",
        "\n",
        "\n",
        "Real-world example:\n",
        "Customer segmentation in marketing: A company might have purchase history data for many customers, but no labels saying “this customer is VIP”, “this one is budget-buyer”, etc. Using unsupervised clustering techniques, the company can group customers based on their behavior, then tailor marketing strategies to each group.\n",
        "\n",
        "\n",
        "Semi-Supervised Learning\n",
        "\n",
        "This is a mix of supervised and unsupervised. In many practical scenarios, obtaining labels is expensive or time-consuming, but unlabeled data is abundant. Semi-supervised methods use a small amount of labeled data together with a larger pool of unlabeled data to improve learning.\n",
        "\n",
        "\n",
        "Real-world example:\n",
        "Image recognition for medical imagery: Suppose only a few medical images are annotated (e.g. showing specific conditions) but many more are not. A semi-supervised approach can use the annotated ones to guide learning, and unlabeled ones to help the model learn features or structure, improving performance while saving on labeling cost.\n",
        "\n",
        "Self-Supervised Learning\n",
        "\n",
        "A subtype of unsupervised / semi-supervised learning, where the system automatically creates “pseudo-labels” from the data itself. Essentially, part of the data is used to predict another part, which gives a supervisory signal without manual labeling. Widely used in natural language processing (e.g. language models) and computer vision.\n",
        "\n",
        "Real-world example:\n",
        "Predicting the next word in a sentence: Given parts of text, the model tries to predict what comes next. This lets huge text corpora be used to train powerful language models without needing human-labels for “this is correct label”. Another example is masked image modeling in vision (e.g. remove part of image and predict what’s missing).\n",
        "\n",
        "Reinforcement Learning\n",
        "\n",
        "In reinforcement learning (RL), an agent interacts with an environment, takes actions, and receives feedback in the form of rewards or penalties. The agent’s objective is to learn a policy (strategy) that maximizes cumulative reward over time. RL does not require labeled input/output pairs; instead it learns via trial and error.\n",
        "\n",
        "\n",
        "Real-world example:\n",
        "Training a robot to walk or a self-driving car to navigate. The robot tries out movements, gets rewarded for moving forward without falling, penalized for falling. Over many trials, it learns actions that maintain balance and move effectively. Also, video games (e.g. AlphaGo, or agents playing Atari games) use RL to learn strategies."
      ],
      "metadata": {
        "id": "md0aDbS1Ecmc"
      }
    },
    {
      "cell_type": "markdown",
      "source": [
        "3. Define overfitting, underfitting, and the bias-variance tradeoff in machine\n",
        "learning.\n",
        "\n",
        "-> Underfitting\n",
        "\n",
        "What it means: A model underfits when it is too simple to capture the underlying pattern in the data. It fails to learn enough; it has not “learned” from the data’s structure.\n",
        "\n",
        "What happens in practice: Both the training error and test (validation) error are large. The model performs poorly even on the data it was trained on.\n",
        "\n",
        "Why it happens: Possible causes include using a model that is too simplistic (e.g. linear model when relationship is non-linear), having too few features, insufficient training time, too much regularization, etc.\n",
        "\n",
        "Real-world clue: Imagine trying to predict house prices but using only one feature (say, size), ignoring location, number of bedrooms etc. The model will miss many relevant factors and hence underperform.\n",
        "\n",
        "Overfitting\n",
        "\n",
        "What it means: A model overfits when it is too complex, so it starts to learn not only the true underlying pattern but also the noise, peculiarities, or quirks of the specific training data. It “memorizes” rather than generalizes.\n",
        "\n",
        "What happens in practice: Very low error on training data but much higher error on unseen (test/validation) data. The model performs well in training but generalizes poorly.\n",
        "\n",
        "\n",
        "Why it happens: Using overly complex models (e.g. very deep neural networks, very high-degree polynomials), insufficient data, noisy data, too little regularization, etc.\n",
        "\n",
        "\n",
        "Real-world clue: Say you fit a polynomial of degree 10 to just 20 data points. The curve might pass exactly through all points, but on new data it will swing wildly and make wrong predictions. Or in classification, a decision tree that splits until each leaf has just one example may overfit.\n",
        "\n",
        "Bias-Variance Trade-off\n",
        "\n",
        "This concept helps understand and balance between underfitting and overfitting.\n",
        "\n",
        "Bias: Error due to overly strong assumptions in the model. A high bias model is too simple and misses true relationships between features and the outcome. → underfitting.\n",
        "\n",
        "\n",
        "Variance: Error due to sensitivity to fluctuations in the training data. A high variance model fits training data “too well” (including noise), so its predictions change a lot if we used a different training set. → overfitting.\n",
        "\n",
        "\n",
        "Total Error (on unseen data) is roughly the sum of:\n",
        "\n",
        "Bias² (squared bias)\n",
        "\n",
        "Variance\n",
        "\n",
        "Irreducible error (noise) — the error intrinsic to the problem, which no model can eliminate.\n",
        "\n",
        "\n",
        "Trade-off: As you increase model complexity, bias tends to go down (the model can fit more patterns), but variance tends to go up (model may fit noise). Conversely, simpler models have low variance but high bias. The goal is to find a sweet spot where the sum of bias² + variance is minimized (i.e. good performance on both training and unseen data)."
      ],
      "metadata": {
        "id": "uiC5BMo9E9gN"
      }
    },
    {
      "cell_type": "markdown",
      "source": [
        "4. What are outliers in a dataset, and list three common techniques for\n",
        "handling them.\n",
        "\n",
        "-> An outlier is a data point that significantly differs from other observations in your dataset. It lies unusually far from the rest of the data.\n",
        "\n",
        "Three Common Techniques for Handling Outliers\n",
        "\n",
        "Here are three widely used methods to handle outliers, along with when & how they are used:\n",
        "\n",
        "Removal / Trimming\n",
        "\n",
        "What it is: Simply remove outlier observations from the dataset. Also called trimming.\n",
        "\n",
        "\n",
        "When it's okay: If you are confident that those outliers are errors, or they do not represent anything meaningful (e.g. data entry errors), or they are so extreme that they distort the model.\n",
        "\n",
        "Downsides: Can lose information; if many outliers are removed, data sample may shrink, possibly introducing bias. Also, if outliers are real (not errors), removing them may hide important phenomena.\n",
        "\n",
        "Capping / Winsorization\n",
        "\n",
        "What it is: Instead of removing outliers, you set them to a threshold value (a specified percentile). For example, values above the 95th percentile are set equal to the 95th percentile (and similarly for the low end). That’s called Winsorizing.\n",
        "\n",
        "\n",
        "When it is useful: When you want to limit the effect of extreme values but not completely discard those data points. This preserves sample size, reduces the influence of outliers, but still acknowledges they exist.\n",
        "\n",
        "Considerations: The choice of thresholds is arbitrary; capping reduces variance artificially; may distort relationships if many values are capped.\n",
        "\n",
        "Transformations\n",
        "\n",
        "What it is: Apply a mathematical transformation to reduce the effect of outliers (e.g. log transform, square root, Box-Cox, etc.). These compress large values and expand small values, thus “pulling in” extremes.\n",
        "\n",
        "When to use: Especially when data is skewed and has heavy tails. If the outliers are natural and you don’t want to remove them but need to stabilize variance or improve model assumptions.\n",
        "\n",
        "Trade-offs: Transformed data may be harder to interpret; sometimes transformation doesn’t fully correct issues; must be chosen carefully so model assumptions are better satisfied."
      ],
      "metadata": {
        "id": "iOzWcQj3F8hX"
      }
    },
    {
      "cell_type": "markdown",
      "source": [
        "5. Explain the process of handling missing values and mention one\n",
        "imputation technique for numerical and one for categorical data.\n",
        "\n",
        "-> Process of Handling Missing Values\n",
        "\n",
        "When working with a dataset that has missing values, you typically follow a procedure to deal with them in a systematic, defensible way. A good process often includes these steps:\n",
        "\n",
        "Detect & quantify missingness\n",
        "\n",
        "Check which features (columns) have missing values, and how many (percentage, counts).\n",
        "\n",
        "Look at patterns of missingness — is missingness more in certain rows, or correlated with other variables, etc.\n",
        "\n",
        "Understand the type / mechanism of missingness\n",
        "\n",
        "MCAR (Missing Completely At Random): Missingness has no relation to observed or unobserved data.\n",
        "\n",
        "MAR (Missing At Random): Missingness is related to the observed data.\n",
        "\n",
        "MNAR (Missing Not At Random): Missingness depends on the missing values themselves (or unobserved variables).\n",
        "This understanding helps choose how safe or risky different treatments are.\n",
        "\n",
        "\n",
        "Decide on strategy based on how much missingness there is, which variables are missing, importance of those variables, and how sensitive your downstream model is to missing data.\n",
        "\n",
        "Common overall strategies include:\n",
        "\n",
        "Deletion: dropping rows (or sometimes columns) with missing values.\n",
        "\n",
        "Imputation: filling in missing values with estimates.\n",
        "\n",
        "Using models that tolerate / handle missing data intrinsically.\n",
        "\n",
        "Flagging missingness: adding indicator features showing that a value was missing, if that itself may carry information.\n",
        "\n",
        "Apply imputation or transformation (if imputation chosen), making sure to do it properly (often separately for training and test sets, so as not to leak information).\n",
        "\n",
        "Evaluate impact\n",
        "\n",
        "Check how the imputation (or deletion) has changed data distributions.\n",
        "\n",
        "Assess whether the downstream model’s performance improves or degrades.\n",
        "\n",
        "Possibly compare multiple imputation strategies.\n",
        "\n",
        "Document / justify your choice: Why did you choose mean vs median vs mode vs model-based imputation, etc. Be aware of biases introduced.\n",
        "\n",
        "One Imputation Technique for Numerical Data\n",
        "\n",
        "Mean Imputation\n",
        "\n",
        "What it is: Replace missing values in a numerical feature with the mean (average) of the non-missing values in that feature.\n",
        "\n",
        "When it's suitable: When the missingness is small amount (not too many missing), and the distribution is relatively symmetric (not heavily skewed), and simple modelling suffices.\n",
        "\n",
        "Pros: Very simple, fast, easy to implement.\n",
        "\n",
        "Cons: Distorts variance (tends to reduce it), may bias estimates, doesn’t use relationships from other features. If there are outliers, mean can itself be misleading.\n",
        "\n",
        "Example: Suppose in a dataset of house prices, the “Lot Size” feature has some missing values. You compute the mean lot size of all houses with known lot size and fill in that mean value for the missing ones.\n",
        "\n",
        "One Imputation Technique for Categorical Data\n",
        "\n",
        "Mode (Most Frequent Value) Imputation\n",
        "\n",
        "What it is: Replace missing values in a categorical feature by the most frequent category (“mode”) in that feature.\n",
        "\n",
        "When it's suitable: When you have some missingness, the most frequent category is meaningful and fairly dominant, and you believe missing values are “like” the majority.\n",
        "\n",
        "Pros: Simple, preserves categorical nature, cheap to compute.\n",
        "\n",
        "Cons: Can lead to over-representing the dominant category, bias, reduce variability, misrepresent underlying distribution especially if missing values are not random.\n",
        "\n",
        "Example: Suppose you have a dataset of customers, with a column “Payment Method” (Credit Card, Debit, Cash). If many entries are missing, you find that “Credit Card” is the most common among existing ones. You fill missing “Payment Method” with “Credit Card.”"
      ],
      "metadata": {
        "id": "zm1eanAAGQAs"
      }
    },
    {
      "cell_type": "markdown",
      "source": [
        "6. Write a Python program that:\n",
        "● Creates a synthetic imbalanced dataset with make_classification() from\n",
        "sklearn.datasets.\n",
        "● Prints the class distribution"
      ],
      "metadata": {
        "id": "piB1TKneGxys"
      }
    },
    {
      "cell_type": "code",
      "source": [
        "from sklearn.datasets import make_classification\n",
        "from collections import Counter\n",
        "\n",
        "def create_imbalanced_dataset(n_samples=1000, imbalance_ratio=0.05, random_state=42):\n",
        "    \"\"\"\n",
        "    Creates an imbalanced binary classification dataset.\n",
        "\n",
        "    Parameters:\n",
        "        n_samples (int): total number of examples\n",
        "        imbalance_ratio (float): proportion of samples in the minority class\n",
        "        random_state (int): seed for reproducibility\n",
        "\n",
        "    Returns:\n",
        "        X, y (arrays): features and labels\n",
        "    \"\"\"\n",
        "    # weights: specify the distribution of classes.\n",
        "    # If imbalance_ratio=0.05, that means ~5% will be in class 1, ~95% in class 0.\n",
        "    weights = [1 - imbalance_ratio, imbalance_ratio]\n",
        "\n",
        "    X, y = make_classification(\n",
        "        n_samples=n_samples,\n",
        "        n_features=20,          # number of features; you can change as needed\n",
        "        n_informative=2,         # number of informative features\n",
        "        n_redundant=2,            # redundant features\n",
        "        n_repeated=0,\n",
        "        n_classes=2,\n",
        "        weights=weights,\n",
        "        flip_y=0,\n",
        "        class_sep=1.0,\n",
        "        random_state=random_state\n",
        "    )\n",
        "\n",
        "    return X, y\n",
        "\n",
        "def print_class_distribution(y):\n",
        "    \"\"\"Prints how many samples in each class.\"\"\"\n",
        "    counter = Counter(y)\n",
        "    for cls, count in counter.items():\n",
        "        print(f\"Class {cls}: {count} samples\")\n",
        "\n",
        "if __name__ == \"__main__\":\n",
        "    X, y = create_imbalanced_dataset(n_samples=1000, imbalance_ratio=0.05, random_state=0)\n",
        "    print(\"Class distribution in generated dataset:\")\n",
        "    print_class_distribution(y)\n"
      ],
      "metadata": {
        "colab": {
          "base_uri": "https://localhost:8080/"
        },
        "id": "emdS1GchEb75",
        "outputId": "b1d4c936-0805-4b75-ceec-72df48442a8d"
      },
      "execution_count": 1,
      "outputs": [
        {
          "output_type": "stream",
          "name": "stdout",
          "text": [
            "Class distribution in generated dataset:\n",
            "Class 0: 950 samples\n",
            "Class 1: 50 samples\n"
          ]
        }
      ]
    },
    {
      "cell_type": "markdown",
      "source": [
        "7. Implement one-hot encoding using pandas for the following list of colors:\n",
        "['Red', 'Green', 'Blue', 'Green', 'Red']. Print the resulting dataframe."
      ],
      "metadata": {
        "id": "vSBubjWQHCa2"
      }
    },
    {
      "cell_type": "code",
      "source": [
        "import pandas as pd\n",
        "\n",
        "# Original list\n",
        "colors = ['Red', 'Green', 'Blue', 'Green', 'Red']\n",
        "\n",
        "# Create a DataFrame\n",
        "df = pd.DataFrame({'Color': colors})\n",
        "\n",
        "# One-hot encode using pandas.get_dummies()\n",
        "df_encoded = pd.get_dummies(df, columns=['Color'], prefix='Color', dtype=int)\n",
        "\n",
        "print(df_encoded)\n"
      ],
      "metadata": {
        "colab": {
          "base_uri": "https://localhost:8080/"
        },
        "id": "8Pz_V7sDHAD8",
        "outputId": "5c21d082-d90a-488f-aa76-eee446597d88"
      },
      "execution_count": 2,
      "outputs": [
        {
          "output_type": "stream",
          "name": "stdout",
          "text": [
            "   Color_Blue  Color_Green  Color_Red\n",
            "0           0            0          1\n",
            "1           0            1          0\n",
            "2           1            0          0\n",
            "3           0            1          0\n",
            "4           0            0          1\n"
          ]
        }
      ]
    },
    {
      "cell_type": "markdown",
      "source": [
        "8. Write a Python script to:\n",
        "● Generate 1000 samples from a normal distribution.\n",
        "● Introduce 50 random missing values.\n",
        "● Fill missing values with the column mean.\n",
        "● Plot a histogram before and after imputation.\n"
      ],
      "metadata": {
        "id": "QG8ro0jSHReM"
      }
    },
    {
      "cell_type": "code",
      "source": [
        "import numpy as np\n",
        "import pandas as pd\n",
        "import matplotlib.pyplot as plt\n",
        "\n",
        "# For reproducibility\n",
        "np.random.seed(0)\n",
        "\n",
        "# 1. Generate 1000 samples from a normal distribution\n",
        "data = np.random.randn(1000)  # mean 0, standard deviation 1\n",
        "\n",
        "# Put into a DataFrame (for easier handling of missingness, etc.)\n",
        "df = pd.DataFrame({'value': data})\n",
        "\n",
        "# 2. Introduce 50 random missing values\n",
        "# Choose 50 unique indices at random\n",
        "missing_indices = np.random.choice(df.index, size=50, replace=False)\n",
        "df.loc[missing_indices, 'value'] = np.nan\n",
        "\n",
        "# 3. Fill missing values with the column mean (imputation)\n",
        "mean_value = df['value'].mean(skipna=True)\n",
        "df_imputed = df.copy()\n",
        "df_imputed['value'] = df_imputed['value'].fillna(mean_value)\n",
        "\n",
        "# 4. Plot histograms before and after imputation\n",
        "\n",
        "fig, axes = plt.subplots(nrows=1, ncols=2, figsize=(12, 5))\n",
        "\n",
        "# Histogram before imputation (with missing values)\n",
        "axes[0].hist(df['value'].dropna(), bins=30, color='skyblue', edgecolor='black')\n",
        "axes[0].set_title('Histogram Before Imputation')\n",
        "axes[0].set_xlabel('Value')\n",
        "axes[0].set_ylabel('Frequency')\n",
        "\n",
        "# Histogram after imputation\n",
        "axes[1].hist(df_imputed['value'], bins=30, color='salmon', edgecolor='black')\n",
        "axes[1].set_title('Histogram After Imputation (mean fill)')\n",
        "axes[1].set_xlabel('Value')\n",
        "axes[1].set_ylabel('Frequency')\n",
        "\n",
        "plt.tight_layout()\n",
        "plt.show()\n"
      ],
      "metadata": {
        "colab": {
          "base_uri": "https://localhost:8080/",
          "height": 507
        },
        "id": "nRDsUPsdHNH9",
        "outputId": "facf0181-7eb0-4637-b077-524c28c024a4"
      },
      "execution_count": 3,
      "outputs": [
        {
          "output_type": "display_data",
          "data": {
            "text/plain": [
              "<Figure size 1200x500 with 2 Axes>"
            ],
            "image/png": "[encoded data removed]"
          },
          "metadata": {}
        }
      ]
    },
    {
      "cell_type": "markdown",
      "source": [
        "9. Implement Min-Max scaling on the following list of numbers [2, 5, 10, 15,\n",
        "20] using sklearn.preprocessing.MinMaxScaler. Print the scaled array.\n"
      ],
      "metadata": {
        "id": "mgqD0fR3HbA0"
      }
    },
    {
      "cell_type": "code",
      "source": [
        "from sklearn.preprocessing import MinMaxScaler\n",
        "import numpy as np\n",
        "\n",
        "# Original data\n",
        "data = np.array([2, 5, 10, 15, 20]).reshape(-1, 1)  # reshape to (n_samples, n_features)\n",
        "\n",
        "# Initialize scaler\n",
        "scaler = MinMaxScaler(feature_range=(0, 1))\n",
        "\n",
        "# Fit & transform\n",
        "scaled_data = scaler.fit_transform(data)\n",
        "\n",
        "print(\"Original data:\", data.flatten())\n",
        "print(\"Scaled data (0-1 range):\", scaled_data.flatten())\n"
      ],
      "metadata": {
        "colab": {
          "base_uri": "https://localhost:8080/"
        },
        "id": "8e2ghSPEHWtF",
        "outputId": "d9fbc312-8f99-481d-f80b-9b120f83a5cf"
      },
      "execution_count": 4,
      "outputs": [
        {
          "output_type": "stream",
          "name": "stdout",
          "text": [
            "Original data: [ 2  5 10 15 20]\n",
            "Scaled data (0-1 range): [0.         0.16666667 0.44444444 0.72222222 1.        ]\n"
          ]
        }
      ]
    },
    {
      "cell_type": "markdown",
      "source": [
        "10. You are working as a data scientist for a retail company. You receive a customer\n",
        "transaction dataset that contains:\n",
        "● Missing ages,\n",
        "● Outliers in transaction amount,\n",
        "● A highly imbalanced target (fraud vs. non-fraud),\n",
        "● Categorical variables like payment method.\n",
        "Explain the step-by-step data preparation plan you’d follow before training a machine learning\n",
        "model. Include how you’d address missing data, outliers, imbalance, and encoding."
      ],
      "metadata": {
        "id": "SwR4Od_YHkwT"
      }
    },
    {
      "cell_type": "markdown",
      "source": [
        "-> Step 1: Handling Missing Data\n",
        "Approach:\n",
        "\n",
        "Numerical Columns (e.g., Age): Impute missing values using the mean or median to maintain distribution integrity.\n",
        "\n",
        "Categorical Columns (e.g., Payment Method): Impute missing values with the mode or introduce a new category like 'Unknown'."
      ],
      "metadata": {
        "id": "JefX1-rhH67F"
      }
    },
    {
      "cell_type": "code",
      "source": [
        "import pandas as pd\n",
        "from sklearn.impute import SimpleImputer\n",
        "\n",
        "# Sample data\n",
        "data = {'age': [25, None, 30, 35, None],\n",
        "        'payment_method': ['Credit Card', 'Debit Card', None, 'Credit Card', 'Debit Card'],\n",
        "        'amount': [100, 200, 150, 300, 250],\n",
        "        'fraud': [0, 1, 0, 0, 1]}\n",
        "\n",
        "df = pd.DataFrame(data)\n",
        "\n",
        "# Impute missing numerical values with mean\n",
        "num_imputer = SimpleImputer(strategy='mean')\n",
        "df['age'] = num_imputer.fit_transform(df[['age']])\n",
        "\n",
        "# Impute missing categorical values with mode\n",
        "cat_imputer = SimpleImputer(strategy='most_frequent')\n",
        "df['payment_method'] = cat_imputer.fit_transform(df[['payment_method']])\n",
        "\n",
        "print(\"Data after handling missing values:\")\n",
        "print(df)\n"
      ],
      "metadata": {
        "colab": {
          "base_uri": "https://localhost:8080/",
          "height": 356
        },
        "id": "qi94b3dlHjcZ",
        "outputId": "2e3d8579-044f-4524-d49c-a4adecb217c2"
      },
      "execution_count": 5,
      "outputs": [
        {
          "output_type": "error",
          "ename": "ValueError",
          "evalue": "2",
          "traceback": [
            "\u001b[0;31m---------------------------------------------------------------------------\u001b[0m",
            "\u001b[0;31mValueError\u001b[0m                                Traceback (most recent call last)",
            "\u001b[0;32m/tmp/ipython-input-608476629.py\u001b[0m in \u001b[0;36m<cell line: 0>\u001b[0;34m()\u001b[0m\n\u001b[1;32m     16\u001b[0m \u001b[0;31m# Impute missing categorical values with mode\u001b[0m\u001b[0;34m\u001b[0m\u001b[0;34m\u001b[0m\u001b[0m\n\u001b[1;32m     17\u001b[0m \u001b[0mcat_imputer\u001b[0m \u001b[0;34m=\u001b[0m \u001b[0mSimpleImputer\u001b[0m\u001b[0;34m(\u001b[0m\u001b[0mstrategy\u001b[0m\u001b[0;34m=\u001b[0m\u001b[0;34m'most_frequent'\u001b[0m\u001b[0;34m)\u001b[0m\u001b[0;34m\u001b[0m\u001b[0;34m\u001b[0m\u001b[0m\n\u001b[0;32m---> 18\u001b[0;31m \u001b[0mdf\u001b[0m\u001b[0;34m[\u001b[0m\u001b[0;34m'payment_method'\u001b[0m\u001b[0;34m]\u001b[0m \u001b[0;34m=\u001b[0m \u001b[0mcat_imputer\u001b[0m\u001b[0;34m.\u001b[0m\u001b[0mfit_transform\u001b[0m\u001b[0;34m(\u001b[0m\u001b[0mdf\u001b[0m\u001b[0;34m[\u001b[0m\u001b[0;34m[\u001b[0m\u001b[0;34m'payment_method'\u001b[0m\u001b[0;34m]\u001b[0m\u001b[0;34m]\u001b[0m\u001b[0;34m)\u001b[0m\u001b[0;34m\u001b[0m\u001b[0;34m\u001b[0m\u001b[0m\n\u001b[0m\u001b[1;32m     19\u001b[0m \u001b[0;34m\u001b[0m\u001b[0m\n\u001b[1;32m     20\u001b[0m \u001b[0mprint\u001b[0m\u001b[0;34m(\u001b[0m\u001b[0;34m\"Data after handling missing values:\"\u001b[0m\u001b[0;34m)\u001b[0m\u001b[0;34m\u001b[0m\u001b[0;34m\u001b[0m\u001b[0m\n",
            "\u001b[0;32m/usr/local/lib/python3.12/dist-packages/pandas/core/frame.py\u001b[0m in \u001b[0;36m__setitem__\u001b[0;34m(self, key, value)\u001b[0m\n\u001b[1;32m   4309\u001b[0m         \u001b[0;32melse\u001b[0m\u001b[0;34m:\u001b[0m\u001b[0;34m\u001b[0m\u001b[0;34m\u001b[0m\u001b[0m\n\u001b[1;32m   4310\u001b[0m             \u001b[0;31m# set column\u001b[0m\u001b[0;34m\u001b[0m\u001b[0;34m\u001b[0m\u001b[0m\n\u001b[0;32m-> 4311\u001b[0;31m             \u001b[0mself\u001b[0m\u001b[0;34m.\u001b[0m\u001b[0m_set_item\u001b[0m\u001b[0;34m(\u001b[0m\u001b[0mkey\u001b[0m\u001b[0;34m,\u001b[0m \u001b[0mvalue\u001b[0m\u001b[0;34m)\u001b[0m\u001b[0;34m\u001b[0m\u001b[0;34m\u001b[0m\u001b[0m\n\u001b[0m\u001b[1;32m   4312\u001b[0m \u001b[0;34m\u001b[0m\u001b[0m\n\u001b[1;32m   4313\u001b[0m     \u001b[0;32mdef\u001b[0m \u001b[0m_setitem_slice\u001b[0m\u001b[0;34m(\u001b[0m\u001b[0mself\u001b[0m\u001b[0;34m,\u001b[0m \u001b[0mkey\u001b[0m\u001b[0;34m:\u001b[0m \u001b[0mslice\u001b[0m\u001b[0;34m,\u001b[0m \u001b[0mvalue\u001b[0m\u001b[0;34m)\u001b[0m \u001b[0;34m->\u001b[0m \u001b[0;32mNone\u001b[0m\u001b[0;34m:\u001b[0m\u001b[0;34m\u001b[0m\u001b[0;34m\u001b[0m\u001b[0m\n",
            "\u001b[0;32m/usr/local/lib/python3.12/dist-packages/pandas/core/frame.py\u001b[0m in \u001b[0;36m_set_item\u001b[0;34m(self, key, value)\u001b[0m\n\u001b[1;32m   4522\u001b[0m         \u001b[0mensure\u001b[0m \u001b[0mhomogeneity\u001b[0m\u001b[0;34m.\u001b[0m\u001b[0;34m\u001b[0m\u001b[0;34m\u001b[0m\u001b[0m\n\u001b[1;32m   4523\u001b[0m         \"\"\"\n\u001b[0;32m-> 4524\u001b[0;31m         \u001b[0mvalue\u001b[0m\u001b[0;34m,\u001b[0m \u001b[0mrefs\u001b[0m \u001b[0;34m=\u001b[0m \u001b[0mself\u001b[0m\u001b[0;34m.\u001b[0m\u001b[0m_sanitize_column\u001b[0m\u001b[0;34m(\u001b[0m\u001b[0mvalue\u001b[0m\u001b[0;34m)\u001b[0m\u001b[0;34m\u001b[0m\u001b[0;34m\u001b[0m\u001b[0m\n\u001b[0m\u001b[1;32m   4525\u001b[0m \u001b[0;34m\u001b[0m\u001b[0m\n\u001b[1;32m   4526\u001b[0m         if (\n",
            "\u001b[0;32m/usr/local/lib/python3.12/dist-packages/pandas/core/frame.py\u001b[0m in \u001b[0;36m_sanitize_column\u001b[0;34m(self, value)\u001b[0m\n\u001b[1;32m   5265\u001b[0m         \u001b[0;32mif\u001b[0m \u001b[0mis_list_like\u001b[0m\u001b[0;34m(\u001b[0m\u001b[0mvalue\u001b[0m\u001b[0;34m)\u001b[0m\u001b[0;34m:\u001b[0m\u001b[0;34m\u001b[0m\u001b[0;34m\u001b[0m\u001b[0m\n\u001b[1;32m   5266\u001b[0m             \u001b[0mcom\u001b[0m\u001b[0;34m.\u001b[0m\u001b[0mrequire_length_match\u001b[0m\u001b[0;34m(\u001b[0m\u001b[0mvalue\u001b[0m\u001b[0;34m,\u001b[0m \u001b[0mself\u001b[0m\u001b[0;34m.\u001b[0m\u001b[0mindex\u001b[0m\u001b[0;34m)\u001b[0m\u001b[0;34m\u001b[0m\u001b[0;34m\u001b[0m\u001b[0m\n\u001b[0;32m-> 5267\u001b[0;31m         \u001b[0marr\u001b[0m \u001b[0;34m=\u001b[0m \u001b[0msanitize_array\u001b[0m\u001b[0;34m(\u001b[0m\u001b[0mvalue\u001b[0m\u001b[0;34m,\u001b[0m \u001b[0mself\u001b[0m\u001b[0;34m.\u001b[0m\u001b[0mindex\u001b[0m\u001b[0;34m,\u001b[0m \u001b[0mcopy\u001b[0m\u001b[0;34m=\u001b[0m\u001b[0;32mTrue\u001b[0m\u001b[0;34m,\u001b[0m \u001b[0mallow_2d\u001b[0m\u001b[0;34m=\u001b[0m\u001b[0;32mTrue\u001b[0m\u001b[0;34m)\u001b[0m\u001b[0;34m\u001b[0m\u001b[0;34m\u001b[0m\u001b[0m\n\u001b[0m\u001b[1;32m   5268\u001b[0m         if (\n\u001b[1;32m   5269\u001b[0m             \u001b[0misinstance\u001b[0m\u001b[0;34m(\u001b[0m\u001b[0mvalue\u001b[0m\u001b[0;34m,\u001b[0m \u001b[0mIndex\u001b[0m\u001b[0;34m)\u001b[0m\u001b[0;34m\u001b[0m\u001b[0;34m\u001b[0m\u001b[0m\n",
            "\u001b[0;32m/usr/local/lib/python3.12/dist-packages/pandas/core/construction.py\u001b[0m in \u001b[0;36msanitize_array\u001b[0;34m(data, index, dtype, copy, allow_2d)\u001b[0m\n\u001b[1;32m    604\u001b[0m             \u001b[0msubarr\u001b[0m \u001b[0;34m=\u001b[0m \u001b[0mdata\u001b[0m\u001b[0;34m\u001b[0m\u001b[0;34m\u001b[0m\u001b[0m\n\u001b[1;32m    605\u001b[0m             \u001b[0;32mif\u001b[0m \u001b[0mdata\u001b[0m\u001b[0;34m.\u001b[0m\u001b[0mdtype\u001b[0m \u001b[0;34m==\u001b[0m \u001b[0mobject\u001b[0m\u001b[0;34m:\u001b[0m\u001b[0;34m\u001b[0m\u001b[0;34m\u001b[0m\u001b[0m\n\u001b[0;32m--> 606\u001b[0;31m                 \u001b[0msubarr\u001b[0m \u001b[0;34m=\u001b[0m \u001b[0mmaybe_infer_to_datetimelike\u001b[0m\u001b[0;34m(\u001b[0m\u001b[0mdata\u001b[0m\u001b[0;34m)\u001b[0m\u001b[0;34m\u001b[0m\u001b[0;34m\u001b[0m\u001b[0m\n\u001b[0m\u001b[1;32m    607\u001b[0m                 if (\n\u001b[1;32m    608\u001b[0m                     \u001b[0mobject_index\u001b[0m\u001b[0;34m\u001b[0m\u001b[0;34m\u001b[0m\u001b[0m\n",
            "\u001b[0;32m/usr/local/lib/python3.12/dist-packages/pandas/core/dtypes/cast.py\u001b[0m in \u001b[0;36mmaybe_infer_to_datetimelike\u001b[0;34m(value)\u001b[0m\n\u001b[1;32m   1180\u001b[0m     \u001b[0;32mif\u001b[0m \u001b[0mvalue\u001b[0m\u001b[0;34m.\u001b[0m\u001b[0mndim\u001b[0m \u001b[0;34m!=\u001b[0m \u001b[0;36m1\u001b[0m\u001b[0;34m:\u001b[0m\u001b[0;34m\u001b[0m\u001b[0;34m\u001b[0m\u001b[0m\n\u001b[1;32m   1181\u001b[0m         \u001b[0;31m# Caller is responsible\u001b[0m\u001b[0;34m\u001b[0m\u001b[0;34m\u001b[0m\u001b[0m\n\u001b[0;32m-> 1182\u001b[0;31m         \u001b[0;32mraise\u001b[0m \u001b[0mValueError\u001b[0m\u001b[0;34m(\u001b[0m\u001b[0mvalue\u001b[0m\u001b[0;34m.\u001b[0m\u001b[0mndim\u001b[0m\u001b[0;34m)\u001b[0m  \u001b[0;31m# pragma: no cover\u001b[0m\u001b[0;34m\u001b[0m\u001b[0;34m\u001b[0m\u001b[0m\n\u001b[0m\u001b[1;32m   1183\u001b[0m \u001b[0;34m\u001b[0m\u001b[0m\n\u001b[1;32m   1184\u001b[0m     \u001b[0;32mif\u001b[0m \u001b[0;32mnot\u001b[0m \u001b[0mlen\u001b[0m\u001b[0;34m(\u001b[0m\u001b[0mvalue\u001b[0m\u001b[0;34m)\u001b[0m\u001b[0;34m:\u001b[0m\u001b[0;34m\u001b[0m\u001b[0;34m\u001b[0m\u001b[0m\n",
            "\u001b[0;31mValueError\u001b[0m: 2"
          ]
        }
      ]
    },
    {
      "cell_type": "markdown",
      "source": [
        "Step 2: Addressing Outliers in Transaction Amount\n",
        "Approach:\n",
        "\n",
        "Detection: Use Z-scores or IQR (Interquartile Range) to identify outliers.\n",
        "\n",
        "Handling: Depending on business context:\n",
        "\n",
        "Remove: If outliers are errors.\n",
        "\n",
        "Cap: Apply Winsorization to limit extreme values.\n",
        "\n",
        "Transform: Use logarithmic scaling to reduce skewness."
      ],
      "metadata": {
        "id": "mjWXW4NPIAVE"
      }
    },
    {
      "cell_type": "code",
      "source": [
        "import numpy as np\n",
        "from scipy import stats\n",
        "\n",
        "# Calculate Z-scores\n",
        "z_scores = np.abs(stats.zscore(df['amount']))\n",
        "\n",
        "# Define a threshold\n",
        "threshold = 3\n",
        "\n",
        "# Identify outliers\n",
        "outliers = np.where(z_scores > threshold)\n",
        "\n",
        "# Handle outliers (e.g., cap them at a certain value)\n",
        "df['amount'] = np.where(df['amount'] > 300, 300, df['amount'])\n",
        "\n",
        "print(\"\\nData after handling outliers:\")\n",
        "print(df)\n"
      ],
      "metadata": {
        "colab": {
          "base_uri": "https://localhost:8080/"
        },
        "id": "1kRd2IMsIKCO",
        "outputId": "9f30bc52-0408-4525-eb47-d9e9f14f7d80"
      },
      "execution_count": 6,
      "outputs": [
        {
          "output_type": "stream",
          "name": "stdout",
          "text": [
            "\n",
            "Data after handling outliers:\n",
            "    age payment_method  amount  fraud\n",
            "0  25.0    Credit Card     100      0\n",
            "1  30.0     Debit Card     200      1\n",
            "2  30.0           None     150      0\n",
            "3  35.0    Credit Card     300      0\n",
            "4  30.0     Debit Card     250      1\n"
          ]
        }
      ]
    },
    {
      "cell_type": "markdown",
      "source": [
        "Step 3: Handling Class Imbalance (Fraud vs. Non-Fraud)\n",
        "Approach:\n",
        "\n",
        "Resampling Techniques:\n",
        "\n",
        "Oversampling: Use SMOTE (Synthetic Minority Over-sampling Technique) to generate synthetic samples for the minority class.\n",
        "\n",
        "Undersampling: Randomly reduce the majority class samples.\n",
        "\n",
        "Algorithm-Level Solutions: Utilize models that handle class imbalance internally, such as Balanced Random Forests or XGBoost with scale_pos_weight."
      ],
      "metadata": {
        "id": "2IGrTT66IMZ0"
      }
    },
    {
      "cell_type": "code",
      "source": [
        "from imblearn.over_sampling import SMOTE\n",
        "from collections import Counter\n",
        "\n",
        "# Sample data\n",
        "X = df[['age', 'amount']]  # Features\n",
        "y = df['fraud']            # Target\n",
        "\n",
        "# Apply SMOTE\n",
        "smote = SMOTE(random_state=42)\n",
        "X_res, y_res = smote.fit_resample(X, y)\n",
        "\n",
        "print(\"\\nClass distribution after SMOTE:\")\n",
        "print(Counter(y_res))\n"
      ],
      "metadata": {
        "colab": {
          "base_uri": "https://localhost:8080/",
          "height": 356
        },
        "id": "jd4Y97-wH-zr",
        "outputId": "cbf2b25d-a55a-4225-87c8-fb8c5f2919cb"
      },
      "execution_count": 7,
      "outputs": [
        {
          "output_type": "error",
          "ename": "ValueError",
          "evalue": "Expected n_neighbors <= n_samples_fit, but n_neighbors = 6, n_samples_fit = 2, n_samples = 2",
          "traceback": [
            "\u001b[0;31m---------------------------------------------------------------------------\u001b[0m",
            "\u001b[0;31mValueError\u001b[0m                                Traceback (most recent call last)",
            "\u001b[0;32m/tmp/ipython-input-1505466146.py\u001b[0m in \u001b[0;36m<cell line: 0>\u001b[0;34m()\u001b[0m\n\u001b[1;32m      8\u001b[0m \u001b[0;31m# Apply SMOTE\u001b[0m\u001b[0;34m\u001b[0m\u001b[0;34m\u001b[0m\u001b[0m\n\u001b[1;32m      9\u001b[0m \u001b[0msmote\u001b[0m \u001b[0;34m=\u001b[0m \u001b[0mSMOTE\u001b[0m\u001b[0;34m(\u001b[0m\u001b[0mrandom_state\u001b[0m\u001b[0;34m=\u001b[0m\u001b[0;36m42\u001b[0m\u001b[0;34m)\u001b[0m\u001b[0;34m\u001b[0m\u001b[0;34m\u001b[0m\u001b[0m\n\u001b[0;32m---> 10\u001b[0;31m \u001b[0mX_res\u001b[0m\u001b[0;34m,\u001b[0m \u001b[0my_res\u001b[0m \u001b[0;34m=\u001b[0m \u001b[0msmote\u001b[0m\u001b[0;34m.\u001b[0m\u001b[0mfit_resample\u001b[0m\u001b[0;34m(\u001b[0m\u001b[0mX\u001b[0m\u001b[0;34m,\u001b[0m \u001b[0my\u001b[0m\u001b[0;34m)\u001b[0m\u001b[0;34m\u001b[0m\u001b[0;34m\u001b[0m\u001b[0m\n\u001b[0m\u001b[1;32m     11\u001b[0m \u001b[0;34m\u001b[0m\u001b[0m\n\u001b[1;32m     12\u001b[0m \u001b[0mprint\u001b[0m\u001b[0;34m(\u001b[0m\u001b[0;34m\"\\nClass distribution after SMOTE:\"\u001b[0m\u001b[0;34m)\u001b[0m\u001b[0;34m\u001b[0m\u001b[0;34m\u001b[0m\u001b[0m\n",
            "\u001b[0;32m/usr/local/lib/python3.12/dist-packages/imblearn/base.py\u001b[0m in \u001b[0;36mfit_resample\u001b[0;34m(self, X, y, **params)\u001b[0m\n\u001b[1;32m    200\u001b[0m             \u001b[0mThe\u001b[0m \u001b[0mcorresponding\u001b[0m \u001b[0mlabel\u001b[0m \u001b[0mof\u001b[0m\u001b[0;31m \u001b[0m\u001b[0;31m`\u001b[0m\u001b[0mX_resampled\u001b[0m\u001b[0;31m`\u001b[0m\u001b[0;34m.\u001b[0m\u001b[0;34m\u001b[0m\u001b[0;34m\u001b[0m\u001b[0m\n\u001b[1;32m    201\u001b[0m         \"\"\"\n\u001b[0;32m--> 202\u001b[0;31m         \u001b[0;32mreturn\u001b[0m \u001b[0msuper\u001b[0m\u001b[0;34m(\u001b[0m\u001b[0;34m)\u001b[0m\u001b[0;34m.\u001b[0m\u001b[0mfit_resample\u001b[0m\u001b[0;34m(\u001b[0m\u001b[0mX\u001b[0m\u001b[0;34m,\u001b[0m \u001b[0my\u001b[0m\u001b[0;34m,\u001b[0m \u001b[0;34m**\u001b[0m\u001b[0mparams\u001b[0m\u001b[0;34m)\u001b[0m\u001b[0;34m\u001b[0m\u001b[0;34m\u001b[0m\u001b[0m\n\u001b[0m\u001b[1;32m    203\u001b[0m \u001b[0;34m\u001b[0m\u001b[0m\n\u001b[1;32m    204\u001b[0m     \u001b[0;32mdef\u001b[0m \u001b[0m_more_tags\u001b[0m\u001b[0;34m(\u001b[0m\u001b[0mself\u001b[0m\u001b[0;34m)\u001b[0m\u001b[0;34m:\u001b[0m\u001b[0;34m\u001b[0m\u001b[0;34m\u001b[0m\u001b[0m\n",
            "\u001b[0;32m/usr/local/lib/python3.12/dist-packages/sklearn/base.py\u001b[0m in \u001b[0;36mwrapper\u001b[0;34m(estimator, *args, **kwargs)\u001b[0m\n\u001b[1;32m   1387\u001b[0m                 )\n\u001b[1;32m   1388\u001b[0m             ):\n\u001b[0;32m-> 1389\u001b[0;31m                 \u001b[0;32mreturn\u001b[0m \u001b[0mfit_method\u001b[0m\u001b[0;34m(\u001b[0m\u001b[0mestimator\u001b[0m\u001b[0;34m,\u001b[0m \u001b[0;34m*\u001b[0m\u001b[0margs\u001b[0m\u001b[0;34m,\u001b[0m \u001b[0;34m**\u001b[0m\u001b[0mkwargs\u001b[0m\u001b[0;34m)\u001b[0m\u001b[0;34m\u001b[0m\u001b[0;34m\u001b[0m\u001b[0m\n\u001b[0m\u001b[1;32m   1390\u001b[0m \u001b[0;34m\u001b[0m\u001b[0m\n\u001b[1;32m   1391\u001b[0m         \u001b[0;32mreturn\u001b[0m \u001b[0mwrapper\u001b[0m\u001b[0;34m\u001b[0m\u001b[0;34m\u001b[0m\u001b[0m\n",
            "\u001b[0;32m/usr/local/lib/python3.12/dist-packages/imblearn/base.py\u001b[0m in \u001b[0;36mfit_resample\u001b[0;34m(self, X, y, **params)\u001b[0m\n\u001b[1;32m    103\u001b[0m         )\n\u001b[1;32m    104\u001b[0m \u001b[0;34m\u001b[0m\u001b[0m\n\u001b[0;32m--> 105\u001b[0;31m         \u001b[0moutput\u001b[0m \u001b[0;34m=\u001b[0m \u001b[0mself\u001b[0m\u001b[0;34m.\u001b[0m\u001b[0m_fit_resample\u001b[0m\u001b[0;34m(\u001b[0m\u001b[0mX\u001b[0m\u001b[0;34m,\u001b[0m \u001b[0my\u001b[0m\u001b[0;34m,\u001b[0m \u001b[0;34m**\u001b[0m\u001b[0mparams\u001b[0m\u001b[0;34m)\u001b[0m\u001b[0;34m\u001b[0m\u001b[0;34m\u001b[0m\u001b[0m\n\u001b[0m\u001b[1;32m    106\u001b[0m \u001b[0;34m\u001b[0m\u001b[0m\n\u001b[1;32m    107\u001b[0m         y_ = (\n",
            "\u001b[0;32m/usr/local/lib/python3.12/dist-packages/imblearn/over_sampling/_smote/base.py\u001b[0m in \u001b[0;36m_fit_resample\u001b[0;34m(self, X, y)\u001b[0m\n\u001b[1;32m    357\u001b[0m \u001b[0;34m\u001b[0m\u001b[0m\n\u001b[1;32m    358\u001b[0m             \u001b[0mself\u001b[0m\u001b[0;34m.\u001b[0m\u001b[0mnn_k_\u001b[0m\u001b[0;34m.\u001b[0m\u001b[0mfit\u001b[0m\u001b[0;34m(\u001b[0m\u001b[0mX_class\u001b[0m\u001b[0;34m)\u001b[0m\u001b[0;34m\u001b[0m\u001b[0;34m\u001b[0m\u001b[0m\n\u001b[0;32m--> 359\u001b[0;31m             \u001b[0mnns\u001b[0m \u001b[0;34m=\u001b[0m \u001b[0mself\u001b[0m\u001b[0;34m.\u001b[0m\u001b[0mnn_k_\u001b[0m\u001b[0;34m.\u001b[0m\u001b[0mkneighbors\u001b[0m\u001b[0;34m(\u001b[0m\u001b[0mX_class\u001b[0m\u001b[0;34m,\u001b[0m \u001b[0mreturn_distance\u001b[0m\u001b[0;34m=\u001b[0m\u001b[0;32mFalse\u001b[0m\u001b[0;34m)\u001b[0m\u001b[0;34m[\u001b[0m\u001b[0;34m:\u001b[0m\u001b[0;34m,\u001b[0m \u001b[0;36m1\u001b[0m\u001b[0;34m:\u001b[0m\u001b[0;34m]\u001b[0m\u001b[0;34m\u001b[0m\u001b[0;34m\u001b[0m\u001b[0m\n\u001b[0m\u001b[1;32m    360\u001b[0m             X_new, y_new = self._make_samples(\n\u001b[1;32m    361\u001b[0m                 \u001b[0mX_class\u001b[0m\u001b[0;34m,\u001b[0m \u001b[0my\u001b[0m\u001b[0;34m.\u001b[0m\u001b[0mdtype\u001b[0m\u001b[0;34m,\u001b[0m \u001b[0mclass_sample\u001b[0m\u001b[0;34m,\u001b[0m \u001b[0mX_class\u001b[0m\u001b[0;34m,\u001b[0m \u001b[0mnns\u001b[0m\u001b[0;34m,\u001b[0m \u001b[0mn_samples\u001b[0m\u001b[0;34m,\u001b[0m \u001b[0;36m1.0\u001b[0m\u001b[0;34m\u001b[0m\u001b[0;34m\u001b[0m\u001b[0m\n",
            "\u001b[0;32m/usr/local/lib/python3.12/dist-packages/sklearn/neighbors/_base.py\u001b[0m in \u001b[0;36mkneighbors\u001b[0;34m(self, X, n_neighbors, return_distance)\u001b[0m\n\u001b[1;32m    852\u001b[0m             \u001b[0;32melse\u001b[0m\u001b[0;34m:\u001b[0m\u001b[0;34m\u001b[0m\u001b[0;34m\u001b[0m\u001b[0m\n\u001b[1;32m    853\u001b[0m                 \u001b[0minequality_str\u001b[0m \u001b[0;34m=\u001b[0m \u001b[0;34m\"n_neighbors <= n_samples_fit\"\u001b[0m\u001b[0;34m\u001b[0m\u001b[0;34m\u001b[0m\u001b[0m\n\u001b[0;32m--> 854\u001b[0;31m             raise ValueError(\n\u001b[0m\u001b[1;32m    855\u001b[0m                 \u001b[0;34mf\"Expected {inequality_str}, but \"\u001b[0m\u001b[0;34m\u001b[0m\u001b[0;34m\u001b[0m\u001b[0m\n\u001b[1;32m    856\u001b[0m                 \u001b[0;34mf\"n_neighbors = {n_neighbors}, n_samples_fit = {n_samples_fit}, \"\u001b[0m\u001b[0;34m\u001b[0m\u001b[0;34m\u001b[0m\u001b[0m\n",
            "\u001b[0;31mValueError\u001b[0m: Expected n_neighbors <= n_samples_fit, but n_neighbors = 6, n_samples_fit = 2, n_samples = 2"
          ]
        }
      ]
    },
    {
      "cell_type": "markdown",
      "source": [
        "Step 4: Encoding Categorical Variables (e.g., Payment Method)\n",
        "Approach:\n",
        "\n",
        "One-Hot Encoding: For nominal variables like 'payment_method', create binary columns for each category.\n",
        "\n",
        "Label Encoding: For ordinal variables, assign integer labels to categories."
      ],
      "metadata": {
        "id": "u9lYe2GDIT0f"
      }
    },
    {
      "cell_type": "code",
      "source": [
        "# One-Hot Encoding for 'payment_method'\n",
        "df_encoded = pd.get_dummies(df, columns=['payment_method'], drop_first=True)\n",
        "\n",
        "print(\"\\nData after One-Hot Encoding:\")\n",
        "print(df_encoded)\n"
      ],
      "metadata": {
        "colab": {
          "base_uri": "https://localhost:8080/"
        },
        "id": "AqrRGMNYIQjq",
        "outputId": "995e2891-ce62-4478-a02c-025af1133139"
      },
      "execution_count": 8,
      "outputs": [
        {
          "output_type": "stream",
          "name": "stdout",
          "text": [
            "\n",
            "Data after One-Hot Encoding:\n",
            "    age  amount  fraud  payment_method_Debit Card\n",
            "0  25.0     100      0                      False\n",
            "1  30.0     200      1                       True\n",
            "2  30.0     150      0                      False\n",
            "3  35.0     300      0                      False\n",
            "4  30.0     250      1                       True\n"
          ]
        }
      ]
    },
    {
      "cell_type": "markdown",
      "source": [
        "Step 5: Scaling Numerical Features\n",
        "Approach:\n",
        "\n",
        "Standardization: Scale features to have zero mean and unit variance using StandardScaler.\n",
        "\n",
        "Normalization: Scale features to a [0, 1] range using MinMaxScaler."
      ],
      "metadata": {
        "id": "cdNfsrarIWiG"
      }
    },
    {
      "cell_type": "code",
      "source": [
        "from sklearn.preprocessing import StandardScaler, MinMaxScaler\n",
        "\n",
        "# Standardization\n",
        "scaler = StandardScaler()\n",
        "df_encoded[['age', 'amount']] = scaler.fit_transform(df_encoded[['age', 'amount']])\n",
        "\n",
        "# Alternatively, Min-Max Scaling\n",
        "# scaler = MinMaxScaler()\n",
        "# df_encoded[['age', 'amount']] = scaler.fit_transform(df_encoded[['age', 'amount']])\n",
        "\n",
        "print(\"\\nData after scaling:\")\n",
        "print(df_encoded)\n"
      ],
      "metadata": {
        "colab": {
          "base_uri": "https://localhost:8080/"
        },
        "id": "9PB3K-f7IVgz",
        "outputId": "b47c2923-0125-4ee3-815d-d264402a287d"
      },
      "execution_count": 9,
      "outputs": [
        {
          "output_type": "stream",
          "name": "stdout",
          "text": [
            "\n",
            "Data after scaling:\n",
            "        age    amount  fraud  payment_method_Debit Card\n",
            "0 -1.581139 -1.414214      0                      False\n",
            "1  0.000000  0.000000      1                       True\n",
            "2  0.000000 -0.707107      0                      False\n",
            "3  1.581139  1.414214      0                      False\n",
            "4  0.000000  0.707107      1                       True\n"
          ]
        }
      ]
    },
    {
      "cell_type": "code",
      "source": [],
      "metadata": {
        "id": "DmCxusIIIaVS"
      },
      "execution_count": null,
      "outputs": []
    }
  ]
}