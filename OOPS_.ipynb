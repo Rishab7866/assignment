{
  "nbformat": 4,
  "nbformat_minor": 0,
  "metadata": {
    "colab": {
      "provenance": []
    },
    "kernelspec": {
      "name": "python3",
      "display_name": "Python 3"
    },
    "language_info": {
      "name": "python"
    }
  },
  "cells": [
    {
      "cell_type": "markdown",
      "source": [
        "# OPPS THEORY ASSIGNMENT"
      ],
      "metadata": {
        "id": "bqB1Y-K58625"
      }
    },
    {
      "cell_type": "markdown",
      "source": [
        "## 1. What is Object-Oriented Programming (OOP)?\n",
        " -> Object-Oriented Programming (OOP) is a programming paradigm that structures software design around objects—entities that encapsulate both data and the functions that operate on that data. This approach mirrors real-world entities, making complex software systems more modular, scalable, and easier to maintain."
      ],
      "metadata": {
        "id": "aTqERAuA9ApN"
      }
    },
    {
      "cell_type": "markdown",
      "source": [
        "## 2.  What is a class in OOP ?\n",
        "->A class in Object-Oriented Programming (OOP) is fundamentally a blueprint or template used to create objects. It defines the data (attributes or fields) and behavior (methods or functions) that all instances of that class will have."
      ],
      "metadata": {
        "id": "rjAAIjXP9X_F"
      }
    },
    {
      "cell_type": "markdown",
      "source": [
        "## 3. What is an object in OOP?\n",
        "->An object in Object‑Oriented Programming (OOP) is simply a concrete instance of a class—a self-contained entity that holds both data and behavior."
      ],
      "metadata": {
        "id": "WeXP7xnO9lth"
      }
    },
    {
      "cell_type": "markdown",
      "source": [
        "## 4. What is the difference between abstraction and encapsulation?\n",
        "-> Abstraction\n",
        "\n",
        "Focuses on what the object does, not how it does it.\n",
        "\n",
        "Abstracts away details using interfaces or abstract classes.\n",
        "\n",
        "Example: A driver uses a car without needing to know how its engine works.\n",
        "\n",
        "Encapsulation\n",
        "\n",
        "Focuses on hiding internal state and implementation details.\n",
        "\n",
        "Bundles data and methods within a class, exposing only what’s needed.\n",
        "\n",
        "Example: A bank account uses private balance field and public deposit()/getBalance() methods."
      ],
      "metadata": {
        "id": "Vby6PSwV96Kr"
      }
    },
    {
      "cell_type": "markdown",
      "source": [
        "## 5.What are dunder methods in Python?\n",
        " -> Dunder methods in Python—also called magic methods or special methods—are predefined methods whose names begin and end with double underscores (e.g. __init__, __str__, __add__). These allow you to define how your custom objects behave under built-in operations like object construction, string conversion, arithmetic, comparisons, item access, iteration, context management, and more."
      ],
      "metadata": {
        "id": "J4NFHhOs-Mcq"
      }
    },
    {
      "cell_type": "markdown",
      "source": [
        "## 6. Explain the concept of inheritance in OOP.\n",
        "-> Inheritance lets you create a new class (a subclass or derived class) based on an existing one (a superclass or base class). The subclass inherits attributes and methods of the superclass, forming an “is‑a” relationship—for example, Dog is-a Animal."
      ],
      "metadata": {
        "id": "RwC_I7ga-Z9M"
      }
    },
    {
      "cell_type": "markdown",
      "source": [
        "##7. What is polymorphism in OOP?\n",
        "-> Polymorphism—literally “many forms”—is the ability in OOP for a single interface (method or function call) to operate on different types of objects and adapt behavior according to the actual type at runtime or compile time. It enables objects of various classes to be treated uniformly through a common interface."
      ],
      "metadata": {
        "id": "bAYq6gZy-pOO"
      }
    },
    {
      "cell_type": "markdown",
      "source": [
        "## 8. How is encapsulation achieved in Python?\n",
        "->Encapsulation in Python is the practice of bundling an object’s data (attributes) and methods together and controlling access to its internal state—ensuring that an object manages its own behavior and protecting its state from inconsistent or unintended use."
      ],
      "metadata": {
        "id": "s0J9FxTN-4BU"
      }
    },
    {
      "cell_type": "markdown",
      "source": [
        "##9. What is a constructor in Python?\n",
        "-> In Python, a constructor refers to a special method in a class that is automatically invoked when a new instance (object) is created. Its primary role is to initialize the state of that new object.\n"
      ],
      "metadata": {
        "id": "iHrUwaP-_FBF"
      }
    },
    {
      "cell_type": "markdown",
      "source": [
        "## 10. What are class and static methods in Python?\n",
        "-> Class methods receive cls and can access/modify the class; great for factory methods and class-level logic.\n",
        "\n",
        "Static methods are self-contained routines that don’t touch class or instance internals; ideal for utility functionality within the class’s namespace."
      ],
      "metadata": {
        "id": "emi5SUEE_U48"
      }
    },
    {
      "cell_type": "markdown",
      "source": [
        "## 11. What is method overloading in Python?\n",
        "-> Python does not support traditional method overloading—that is, defining multiple methods with the same name but different parameter lists will only keep the last definition, overriding the previous ones.\n"
      ],
      "metadata": {
        "id": "ifH2Ocyl_i9F"
      }
    },
    {
      "cell_type": "markdown",
      "source": [
        "## 12. What is method overriding in OOP?\n",
        "-> Method overriding occurs when a subclass defines a method with the same name, same parameters/signature, and same return type as a method in its superclass, effectively replacing the superclass behavior in that subclass."
      ],
      "metadata": {
        "id": "PoltCxVm_wDA"
      }
    },
    {
      "cell_type": "markdown",
      "source": [
        "## 13. What is a property decorator in Python?\n",
        "-> In Python, the @property decorator is a powerful tool that allows you to define methods that are accessed like attributes. It provides a clean way to add logic (such as validation or computed values) when getting, setting, or deleting an attribute—without changing how it's accessed externally."
      ],
      "metadata": {
        "id": "cTwsbZo-_6-I"
      }
    },
    {
      "cell_type": "markdown",
      "source": [
        "## 14. Why is polymorphism important in OOP?\n",
        "-> Polymorphism is a crucial concept in object‑oriented programming (OOP) because it allows your code to treat different objects through a common interface, enabling your application to be flexible, scalable, and maintainable.\n"
      ],
      "metadata": {
        "id": "I8ORnnEjAGSr"
      }
    },
    {
      "cell_type": "markdown",
      "source": [
        "## 15. What is an abstract class in Python?\n",
        " -> An abstract class in Python is a special kind of class that cannot be instantiated directly and serves as a blueprint (or interface) for other classes. It allows you to define common APIs and enforce that subclasses provide implementations for specific behaviors."
      ],
      "metadata": {
        "id": "qtjLG-7yATiW"
      }
    },
    {
      "cell_type": "markdown",
      "source": [
        "## 16. What are the advantages of OOP?\n",
        "-> 1. Extensibility and Flexibility\n",
        "Polymorphism enables you to treat different subclasses through a shared base class or interface. You can later introduce new subclasses without modifying existing code thanks to dynamic dispatch at runtime, supporting the open/closed principle.\n",
        "\n",
        "2. Reduced Code Complexity\n",
        "Instead of chains of conditional checks (if, switch), polymorphism allows each object to define its own behavior. This keeps high-level logic clean and avoids duplicate logic.\n",
        "\n",
        "\n",
        "3. Loose Coupling & Clean Design\n",
        "When code depends on abstractions (interfaces or base classes), not concrete implementations, modules remain decoupled and easier to maintain or swap out.\n",
        "\n",
        "\n",
        "4. Better Code Reusability through Inheritance\n",
        "Shared behavior can be defined once in a parent class, and reused and customized in child classes through polymorphism."
      ],
      "metadata": {
        "id": "g2StBcIOAhUW"
      }
    },
    {
      "cell_type": "markdown",
      "source": [
        "## 17. What is the difference between a class variable and an instance variable?\n",
        "-> se class variables when you need a value or state shared across all instances (e.g. default settings, counters, constants)\n",
        "\n",
        "\n",
        "Use instance variables for data that is specific to each object (e.g. user data, object configuration, stateful values)\n"
      ],
      "metadata": {
        "id": "QLtAlftVA2Q2"
      }
    },
    {
      "cell_type": "markdown",
      "source": [
        "## 18. What is multiple inheritance in Python?\n",
        "-> A class can inherit from more than one parent class, gaining access to attributes and methods from all parents."
      ],
      "metadata": {
        "id": "CS-oaP11BGK_"
      }
    },
    {
      "cell_type": "markdown",
      "source": [
        "## 19. Explain the purpose of ‘’__str__’ and ‘__repr__’ ‘ methods in Python.\n",
        "-> __repr__: Formal, unambiguous, aimed at developers—info-rich and often eval-reproducible.\n",
        "\n",
        "__str__: Informal, readable, aimed at users."
      ],
      "metadata": {
        "id": "viF4-yaALiEZ"
      }
    },
    {
      "cell_type": "markdown",
      "source": [
        "## 20. What is the significance of the ‘super()’ function in Python?\n",
        "-> The super() function in Python is a built-in utility that returns a proxy object bound to the next class in the Method Resolution Order (MRO). It enables subclasses to call inherited methods without hard-coding the parent class’s name, ensuring flexible, maintainable inheritance behavior."
      ],
      "metadata": {
        "id": "wmKXSTxtLwrR"
      }
    },
    {
      "cell_type": "markdown",
      "source": [
        "## 21.  What is the significance of the __del__ method in Python?\n",
        "-> In Python, the __del__() method (often referred to as a finalizer or informally a destructor) is a special method invoked when an object is about to be garbage‑collected—that is, when no references to it remain. It allows you to perform cleanup actions before the object is destroyed .\n"
      ],
      "metadata": {
        "id": "UztxcOUbL88J"
      }
    },
    {
      "cell_type": "markdown",
      "source": [
        "## 22. What is the difference between @staticmethod and @classmethod in Python?\n",
        " -> @classmethod: Bound to the class — gets cls implicitly; useful for class-level operations and factory constructors.\n",
        "\n",
        "@staticmethod: Bound neither to class nor instance — gets no implicit argument; suitable for utility functions related to the class concept but independent of its state."
      ],
      "metadata": {
        "id": "WCIvAR-oMImm"
      }
    },
    {
      "cell_type": "markdown",
      "source": [
        "## 23. How does polymorphism work in Python with inheritance.\n",
        "-> Polymorphism in Python through inheritance works primarily via method overriding, where a subclass redefines a method inherited from its parent class. At runtime, Python dynamically dispatches the correct method based on the actual object's type, not the reference used—enabling flexible, extensible, and maintainable code."
      ],
      "metadata": {
        "id": "dWggYMLVMVJB"
      }
    },
    {
      "cell_type": "markdown",
      "source": [
        "## 24. What is method chaining in Python OOP?\n",
        "-> Method chaining refers to the pattern where multiple method calls are made on the same object in a single expression. It’s possible when each method returns the object itself (usually by returning self), allowing further calls to be chained."
      ],
      "metadata": {
        "id": "YMNCSEj2Mgxa"
      }
    },
    {
      "cell_type": "markdown",
      "source": [
        "## 25. What is the purpose of the __call__ method in Python?\n",
        "-> Defining __call__() gives your class instances function-like capabilities.\n",
        "\n",
        "You can manage state, support clean DSL APIs, and facilitate advanced design patterns.\n",
        "\n",
        "Internally, a call obj(...) triggers obj.__call__(...) automatically."
      ],
      "metadata": {
        "id": "ZmWEsW24MtSc"
      }
    },
    {
      "cell_type": "markdown",
      "source": [
        "# OPPS PRACTICAL ASSIGNMENT"
      ],
      "metadata": {
        "id": "kpKzHdj0NAaB"
      }
    },
    {
      "cell_type": "markdown",
      "source": [
        "## 1. Create a parent class Animal with a method speak() that prints a generic message. Create a child class Dog that overrides the speak() method to print \"Bark!\""
      ],
      "metadata": {
        "id": "gFrt5rASNFsq"
      }
    },
    {
      "cell_type": "code",
      "source": [
        "\n",
        "class Animal:\n",
        "    def speak(self):\n",
        "        print(\"The animal makes a sound.\")\n",
        "\n",
        "\n",
        "class Dog(Animal):\n",
        "    def speak(self):\n",
        "        print(\"Bark!\")\n",
        "\n",
        "animal = Animal()\n",
        "dog = Dog()\n",
        "\n",
        "animal.speak()\n",
        "dog.speak()\n"
      ],
      "metadata": {
        "colab": {
          "base_uri": "https://localhost:8080/"
        },
        "id": "gvXdPIiM9W47",
        "outputId": "c3ac2137-c600-454d-c29f-59f2f52a88ad"
      },
      "execution_count": 1,
      "outputs": [
        {
          "output_type": "stream",
          "name": "stdout",
          "text": [
            "The animal makes a sound.\n",
            "Bark!\n"
          ]
        }
      ]
    },
    {
      "cell_type": "markdown",
      "source": [
        "## 2. Write a program to create an abstract class Shape with a method area(). Derive classes Circle and Rectangle from it and implement the area() method in both."
      ],
      "metadata": {
        "id": "JCAF0vzTNubx"
      }
    },
    {
      "cell_type": "code",
      "source": [
        "from abc import ABC, abstractmethod\n",
        "import math\n",
        "\n",
        "\n",
        "class Shape(ABC):\n",
        "    @abstractmethod\n",
        "    def area(self):\n",
        "        \"\"\"Compute and return the shape's area.\"\"\"\n",
        "        pass\n",
        "\n",
        "\n",
        "class Rectangle(Shape):\n",
        "    def __init__(self, width: float, height: float):\n",
        "        self.width = width\n",
        "        self.height = height\n",
        "\n",
        "    def area(self) -> float:\n",
        "        return self.width * self.height\n",
        "\n",
        "\n",
        "class Circle(Shape):\n",
        "    def __init__(self, radius: float):\n",
        "        self.radius = radius\n",
        "\n",
        "    def area(self) -> float:\n",
        "        return math.pi * self.radius ** 2\n",
        "\n",
        "\n",
        "shapes = [\n",
        "    Rectangle(5, 10),\n",
        "    Circle(7),\n",
        "]\n",
        "\n",
        "for shape in shapes:\n",
        "    print(f\"{shape.__class__.__name__} area = {shape.area():.2f}\")\n"
      ],
      "metadata": {
        "colab": {
          "base_uri": "https://localhost:8080/"
        },
        "id": "H32PVvRHNg6l",
        "outputId": "4a3d7289-a464-4b3f-ae92-aa98172dcb85"
      },
      "execution_count": 2,
      "outputs": [
        {
          "output_type": "stream",
          "name": "stdout",
          "text": [
            "Rectangle area = 50.00\n",
            "Circle area = 153.94\n"
          ]
        }
      ]
    },
    {
      "cell_type": "markdown",
      "source": [
        "## 3.  Implement a multi-level inheritance scenario where a class Vehicle has an attribute type. Derive a class Car and further derive a class ElectricCar that adds a battery attribute."
      ],
      "metadata": {
        "id": "Vpc1_YX0OExO"
      }
    },
    {
      "cell_type": "code",
      "source": [
        "class Vehicle:\n",
        "    def __init__(self, vehicle_type: str):\n",
        "        self.type = vehicle_type\n",
        "\n",
        "    def describe(self):\n",
        "        print(f\"This is a {self.type}.\")\n",
        "\n",
        "\n",
        "class Car(Vehicle):\n",
        "    def __init__(self, vehicle_type: str, make: str, model: str):\n",
        "        super().__init__(vehicle_type)\n",
        "        self.make = make\n",
        "        self.model = model\n",
        "\n",
        "    def describe(self):\n",
        "        print(f\"This is a {self.type} - {self.make} {self.model}.\")\n",
        "\n",
        "\n",
        "class ElectricCar(Car):\n",
        "    def __init__(\n",
        "        self,\n",
        "        vehicle_type: str,\n",
        "        make: str,\n",
        "        model: str,\n",
        "        battery_capacity: int,\n",
        "    ):\n",
        "        super().__init__(vehicle_type, make, model)\n",
        "        self.battery = battery_capacity\n",
        "\n",
        "    def describe(self):\n",
        "        print(\n",
        "            f\"This is a {self.type} - {self.make} {self.model}, \"\n",
        "            f\"Battery: {self.battery} kWh.\"\n",
        "        )\n",
        "\n",
        "\n",
        "v = Vehicle(\"Vehicle\")\n",
        "c = Car(\"Car\", \"Honda\", \"Civic\")\n",
        "e = ElectricCar(\"ElectricCar\", \"Tesla\", \"Model 3\", 75)\n",
        "\n",
        "v.describe()\n",
        "c.describe()\n",
        "e.describe()\n"
      ],
      "metadata": {
        "colab": {
          "base_uri": "https://localhost:8080/"
        },
        "id": "fUL_EsJlOCtD",
        "outputId": "8a1e123b-5788-4d26-dd50-01ccd31e2e68"
      },
      "execution_count": 3,
      "outputs": [
        {
          "output_type": "stream",
          "name": "stdout",
          "text": [
            "This is a Vehicle.\n",
            "This is a Car - Honda Civic.\n",
            "This is a ElectricCar - Tesla Model 3, Battery: 75 kWh.\n"
          ]
        }
      ]
    },
    {
      "cell_type": "markdown",
      "source": [
        "## 4. Demonstrate polymorphism by creating a base class Bird with a method fly(). Create two derived classes Sparrow and Penguin that override the fly() method.\n"
      ],
      "metadata": {
        "id": "M5rR6ZiNOl4J"
      }
    },
    {
      "cell_type": "code",
      "source": [
        "class Bird:\n",
        "    def fly(self):\n",
        "        return \"Bird is flying.\"\n",
        "\n",
        "class Sparrow(Bird):\n",
        "    def fly(self):\n",
        "        return \"Sparrow flies at low altitude.\"\n",
        "\n",
        "class Penguin(Bird):\n",
        "    def fly(self):\n",
        "        return \"Penguins can’t fly—they swim instead.\"\n",
        "\n",
        "def bird_flight(bird):\n",
        "    print(bird.fly())\n",
        "\n",
        "birds = [Bird(), Sparrow(), Penguin()]\n",
        "for b in birds:\n",
        "    bird_flight(b)\n"
      ],
      "metadata": {
        "colab": {
          "base_uri": "https://localhost:8080/"
        },
        "id": "gWiaLiqWOk9T",
        "outputId": "1611c434-206b-4bca-8f01-72ac56d87b08"
      },
      "execution_count": 4,
      "outputs": [
        {
          "output_type": "stream",
          "name": "stdout",
          "text": [
            "Bird is flying.\n",
            "Sparrow flies at low altitude.\n",
            "Penguins can’t fly—they swim instead.\n"
          ]
        }
      ]
    },
    {
      "cell_type": "markdown",
      "source": [
        "## 5. Write a program to demonstrate encapsulation by creating a class BankAccount with private attributes balance and methods to deposit, withdraw, and check balance."
      ],
      "metadata": {
        "id": "s-qz7ut3O5Ls"
      }
    },
    {
      "cell_type": "code",
      "source": [
        "class BankAccount:\n",
        "    def __init__(self, initial_balance: float = 0.0):\n",
        "        self.__balance = initial_balance\n",
        "\n",
        "    def deposit(self, amount: float):\n",
        "        if amount > 0:\n",
        "            self.__balance += amount\n",
        "        else:\n",
        "            print(\"Invalid deposit amount.\")\n",
        "\n",
        "    def withdraw(self, amount: float):\n",
        "        if 0 < amount <= self.__balance:\n",
        "            self.__balance -= amount\n",
        "        elif amount > self.__balance:\n",
        "            print(\"Insufficient balance.\")\n",
        "        else:\n",
        "            print(\"Invalid withdrawal amount.\")\n",
        "\n",
        "    def get_balance(self) -> float:\n",
        "        return self.__balance\n",
        "\n",
        "\n",
        "account = BankAccount(100.0)\n",
        "account.deposit(50)\n",
        "account.withdraw(30)\n",
        "print(account.get_balance())\n",
        "\n"
      ],
      "metadata": {
        "colab": {
          "base_uri": "https://localhost:8080/"
        },
        "id": "kDfMSsMtO4Ie",
        "outputId": "f2dbf586-5e12-4a2e-c8f2-4e7d438c28c7"
      },
      "execution_count": 6,
      "outputs": [
        {
          "output_type": "stream",
          "name": "stdout",
          "text": [
            "120.0\n"
          ]
        }
      ]
    },
    {
      "cell_type": "markdown",
      "source": [
        "##6. Demonstrate runtime polymorphism using a method play() in a base class Instrument. Derive classes Guitar and Piano that implement their own version of play()."
      ],
      "metadata": {
        "id": "Di0HaWPlPZSg"
      }
    },
    {
      "cell_type": "code",
      "source": [
        "class Instrument:\n",
        "    def play(self):\n",
        "        print(\"Instrument is playing.\")\n",
        "\n",
        "class Guitar(Instrument):\n",
        "    def play(self):\n",
        "        print(\"Guitar is strumming.\")\n",
        "\n",
        "class Piano(Instrument):\n",
        "    def play(self):\n",
        "        print(\"Piano is playing melodiously.\")\n",
        "\n",
        "def perform(instrument):\n",
        "    instrument.play()\n",
        "\n",
        "instruments = [Instrument(), Guitar(), Piano()]\n",
        "\n",
        "for instrument in instruments:\n",
        "    perform(instrument)\n"
      ],
      "metadata": {
        "colab": {
          "base_uri": "https://localhost:8080/"
        },
        "id": "Vd8JcDVVPUl_",
        "outputId": "1670bbbb-5382-420c-b448-edfc6c456ef7"
      },
      "execution_count": 7,
      "outputs": [
        {
          "output_type": "stream",
          "name": "stdout",
          "text": [
            "Instrument is playing.\n",
            "Guitar is strumming.\n",
            "Piano is playing melodiously.\n"
          ]
        }
      ]
    },
    {
      "cell_type": "markdown",
      "source": [
        "## 7. Create a class MathOperations with a class method add_numbers() to add two numbers and a static method subtract_numbers() to subtract two numbers."
      ],
      "metadata": {
        "id": "qp0paaVEP_6j"
      }
    },
    {
      "cell_type": "code",
      "source": [
        "class MathOperations:\n",
        "    @classmethod\n",
        "    def add_numbers(cls, x, y):\n",
        "        return x + y\n",
        "\n",
        "    @staticmethod\n",
        "    def subtract_numbers(x, y):\n",
        "        return x - y\n",
        "\n",
        "\n",
        "print(MathOperations.add_numbers(10, 5))\n",
        "print(MathOperations.subtract_numbers(10, 5))\n",
        "\n",
        "mo = MathOperations()\n",
        "print(mo.add_numbers(7, 3))\n",
        "print(mo.subtract_numbers(7, 3))"
      ],
      "metadata": {
        "colab": {
          "base_uri": "https://localhost:8080/"
        },
        "id": "0f_zSvCuP9Ea",
        "outputId": "a6ca9ba1-d3eb-4a99-bc00-48541aeb7fc6"
      },
      "execution_count": 8,
      "outputs": [
        {
          "output_type": "stream",
          "name": "stdout",
          "text": [
            "15\n",
            "5\n",
            "10\n",
            "4\n"
          ]
        }
      ]
    },
    {
      "cell_type": "markdown",
      "source": [
        "##8. Implement a class Person with a class method to count the total number of persons created."
      ],
      "metadata": {
        "id": "TwejeGxNQSk4"
      }
    },
    {
      "cell_type": "code",
      "source": [
        "class Person:\n",
        "    _count = 0\n",
        "    def __init__(self, name: str):\n",
        "        self.name = name\n",
        "        Person._count += 1\n",
        "\n",
        "    @classmethod\n",
        "    def get_total_count(cls):\n",
        "        return cls._count\n"
      ],
      "metadata": {
        "id": "au2mB7wCQQ4l"
      },
      "execution_count": 9,
      "outputs": []
    },
    {
      "cell_type": "markdown",
      "source": [
        "##9. Write a class Fraction with attributes numerator and denominator. Override the str method to display the fraction as \"numerator/denominator\"."
      ],
      "metadata": {
        "id": "GV9DqHyzQcn_"
      }
    },
    {
      "cell_type": "code",
      "source": [
        "import math\n",
        "\n",
        "class Fraction:\n",
        "    def __init__(self, numerator: int, denominator: int = 1):\n",
        "        if not isinstance(numerator, int) or not isinstance(denominator, int):\n",
        "            raise ValueError(\"Numerator and denominator must be integers\")\n",
        "        if denominator == 0:\n",
        "            raise ValueError(\"Denominator cannot be zero\")\n",
        "        # Normalize sign\n",
        "        if denominator < 0:\n",
        "            numerator, denominator = -numerator, -denominator\n",
        "        # Reduce fraction\n",
        "        gcd = math.gcd(numerator, denominator)\n",
        "        self.numerator = numerator // gcd\n",
        "        self.denominator = denominator // gcd\n",
        "\n",
        "    def __str__(self):\n",
        "        return f\"{self.numerator}/{self.denominator}\"\n",
        "\n",
        "    def __repr__(self):\n",
        "        return f\"Fraction({self.numerator}, {self.denominator})\"\n"
      ],
      "metadata": {
        "id": "Pb9IScLOQb58"
      },
      "execution_count": 10,
      "outputs": []
    },
    {
      "cell_type": "markdown",
      "source": [
        "##10. Demonstrate operator overloading by creating a class Vector and overriding the add method to add two vectors."
      ],
      "metadata": {
        "id": "zIqDjjrpQn3A"
      }
    },
    {
      "cell_type": "code",
      "source": [
        "class Vector:\n",
        "    def __init__(self, x, y):\n",
        "        self.x = x\n",
        "        self.y = y\n",
        "\n",
        "    def __add__(self, other):\n",
        "        if not isinstance(other, Vector):\n",
        "            return NotImplemented\n",
        "        return Vector(self.x + other.x, self.y + other.y)\n",
        "\n",
        "    def __str__(self):\n",
        "        return f\"Vector({self.x}, {self.y})\"\n"
      ],
      "metadata": {
        "id": "zZiLen-IQml7"
      },
      "execution_count": 11,
      "outputs": []
    },
    {
      "cell_type": "markdown",
      "source": [
        "##11. Create a class Person with attributes name and age. Add a method greet() that prints \"Hello, my name is {name} and I am {age} years old.\""
      ],
      "metadata": {
        "id": "J8q0fNxjQyZO"
      }
    },
    {
      "cell_type": "code",
      "source": [
        "class Person:\n",
        "    def __init__(self, name: str, age: int):\n",
        "        self.name = name\n",
        "        self.age = age\n",
        "\n",
        "    def greet(self):\n",
        "        print(f\"Hello, my name is {self.name} and I am {self.age} years old.\")\n",
        "\n",
        "p1 = Person(\"Alice\", 25)\n",
        "p2 = Person(\"Bob\", 30)\n",
        "\n",
        "p1.greet()\n",
        "p2.greet()\n"
      ],
      "metadata": {
        "colab": {
          "base_uri": "https://localhost:8080/"
        },
        "id": "WCR-vezxQxiw",
        "outputId": "76bda38c-dfc4-4c90-b6b1-0525c6a6281d"
      },
      "execution_count": 12,
      "outputs": [
        {
          "output_type": "stream",
          "name": "stdout",
          "text": [
            "Hello, my name is Alice and I am 25 years old.\n",
            "Hello, my name is Bob and I am 30 years old.\n"
          ]
        }
      ]
    },
    {
      "cell_type": "markdown",
      "source": [
        "##12. Implement a class Student with attributes name and grades. Create a method average_grade() to compute the average of the grades."
      ],
      "metadata": {
        "id": "WdLdECvCRSDd"
      }
    },
    {
      "cell_type": "code",
      "source": [
        "class Student:\n",
        "    def __init__(self, name: str, grades: list[float] = None):\n",
        "        self.name = name\n",
        "        self.grades = grades if grades is not None else []\n",
        "\n",
        "    def add_grade(self, grade: float):\n",
        "        self.grades.append(grade)\n",
        "\n",
        "    def average_grade(self) -> float:\n",
        "        if not self.grades:\n",
        "            return 0.0\n",
        "        return sum(self.grades) / len(self.grades)\n"
      ],
      "metadata": {
        "id": "_r_P1WxaRQgx"
      },
      "execution_count": 13,
      "outputs": []
    },
    {
      "cell_type": "markdown",
      "source": [
        "## 13. Create a class Rectangle with methods set_dimensions() to set the dimensions and area() to calculate the area."
      ],
      "metadata": {
        "id": "htR13t7BRkq_"
      }
    },
    {
      "cell_type": "code",
      "source": [
        "class Rectangle:\n",
        "    def __init__(self):\n",
        "        self.length = 0\n",
        "        self.width = 0\n",
        "\n",
        "    def set_dimensions(self, length: float, width: float):\n",
        "        self.length = length\n",
        "        self.width = width\n",
        "\n",
        "    def area(self) -> float:\n",
        "        return self.length * self.width\n"
      ],
      "metadata": {
        "id": "FLzuEsymRfcF"
      },
      "execution_count": 14,
      "outputs": []
    },
    {
      "cell_type": "markdown",
      "source": [
        "##14. Create a class Employee with a method calculate_salary() that computes the salary based on hours worked and hourly rate. Create a derived class Manager that adds a bonus to the salary."
      ],
      "metadata": {
        "id": "QjSexy4RRsfg"
      }
    },
    {
      "cell_type": "code",
      "source": [
        "class Employee:\n",
        "    HOURLY_RATE = 20.0\n",
        "\n",
        "    def __init__(self, name: str, hours_worked: float):\n",
        "        self.name = name\n",
        "        self.hours_worked = hours_worked\n",
        "\n",
        "    def calculate_salary(self) -> float:\n",
        "        return self.hours_worked * self.__class__.HOURLY_RATE\n",
        "\n",
        "class Manager(Employee):\n",
        "    def __init__(self, name: str, hours_worked: float, bonus: float):\n",
        "        super().__init__(name, hours_worked)\n",
        "        self.bonus = bonus\n",
        "\n",
        "    def calculate_salary(self) -> float:\n",
        "        base_salary = super().calculate_salary()\n",
        "        return base_salary + self.bonus\n"
      ],
      "metadata": {
        "id": "v95PGoS0Rrbc"
      },
      "execution_count": 15,
      "outputs": []
    },
    {
      "cell_type": "markdown",
      "source": [
        "##15. Create a class Product with attributes name, price, and quantity. Implement a method total_price() that calculates the total price of the product."
      ],
      "metadata": {
        "id": "SRC-4rLnR5d3"
      }
    },
    {
      "cell_type": "code",
      "source": [
        "class Product:\n",
        "    def __init__(self, name: str, price: float, quantity: int):\n",
        "        self.name = name\n",
        "        self.price = price\n",
        "        self.quantity = quantity\n",
        "\n",
        "    def total_price(self) -> float:\n",
        "        return self.price * self.quantity\n",
        "\n"
      ],
      "metadata": {
        "id": "Hj9m_meaR4VL"
      },
      "execution_count": 16,
      "outputs": []
    },
    {
      "cell_type": "markdown",
      "source": [
        "##16. Create a class Animal with an abstract method sound(). Create two derived classes Cow and Sheep that implement the sound() method."
      ],
      "metadata": {
        "id": "zwH8HSL2SD7h"
      }
    },
    {
      "cell_type": "code",
      "source": [
        "from abc import ABC, abstractmethod\n",
        "\n",
        "class Animal(ABC):\n",
        "    @abstractmethod\n",
        "    def sound(self):\n",
        "        \"\"\"Return the sound made by the animal.\"\"\"\n",
        "        pass\n",
        "\n",
        "class Cow(Animal):\n",
        "    def sound(self):\n",
        "        return \"Moo\"\n",
        "\n",
        "class Sheep(Animal):\n",
        "    def sound(self):\n",
        "        return \"Baa\"\n",
        "\n",
        "def animal_sound(animal: Animal):\n",
        "    print(animal.sound())\n",
        "\n",
        "# Example usage\n",
        "animals = [Cow(), Sheep()]\n",
        "for a in animals:\n",
        "    animal_sound(a)\n"
      ],
      "metadata": {
        "colab": {
          "base_uri": "https://localhost:8080/"
        },
        "id": "Lt4kLqATSCxY",
        "outputId": "a38df6df-e163-4ec0-c6d6-8be8b569899e"
      },
      "execution_count": 17,
      "outputs": [
        {
          "output_type": "stream",
          "name": "stdout",
          "text": [
            "Moo\n",
            "Baa\n"
          ]
        }
      ]
    },
    {
      "cell_type": "markdown",
      "source": [
        "##17. Create a class Book with attributes title, author, and year_published. Add a method get_book_info() that returns a formatted string with the book's details."
      ],
      "metadata": {
        "id": "sXYhFye8SO8l"
      }
    },
    {
      "cell_type": "code",
      "source": [
        "class Book:\n",
        "    def __init__(self, title: str, author: str, year_published: int):\n",
        "        self.title = title\n",
        "        self.author = author\n",
        "        self.year_published = year_published\n",
        "\n",
        "    def get_book_info(self) -> str:\n",
        "        return f\"\\\"{self.title}\\\" by {self.author} ({self.year_published})\"\n",
        "\n",
        "\n",
        "b = Book(\"The Great Gatsby\", \"F. Scott Fitzgerald\", 1925)\n",
        "print(b.get_book_info())\n",
        "\n",
        "\n",
        "\n"
      ],
      "metadata": {
        "colab": {
          "base_uri": "https://localhost:8080/"
        },
        "id": "tjD2p5DzSMwR",
        "outputId": "aab4c316-eede-4296-fba7-d3387e7b7af5"
      },
      "execution_count": 18,
      "outputs": [
        {
          "output_type": "stream",
          "name": "stdout",
          "text": [
            "\"The Great Gatsby\" by F. Scott Fitzgerald (1925)\n"
          ]
        }
      ]
    },
    {
      "cell_type": "markdown",
      "source": [
        "##18. Create a class House with attributes address and price. Create a derived class Mansion that adds an attribute number_of_rooms."
      ],
      "metadata": {
        "id": "wDOqe6ksSmS-"
      }
    },
    {
      "cell_type": "code",
      "source": [
        "class House:\n",
        "    def __init__(self, address: str, price: float):\n",
        "        self.address = address\n",
        "        self.price = price\n",
        "\n",
        "    def show_info(self) -> str:\n",
        "        return f\"Address: {self.address}, Price: ${self.price:.2f}\"\n",
        "\n",
        "class Mansion(House):\n",
        "    def __init__(self, address: str, price: float, number_of_rooms: int):\n",
        "        super().__init__(address, price)\n",
        "        self.number_of_rooms = number_of_rooms\n",
        "\n",
        "    def show_info(self) -> str:\n",
        "        base_info = super().show_info()\n",
        "        return f\"{base_info}, Rooms: {self.number_of_rooms}\"\n",
        "\n",
        "# Usage\n",
        "h = House(\"123 Maple Street\", 250000)\n",
        "m = Mansion(\"456 Grand Avenue\", 2000000, 10)\n",
        "\n",
        "print(h.show_info())  # Address: 123 Maple Street, Price\n"
      ],
      "metadata": {
        "colab": {
          "base_uri": "https://localhost:8080/"
        },
        "id": "v3Xw4KHrSkrn",
        "outputId": "63dc4e79-d73f-4b01-ef48-590f01121995"
      },
      "execution_count": 19,
      "outputs": [
        {
          "output_type": "stream",
          "name": "stdout",
          "text": [
            "Address: 123 Maple Street, Price: $250000.00\n"
          ]
        }
      ]
    },
    {
      "cell_type": "code",
      "source": [],
      "metadata": {
        "id": "lsNXHKBZSxAF"
      },
      "execution_count": null,
      "outputs": []
    }
  ]
}