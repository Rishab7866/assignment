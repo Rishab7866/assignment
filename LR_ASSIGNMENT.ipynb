{
  "nbformat": 4,
  "nbformat_minor": 0,
  "metadata": {
    "colab": {
      "provenance": []
    },
    "kernelspec": {
      "name": "python3",
      "display_name": "Python 3"
    },
    "language_info": {
      "name": "python"
    }
  },
  "cells": [
    {
      "cell_type": "markdown",
      "source": [
        "# Assignment Solution"
      ],
      "metadata": {
        "id": "tF70KwnyJQYw"
      }
    },
    {
      "cell_type": "markdown",
      "source": [
        "## 1. What is Simple Linear Regression (SLR)? Explain its purpose.\n",
        "  -> Simple Linear Regression tries to fit a straight line through a set of data points in such a way that it best represents the relationship between\n",
        "𝑋\n",
        "X and\n",
        "𝑌\n",
        "Y.\n",
        "The general equation is:\n",
        "\n",
        "𝑌\n",
        "=\n",
        "𝛽\n",
        "0\n",
        "+\n",
        "𝛽\n",
        "1\n",
        "𝑋\n",
        "+\n",
        "𝜀\n",
        "Y=β\n",
        "0\n",
        "\t​\n",
        "\n",
        "+β\n",
        "1\n",
        "\t​\n",
        "\n",
        "X+ε\n",
        "\n",
        "Where:\n",
        "\n",
        "𝑌\n",
        "Y = Dependent (response) variable\n",
        "\n",
        "𝑋\n",
        "X = Independent (predictor) variable\n",
        "\n",
        "𝛽\n",
        "0\n",
        "β\n",
        "0\n",
        "\t​\n",
        "\n",
        " = Intercept (value of\n",
        "𝑌\n",
        "Y when\n",
        "𝑋\n",
        "=\n",
        "0\n",
        "X=0)\n",
        "\n",
        "𝛽\n",
        "1\n",
        "β\n",
        "1\n",
        "\t​\n",
        "\n",
        " = Slope (change in\n",
        "𝑌\n",
        "Y for one unit change in\n",
        "𝑋\n",
        "X)\n",
        "\n",
        "𝜀\n",
        "ε = Error term (difference between observed and predicted values)\n",
        "\n",
        "Purpose of SLR\n",
        "\n",
        "The main goals of Simple Linear Regression are:\n",
        "\n",
        "Prediction:\n",
        "Estimate or predict the value of the dependent variable\n",
        "𝑌\n",
        "Y based on a known value of\n",
        "𝑋\n",
        "X.\n",
        "\n",
        "\n",
        "Example: Predict a person’s weight (Y) based on their height (X).\n",
        "\n",
        "Relationship Understanding:\n",
        "Determine whether and how strongly two variables are related.\n",
        "\n",
        "Example: Does advertising expenditure (X) significantly affect sales revenue (Y)?\n",
        "\n",
        "Trend Analysis:\n",
        "Identify trends and patterns over time or across datasets.\n",
        "\n",
        " Example: Estimate how temperature (X) affects electricity consumption (Y).\n"
      ],
      "metadata": {
        "id": "DXwhBbVwJeYY"
      }
    },
    {
      "cell_type": "markdown",
      "source": [
        "## 2. What are the key assumptions of Simple Linear Regression?\n",
        "  -> 1. Linearity\n",
        "\n",
        "The relationship between the independent variable and the dependent variable should be straight-line in nature.\n",
        "\n",
        "This means when one variable increases or decreases, the other should change in a consistent direction.\n",
        "\n",
        "You can check this by making a scatter plot — the points should form roughly a straight line.\n",
        "\n",
        "2. Independence of Errors\n",
        "\n",
        "The prediction errors (the differences between actual and predicted values) should be independent of each other.\n",
        "\n",
        "In simple terms, one observation’s error should not affect another’s.\n",
        "\n",
        "This is especially important for time-based data to ensure no pattern or trend exists in the errors.\n",
        "\n",
        "3. Constant Variance of Errors (Homoscedasticity)\n",
        "\n",
        "The errors should have equal spread across all levels of the independent variable.\n",
        "\n",
        "The amount of variation in the errors should not increase or decrease as the predicted values get larger or smaller.\n",
        "\n",
        "If the spread of errors widens or narrows, this assumption is violated.\n",
        "\n",
        "4. Normality of Errors\n",
        "\n",
        "The errors should be normally distributed — meaning most errors are small, and large errors are rare.\n",
        "\n",
        "This helps ensure that hypothesis tests and confidence intervals are valid.\n",
        "\n",
        "You can check this using a histogram or a normal probability plot.\n",
        "\n",
        "5. No Outliers or Influential Points\n",
        "\n",
        "The dataset should not contain extreme or unusual values that can distort the results.\n",
        "\n",
        "Outliers can pull the regression line away from the true pattern.\n",
        "\n",
        "It is good practice to identify and handle such points before building the model."
      ],
      "metadata": {
        "id": "Padmm7vpKBEJ"
      }
    },
    {
      "cell_type": "markdown",
      "source": [
        "## 3. Write the mathematical equation for a simple linear regression model and explain each term.\n",
        "  -> Simple Linear Regression fits a straight line through the data points so that it best predicts the value of Y based on X.\n",
        "\n",
        "Predicted Y\n",
        "=\n",
        "Intercept\n",
        "+\n",
        "(\n",
        "Slope\n",
        "×\n",
        "X\n",
        ")\n",
        "Predicted Y=Intercept+(Slope×X)"
      ],
      "metadata": {
        "id": "5OdMT48vKbmf"
      }
    },
    {
      "cell_type": "markdown",
      "source": [
        "## 4. Provide a real-world example where simple linear regression can be applied.\n",
        "  -> Scenario\n",
        "\n",
        "A real estate company wants to predict the price of a house based on its size (in square feet).\n",
        "\n",
        "They collect data from several houses in a city:\n",
        "\n",
        "House Size (sq. ft.)\tHouse Price (₹ in lakhs)\n",
        "\n",
        "\n",
        "800\t  40\n",
        "\n",
        "\n",
        "1000\t50\n",
        "\n",
        "\n",
        "1200\t60\n",
        "\n",
        "\n",
        "1500\t75\n",
        "\n",
        "\n",
        "1800\t90"
      ],
      "metadata": {
        "id": "29o7B5EFKrEo"
      }
    },
    {
      "cell_type": "markdown",
      "source": [
        "## 5. What is the method of least squares in linear regression?\n",
        "  -> The method of least squares is a mathematical approach used to determine the line of best fit by minimizing the sum of the squared differences between the actual and predicted values of the dependent variable."
      ],
      "metadata": {
        "id": "zJmR2RIgLKE3"
      }
    },
    {
      "cell_type": "markdown",
      "source": [
        "## 6. What is Logistic Regression? How does it differ from Linear Regression?\n",
        "  -> Logistic Regression is a statistical method used to predict a categorical (discrete) outcome — usually when the target variable has two possible values, such as:\n",
        "\n",
        "Yes / No\n",
        "\n",
        "Pass / Fail\n",
        "\n",
        "Spam / Not Spam\n",
        "\n",
        "Disease / No Disease\n",
        "\n",
        "Even though it’s called “regression,” it’s actually used for classification problems, not for predicting continuous numbers.\n",
        "\n"
      ],
      "metadata": {
        "id": "KWvcyyjoLlQ2"
      }
    },
    {
      "cell_type": "markdown",
      "source": [
        "## 7. Name and briefly describe three common evaluation metrics for regression models.\n",
        "  -> 1. Mean Absolute Error (MAE)\n",
        "\n",
        "Definition:\n",
        "The average of the absolute differences between actual and predicted values.\n",
        "\n",
        "Formula (in simple words):\n",
        "Take the difference between actual and predicted values, make them positive, and find the average.\n",
        "\n",
        "Meaning:\n",
        "It tells how far the predictions are from the real values on average.\n",
        "\n",
        "Example:\n",
        "If MAE = 5, it means the model’s predictions are off by about 5 units on average.\n",
        " Smaller MAE = better accuracy\n",
        "\n",
        " 2. Mean Squared Error (MSE)\n",
        "\n",
        "Definition:\n",
        "The average of the squared differences between actual and predicted values.\n",
        "\n",
        "Meaning:\n",
        "It penalizes larger errors more because the differences are squared.\n",
        "\n",
        "Use Case:\n",
        "Useful when you want to strongly punish large mistakes.\n",
        "\n",
        " Smaller MSE = better model performance\n",
        "\n",
        " 3. Root Mean Squared Error (RMSE)\n",
        "\n",
        "Definition:\n",
        "The square root of the Mean Squared Error.\n",
        "\n",
        "Meaning:\n",
        "It brings the error back to the same unit as the original data, making it easier to interpret.\n",
        "\n",
        "Example:\n",
        "If RMSE = 8, it means the model’s predictions are off by about 8 units on average.\n",
        "\n",
        " Smaller RMSE = more accurate predictions"
      ],
      "metadata": {
        "id": "X1za6YSMLplW"
      }
    },
    {
      "cell_type": "markdown",
      "source": [
        "## 8. What is the purpose of the R-squared metric in regression analysis?\n",
        "  -> The purpose of R-squared is to show how well the regression model explains the variability of the dependent variable (the one you are trying to predict)."
      ],
      "metadata": {
        "id": "7xOOJinnMMBO"
      }
    },
    {
      "cell_type": "markdown",
      "source": [
        "##9. Write Python code to fit a simple linear regression model using scikit-learn and print the slope and intercept.\n"
      ],
      "metadata": {
        "id": "KuhZ9rcEMZ52"
      }
    },
    {
      "cell_type": "code",
      "source": [
        "\n",
        "from sklearn.linear_model import LinearRegression\n",
        "import numpy as np\n",
        "\n",
        "X = np.array([1, 2, 3, 4, 5]).reshape(-1, 1)\n",
        "\n",
        "Y = np.array([2, 4, 5, 4, 5])\n",
        "\n",
        "model = LinearRegression()\n",
        "model.fit(X, Y)\n",
        "\n",
        "print(\"Slope (β₁):\", model.coef_[0])\n",
        "print(\"Intercept (β₀):\", model.intercept_)\n"
      ],
      "metadata": {
        "colab": {
          "base_uri": "https://localhost:8080/"
        },
        "id": "BRA-OcU7Jd5i",
        "outputId": "01274181-3397-4270-cddb-7dd276b56286"
      },
      "execution_count": 1,
      "outputs": [
        {
          "output_type": "stream",
          "name": "stdout",
          "text": [
            "Slope (β₁): 0.6\n",
            "Intercept (β₀): 2.2\n"
          ]
        }
      ]
    },
    {
      "cell_type": "markdown",
      "source": [
        "## 10. How do you interpret the coefficients in a simple linear regression model?\n",
        "  -> Intercept (β₀): The predicted value of Y when X is zero. It’s the baseline value.\n",
        "\n",
        "Slope (β₁): The change in Y for a one-unit increase in X. Positive slope → Y increases; negative slope → Y decreases.\n",
        "\n",
        "Example:\n",
        "If Marks = 30 + 5*Hours_Studied:\n",
        "\n",
        "Intercept = 30 → 0 hours → 30 marks\n",
        "\n",
        "Slope = 5 → Each extra hour → marks increase by"
      ],
      "metadata": {
        "id": "sxCQ-ngxMuYX"
      }
    },
    {
      "cell_type": "code",
      "source": [],
      "metadata": {
        "id": "jEf7XfuXMnj8"
      },
      "execution_count": null,
      "outputs": []
    }
  ]
}