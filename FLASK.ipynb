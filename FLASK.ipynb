{
  "nbformat": 4,
  "nbformat_minor": 0,
  "metadata": {
    "colab": {
      "provenance": []
    },
    "kernelspec": {
      "name": "python3",
      "display_name": "Python 3"
    },
    "language_info": {
      "name": "python"
    }
  },
  "cells": [
    {
      "cell_type": "markdown",
      "source": [
        "# Restful API & Flask Theory\n",
        "\n",
        "\n",
        "\n"
      ],
      "metadata": {
        "id": "K14gAtifh8Zm"
      }
    },
    {
      "cell_type": "markdown",
      "source": [
        "## 1.What is a RESTful API?\n",
        "-> A RESTful API (Representational State Transfer API) is a standardized way for computer systems to communicate over the internet using the HTTP protocol. It enables applications to interact with each other by accessing and manipulating resources—such as data objects or services—through a set of well-defined rules and operations."
      ],
      "metadata": {
        "id": "OlA6wFl1iI2m"
      }
    },
    {
      "cell_type": "markdown",
      "source": [
        "## 2. Explain the concept of API specification.\n",
        "-> An API specification lays out exactly how an API behaves: the endpoints, methods, parameters, request/response formats, authentication, error handling, and other operational rules. It's akin to a technical blueprint, ensuring that all consumers and providers understand what’s expected."
      ],
      "metadata": {
        "id": "23pi9LViieRw"
      }
    },
    {
      "cell_type": "markdown",
      "source": [
        "## 3. What is Flask, and why is it popular for building APIs?\n",
        "-> Flask is a micro web framework written in Python. Developed by Armin Ronacher and the Pocoo (now Pallets) team, it was first released in April 2010. Unlike more opinionated frameworks, Flask provides only the fundamental building blocks for web development—routing, request handling, templating, and a development server—while leaving everything else optional and extensible.\n"
      ],
      "metadata": {
        "id": "LDw1tFM5iwjP"
      }
    },
    {
      "cell_type": "markdown",
      "source": [
        "## 4. What is routing in Flask?\n",
        "-> Routing in Flask is the mechanism that maps incoming HTTP request URLs to specific view functions that process them.\n",
        "\n",
        "When you define a route, you tell Flask: “If a client requests this particular URL, call this function.”\n",
        "\n",
        "Flask uses the Werkzeug routing system under the hood, which efficiently manages route matching and ordering—even when routes are declared in varying modules—ensuring consistent behavior."
      ],
      "metadata": {
        "id": "-SIV_eGZjCxe"
      }
    },
    {
      "cell_type": "markdown",
      "source": [
        "## 5. How do you create a simple Flask application?\n",
        "-> Install Flask in a virtual environment\n",
        "\n",
        "python3 -m venv venv → source venv/bin/activate (macOS/Linux) or venv\\Scripts\\activate (Windows)\n",
        "\n",
        "pip install Flask\n",
        "\n",
        "Create app.py with minimal structure\n",
        "\n",
        "@app.route('/') maps the root URL to a function that returns a response\n",
        "\n",
        "app.run(debug=True) starts built-in dev server with hot-reload and error debugging\n",
        "\n",
        "Run the application\n",
        "\n",
        "Execute via python app.py\n",
        "\n",
        "Access at http://127.0.0.1:5000/ and see Hello, World!\n",
        "\n",
        "Why Flask is ideal for this\n",
        "\n",
        "It's a microframework: minimal core, no default ORM/auth—add only what you need\n",
        "\n",
        "Built on Werkzeug (WSGI tooling) and Jinja2 (templating engine)\n",
        "\n",
        "Lightweight, flexible, beginner-friendly, excellent for prototyping & APIs"
      ],
      "metadata": {
        "id": "5xRO4XDajMgm"
      }
    },
    {
      "cell_type": "markdown",
      "source": [
        "## 6. What are HTTP methods used in RESTful APIs?\n",
        "-> Safe methods (do not modify server state): GET, HEAD, OPTIONS, TRACE .\n",
        "\n",
        "Idempotent methods (repeatable without side effects): GET, PUT, DELETE, HEAD, OPTIONS, TRACE.\n",
        "\n",
        "Cacheable methods (responses may be cached): GET, HEAD, POST (conditionally)."
      ],
      "metadata": {
        "id": "n3OWyB35kFhv"
      }
    },
    {
      "cell_type": "markdown",
      "source": [
        "## 7. What is the purpose of the @app.route() decorator in Flask?\n",
        "-> @app.route() lets you declare what URL triggers what function in your Flask app. It handles route registration naturally and cleanly, without extra boilerplate—making your code both readable and expressive."
      ],
      "metadata": {
        "id": "Eanjj0o3kasd"
      }
    },
    {
      "cell_type": "markdown",
      "source": [
        "## 8. What is the difference between GET and POST HTTP methods?\n",
        "-> Use GET to retrieve data:\n",
        "\n",
        "Makes requests idempotent and cacheable.\n",
        "\n",
        "Keeps data visible and shareable in URLs.\n",
        "\n",
        "Use POST to submit data:\n",
        "\n",
        "Wraps data in body—not exposed in URL.\n",
        "\n",
        "Can handle large, complex, or sensitive payloads.\n",
        "\n",
        "Intended for operations that change server state."
      ],
      "metadata": {
        "id": "75C1gdnHkkGe"
      }
    },
    {
      "cell_type": "markdown",
      "source": [
        "## 9. How do you handle errors in Flask APIs?\n",
        "-> Use @app.errorhandler(status_code or ExceptionType).\n",
        "\n",
        "Leverage built-in exceptions (werkzeug.exceptions.HTTPException).\n",
        "\n",
        "Use abort() for early exit in view functions.\n",
        "\n",
        "Implement generic exception handler (@app.errorhandler(Exception)).\n",
        "\n",
        "Create and register custom exception classes.\n",
        "\n",
        "Flask-RESTful has its own error handling semantics.\n",
        "\n",
        "Prefer JSON responses over HTML in APIs.\n",
        "\n",
        "Adopt best practices."
      ],
      "metadata": {
        "id": "idpXmnC_k-t2"
      }
    },
    {
      "cell_type": "markdown",
      "source": [
        "## 10. How do you connect Flask to a SQL database?\n",
        "-> Connecting Flask to a SQL Database —\n",
        "\n",
        "Use Flask-SQLAlchemy, an ORM extension, to bridge Flask and SQL databases with Pythonic models instead of raw SQL.\n",
        "\n",
        "\n",
        "\n",
        "Install necessary packages: Flask and Flask-SQLAlchemy via pip.\n",
        "\n",
        "\n",
        "\n",
        "Configure the app using a SQLALCHEMY_DATABASE_URI for your database engine (e.g., SQLite, MySQL, PostgreSQL), and disable modification tracking for performance.\n",
        "\n",
        "\n",
        "\n",
        "Initialize the ORM by attaching the SQLAlchemy object to your Flask app, either directly or with an app factory.\n",
        "\n",
        "\n",
        "Define models as Python classes (subclassing the ORM base), with attributes representing table columns.\n",
        "\n",
        "\n",
        "Create database tables automatically from these models within the Flask application context.\n",
        "\n",
        "\n",
        "Support multiple backends by using appropriate connection strings for SQLite (dev) or MySQL/PostgreSQL (production).\n",
        "\n",
        "\n",
        "Benefit from ORM features such as connection pooling, session management, and abstraction over SQL across different databases.\n"
      ],
      "metadata": {
        "id": "6AcGAEg9lk4_"
      }
    },
    {
      "cell_type": "markdown",
      "source": [
        "## 11. What is the role of Flask-SQLAlchemy?\n",
        "-> Flask-SQLAlchemy provides a streamlined, Flask-native way to integrate ORM-backed database functionality—combining ease of use with Flask's design philosophies."
      ],
      "metadata": {
        "id": "zEvR7SkbmLFf"
      }
    },
    {
      "cell_type": "markdown",
      "source": [
        "## 12.What are Flask blueprints, and how are they useful?\n",
        "-> Flask Blueprints are your go-to tool for organizing non-trivial applications. They let you split your app into reusable, testable, and logically separated chunks—improving structure, scalability, and developer efficiency."
      ],
      "metadata": {
        "id": "HDT0fNPtmZr-"
      }
    },
    {
      "cell_type": "markdown",
      "source": [
        "## 13. What is the purpose of Flask's request object?\n",
        "-> Encapsulates all data sent by the client during an HTTP request.\n",
        "\n",
        "Accessible globally within the request’s context, no need to pass it explicitly.\n",
        "\n",
        "Provides easy access to:\n",
        "\n",
        "Request method (e.g., GET, POST).\n",
        "\n",
        "Query parameters, form data, JSON payloads, uploaded files.\n",
        "\n",
        "HTTP headers, cookies, and URL details.\n",
        "\n",
        "Simplifies handling of HTTP data using intuitive, high-level attributes.\n",
        "\n",
        "Built-in, created automatically for every incoming request."
      ],
      "metadata": {
        "id": "ZISQTAUymiuF"
      }
    },
    {
      "cell_type": "markdown",
      "source": [
        "## 14. How do you create a RESTful API endpoint using Flask?\n",
        "-> Choose Flask for a lightweight, flexible framework ideal for REST APIs.\n",
        "\n",
        "Define a route using @app.route() linked to the appropriate HTTP methods (e.g., GET, POST, PUT, DELETE).\n",
        "\n",
        "\n",
        "Return data formatted as JSON using Flask's JSON utilities for clean API responses.\n",
        "\n",
        "\n",
        "Handle CRUD operations through distinct HTTP methods mapped to RESTful actions.\n"
      ],
      "metadata": {
        "id": "jvpwDc73m8gW"
      }
    },
    {
      "cell_type": "markdown",
      "source": [
        "## 15. What is the purpose of Flask's jsonify() function?\n",
        "-> jsonify() is your go-to when returning JSON in Flask—it serializes data and handles HTTP response details cleanly and reliably."
      ],
      "metadata": {
        "id": "tUcJk1X8ndoO"
      }
    },
    {
      "cell_type": "markdown",
      "source": [
        "## 16. Explain Flask’s url_for() function.\n",
        "-> It allows to 'automagically' provide a URL for certain route by their name, even when folder structure changes… more flexibility when the project grows."
      ],
      "metadata": {
        "id": "jOoDo7RmntGW"
      }
    },
    {
      "cell_type": "markdown",
      "source": [
        "## 17.  How does Flask handle static files (CSS, JavaScript, etc.)?\n",
        "-> Flask simplifies static content management through a well-defined folder, automatic routing, and utilities for flexibility—making it clean and efficient for both development and production workflows. Let me know if you’d like details on optimizing static assets (e.g. cache busting or bundling)!"
      ],
      "metadata": {
        "id": "kWZoM4q8oC5e"
      }
    },
    {
      "cell_type": "markdown",
      "source": [
        "## 18.  What is an API specification, and how does it help in building a Flask API.\n",
        "-> In the realm of Flask APIs, using an API specification—especially with tools like OpenAPI—gives your project structure, clarity, and maintainability, making the development and collaboration process smoother and more robust."
      ],
      "metadata": {
        "id": "lH43mKTdoN5F"
      }
    },
    {
      "cell_type": "markdown",
      "source": [
        "## 19. What are HTTP status codes, and why are they important in a Flask API?\n",
        "-> In a Flask API, using meaningful HTTP status codes according to standards makes your API transparent, reliable, and easier to integrate."
      ],
      "metadata": {
        "id": "PQT-b2qOowMN"
      }
    },
    {
      "cell_type": "markdown",
      "source": [
        "## 20. How do you handle POST requests in Flask?\n",
        "-> Enable POST on a route by including it in the methods list (e.g., methods=['GET', 'POST'])—Flask defaults to GET only.\n",
        "\n",
        "Use request.form to read submitted form data from HTML forms (application/x-www-form-urlencoded).\n",
        "\n",
        "Distinguish logic by request method (e.g., if request.method == 'POST': ...) for endpoints handling both GET and POST."
      ],
      "metadata": {
        "id": "2sXXL2jOo-Ml"
      }
    },
    {
      "cell_type": "markdown",
      "source": [
        "## 21.  How would you secure a Flask API?\n",
        "-> By combining these measures, you create strong, layered defenses for your Flask API—protecting your data, your users, and your infrastructure."
      ],
      "metadata": {
        "id": "8F3E9zAupXmF"
      }
    },
    {
      "cell_type": "markdown",
      "source": [
        "## 22. What is the significance of the Flask-RESTful extension?\n",
        "-> lask-RESTful offers a structured, class-based framework for building Flask APIs with cleaner routing, marshalling, and parsing. However, it's losing maintenance traction, and many now lean toward alternatives like Flask-RESTX or vanilla Flask, especially for long-term projects."
      ],
      "metadata": {
        "id": "rjR5Ak8Upk9u"
      }
    },
    {
      "cell_type": "markdown",
      "source": [
        "## 23. What is the role of Flask’s session object?\n",
        "-> The session object in Flask gives you a secure, easy-to-use way to remember a user's state across multiple visits—while maintaining flexibility to scale or secure storage as needed."
      ],
      "metadata": {
        "id": "t3WccwaWptit"
      }
    },
    {
      "cell_type": "markdown",
      "source": [],
      "metadata": {
        "id": "zS05ISfwp3zN"
      }
    },
    {
      "cell_type": "markdown",
      "source": [
        "# Restful API & Flask Practical"
      ],
      "metadata": {
        "id": "FAAP_rDop7pV"
      }
    },
    {
      "cell_type": "markdown",
      "source": [
        "## 1.How do you create a basic Flask application?\n"
      ],
      "metadata": {
        "id": "ZBibaiW1p_gN"
      }
    },
    {
      "cell_type": "code",
      "source": [
        "from flask import Flask\n",
        "\n",
        "app = Flask(__name__)\n",
        "\n",
        "@app.route(\"/\")\n",
        "def hello_world():\n",
        "    return \"Hello, World!\"\n",
        "\n",
        "if __name__ == \"__main__\":\n",
        "    app.run(debug=True)\n"
      ],
      "metadata": {
        "colab": {
          "base_uri": "https://localhost:8080/"
        },
        "id": "vNYMRehKkjb0",
        "outputId": "b309fca1-7c97-4d4a-c192-f138fb7ab997"
      },
      "execution_count": null,
      "outputs": [
        {
          "output_type": "stream",
          "name": "stdout",
          "text": [
            " * Serving Flask app '__main__'\n",
            " * Debug mode: on\n"
          ]
        },
        {
          "output_type": "stream",
          "name": "stderr",
          "text": [
            "INFO:werkzeug:\u001b[31m\u001b[1mWARNING: This is a development server. Do not use it in a production deployment. Use a production WSGI server instead.\u001b[0m\n",
            " * Running on http://127.0.0.1:5000\n",
            "INFO:werkzeug:\u001b[33mPress CTRL+C to quit\u001b[0m\n",
            "INFO:werkzeug: * Restarting with watchdog (inotify)\n"
          ]
        }
      ]
    },
    {
      "cell_type": "markdown",
      "source": [
        "##2.  How do you serve static files like images or CSS in Flask?"
      ],
      "metadata": {
        "id": "8EYlkodJqQR9"
      }
    },
    {
      "cell_type": "code",
      "source": [
        "from flask import Flask, render_template, send_from_directory, url_for\n",
        "\n",
        "app = Flask(__name__)\n",
        "\n",
        "@app.route('/')\n",
        "def index():\n",
        "    return render_template('index.html')\n",
        "\n",
        "@app.route('/my_image')\n",
        "def serve_image():\n",
        "    return app.send_static_file('images/logo.png')\n",
        "\n",
        "if __name__ == '__main__':\n",
        "    app.run(debug=True)\n"
      ],
      "metadata": {
        "id": "A0WuG92hqPmW"
      },
      "execution_count": null,
      "outputs": []
    },
    {
      "cell_type": "markdown",
      "source": [
        "##3. How do you define different routes with different HTTP methods in Flask?\n"
      ],
      "metadata": {
        "id": "CcRXESHIqofo"
      }
    },
    {
      "cell_type": "code",
      "source": [
        "@app.route('/login', methods=['GET'])\n",
        "def login_get():\n",
        "    return show_login_form()\n",
        "\n",
        "@app.route('/login', methods=['POST'])\n",
        "def login_post():\n",
        "    return do_login()\n"
      ],
      "metadata": {
        "id": "sS5znlFDqk3C"
      },
      "execution_count": null,
      "outputs": []
    },
    {
      "cell_type": "markdown",
      "source": [
        "## 4.How do you render HTML templates in Flask?\n"
      ],
      "metadata": {
        "id": "Ag-u65Osq4ER"
      }
    },
    {
      "cell_type": "code",
      "source": [
        "@app.route('/')\n",
        "def index():\n",
        "    return render_template('index.html', name='Alice')\n"
      ],
      "metadata": {
        "id": "dp2Tr2v7q3Wy"
      },
      "execution_count": null,
      "outputs": []
    },
    {
      "cell_type": "markdown",
      "source": [
        "##5. How can you generate URLs for routes in Flask using url_for?\n"
      ],
      "metadata": {
        "id": "SE3seMD2rMlt"
      }
    },
    {
      "cell_type": "code",
      "source": [
        "from flask import Flask, render_template, redirect, url_for\n",
        "\n",
        "app = Flask(__name__)\n",
        "\n",
        "@app.route('/')\n",
        "def home():\n",
        "    return render_template('index.html')\n",
        "\n",
        "@app.route('/about')\n",
        "def about():\n",
        "    return render_template('about.html')\n",
        "\n",
        "@app.route('/user/<username>')\n",
        "def user_profile(username):\n",
        "    return f\"Hello, {username}!\"\n",
        "\n",
        "@app.route('/go-to-profile/<username>')\n",
        "def go_to_profile(username):\n",
        "    return redirect(url_for('user_profile', username=username))\n",
        "\n",
        "if __name__ == '__main__':\n",
        "    app.run(debug=True)\n"
      ],
      "metadata": {
        "id": "qvw1u5KirMPz"
      },
      "execution_count": null,
      "outputs": []
    },
    {
      "cell_type": "markdown",
      "source": [
        "##6. How do you handle forms in Flask?\n"
      ],
      "metadata": {
        "id": "J2U8twupra7n"
      }
    },
    {
      "cell_type": "code",
      "source": [
        "# app.py\n",
        "from flask import Flask, render_template, request, redirect, url_for, flash\n",
        "from flask_wtf import FlaskForm\n",
        "from wtforms import StringField, TextAreaField, SubmitField\n",
        "from wtforms.validators import DataRequired, Email, Length\n",
        "\n",
        "app = Flask(__name__)\n",
        "app.config['SECRET_KEY'] = 'your-secret-key-here'\n",
        "\n",
        "class ContactForm(FlaskForm):\n",
        "    name = StringField('Name', validators=[DataRequired(), Length(min=2, max=50)])\n",
        "    email = StringField('Email', validators=[DataRequired(), Email()])\n",
        "    message = TextAreaField('Message', validators=[DataRequired(), Length(min=10)])\n",
        "    submit = SubmitField('Send')\n",
        "\n",
        "@app.route('/contact', methods=['GET', 'POST'])\n",
        "def contact():\n",
        "    form = ContactForm()\n",
        "    if form.validate_on_submit():\n",
        "        name = form.name.data\n",
        "        email = form.email.data\n",
        "        message = form.message.data\n",
        "        flash('Thank you for your message!', 'success')\n",
        "        return redirect(url_for('contact'))\n",
        "    return render_template('contact.html', form=form)\n",
        "\n",
        "if __name__ == '__main__':\n",
        "    app.run(debug=True)\n"
      ],
      "metadata": {
        "id": "q8NYhFbwramG"
      },
      "execution_count": null,
      "outputs": []
    },
    {
      "cell_type": "markdown",
      "source": [
        "##7.  How can you validate form data in Flask?\n"
      ],
      "metadata": {
        "id": "CeZ4MH5KrqMP"
      }
    },
    {
      "cell_type": "code",
      "source": [
        "from flask import Flask, render_template, redirect, url_for, flash\n",
        "from flask_wtf import FlaskForm\n",
        "from wtforms import StringField, PasswordField, SubmitField\n",
        "from wtforms.validators import DataRequired, Email, Length, EqualTo, ValidationError\n",
        "from flask_sqlalchemy import SQLAlchemy\n",
        "\n",
        "app = Flask(__name__)\n",
        "app.config['SECRET_KEY'] = 'super-secret-key'\n",
        "app.config['SQLALCHEMY_DATABASE_URI'] = 'sqlite:///users.db'\n",
        "db = SQLAlchemy(app)\n",
        "\n",
        "class User(db.Model):\n",
        "    id = db.Column(db.Integer, primary_key=True)\n",
        "    username = db.Column(db.String(80), unique=True, nullable=False)\n",
        "    email = db.Column(db.String(120), unique=True, nullable=False)\n",
        "    password = db.Column(db.String(128), nullable=False)\n",
        "\n",
        "class RegistrationForm(FlaskForm):\n",
        "    username = StringField('Username', validators=[DataRequired(), Length(min=3, max=20)])\n",
        "    email = StringField('Email', validators=[DataRequired(), Email()])\n",
        "    password = PasswordField('Password', validators=[DataRequired(), Length(min=8)])\n",
        "    confirm_password = PasswordField('Confirm Password', validators=[DataRequired(), EqualTo('password')])\n",
        "    submit = SubmitField('Register')\n",
        "\n",
        "    def validate_username(self, username):\n",
        "        if User.query.filter_by(username=username.data).first():\n",
        "            raise ValidationError('Username already exists.')\n",
        "\n",
        "    def validate_email(self, email):\n",
        "        if User\n"
      ],
      "metadata": {
        "id": "w_XApcB1rprS"
      },
      "execution_count": null,
      "outputs": []
    },
    {
      "cell_type": "markdown",
      "source": [
        "##8. How do you manage sessions in Flask?\n"
      ],
      "metadata": {
        "id": "tBr1CBA1r5Cp"
      }
    },
    {
      "cell_type": "code",
      "source": [
        "from flask import Flask, session\n",
        "from flask_session import Session\n",
        "\n",
        "app = Flask(__name__)\n",
        "app.config.update({\n",
        "    'SECRET_KEY': 'your-secret-key',\n",
        "    'SESSION_TYPE': 'redis',\n",
        "    'SESSION_USE_SIGNER': True,\n",
        "    'SESSION_PERMANENT': False,\n",
        "    'SESSION_REDIS': redis.from_url('redis://localhost:6379'),\n",
        "})\n",
        "\n",
        "Session(app)\n",
        "\n",
        "@app.route('/')\n",
        "def index():\n",
        "    session['count'] = session.get('count', 0) + 1\n",
        "    return f'Visit count: {session[\"count\"]}'\n"
      ],
      "metadata": {
        "id": "K69PbqeJr4pW"
      },
      "execution_count": null,
      "outputs": []
    },
    {
      "cell_type": "markdown",
      "source": [
        "##9. How do you redirect to a different route in Flask?"
      ],
      "metadata": {
        "id": "4zUmYk1UsFuS"
      }
    },
    {
      "cell_type": "code",
      "source": [
        "from flask import Flask, redirect, url_for, request\n",
        "\n",
        "app = Flask(__name__)\n",
        "\n",
        "@app.route('/')\n",
        "def home():\n",
        "    return redirect(url_for('login_page'))\n",
        "\n",
        "@app.route('/login', methods=['GET', 'POST'])\n",
        "def login_page():\n",
        "    if request.method == 'POST':\n",
        "        # After a successful login, redirect to dashboard\n",
        "        return redirect(url_for('dashboard'))\n",
        "    return '''\n",
        "        <form method=\"post\">\n",
        "            <input name=\"username\" placeholder=\"Username\">\n",
        "            <button type=\"submit\">Login</button>\n",
        "        </form>\n",
        "    '''\n",
        "\n",
        "@app.route('/dashboard')\n",
        "def dashboard():\n",
        "    return 'Welcome to the dashboard!'\n",
        "\n",
        "if __name__ == '__main__':\n",
        "    app.run(debug=True)\n"
      ],
      "metadata": {
        "id": "lW7gqCBKsDE_"
      },
      "execution_count": null,
      "outputs": []
    },
    {
      "cell_type": "markdown",
      "source": [
        "##10. How do you handle errors in Flask (e.g., 404)?\n"
      ],
      "metadata": {
        "id": "aE1uWX5PsOpV"
      }
    },
    {
      "cell_type": "code",
      "source": [
        "from flask import Flask, render_template\n",
        "\n",
        "app = Flask(__name__)\n",
        "\n",
        "@app.errorhandler(404)\n",
        "def page_not_found(error):\n",
        "    return render_template('404.html'), 404\n",
        "\n",
        "@app.route('/')\n",
        "def home():\n",
        "    return \"Home Page\"\n",
        "\n",
        "if __name__ == '__main__':\n",
        "    app.run(debug=True)\n"
      ],
      "metadata": {
        "id": "LqBgK_G4sOVq"
      },
      "execution_count": null,
      "outputs": []
    },
    {
      "cell_type": "markdown",
      "source": [
        "##11. How do you structure a Flask app using Blueprints?\n"
      ],
      "metadata": {
        "id": "l-oz28basagu"
      }
    },
    {
      "cell_type": "code",
      "source": [
        "from flask import Flask\n",
        "from .main import main_bp\n",
        "from .auth import auth_bp\n",
        "\n",
        "def create_app():\n",
        "    app = Flask(__name__)\n",
        "    app.config.from_object('config.Config')\n",
        "\n",
        "    app.register_blueprint(main_bp)\n",
        "    app.register_blueprint(auth_bp, url_prefix='/auth')\n",
        "\n",
        "    return app"
      ],
      "metadata": {
        "id": "Xh8S8-JQs3bQ"
      },
      "execution_count": null,
      "outputs": []
    },
    {
      "cell_type": "markdown",
      "source": [
        "##12. How do you define a custom Jinja filter in Flask?\n"
      ],
      "metadata": {
        "id": "_-9ir9gbs5OO"
      }
    },
    {
      "cell_type": "code",
      "source": [
        "from flask import Flask, render_template\n",
        "from filters import reverse_string\n",
        "\n",
        "app = Flask(__name__)\n",
        "\n",
        "app.add_template_filter(reverse_string, 'reverse')\n",
        "\n",
        "@app.route('/')\n",
        "def index():\n",
        "    name = \"Flask Developer\"\n",
        "    return render_template('index.html', name=name)\n",
        "\n",
        "if __name__ == '__main__':\n",
        "    app.run(debug=True)\n"
      ],
      "metadata": {
        "id": "7jsj7i3_s3zY"
      },
      "execution_count": null,
      "outputs": []
    },
    {
      "cell_type": "markdown",
      "source": [
        "## 13. How can you redirect with query parameters in Flask?\n"
      ],
      "metadata": {
        "id": "JqvSMa_1tYsJ"
      }
    },
    {
      "cell_type": "code",
      "source": [
        "from flask import Flask, redirect, url_for, request\n",
        "\n",
        "app = Flask(__name__)\n",
        "\n",
        "@app.route('/')\n",
        "def home():\n",
        "    return redirect(url_for('greet', name='Alice', age=30))\n",
        "\n",
        "@app.route('/greet')\n",
        "def greet():\n",
        "    name = request.args.get('name')\n",
        "    age = request.args.get('age')\n",
        "    return f\"Hello {name}, you are {age} years old.\"\n",
        "\n",
        "if __name__ == '__main__':\n",
        "    app.run(debug=True)\n"
      ],
      "metadata": {
        "id": "0WOsHwlctYBo"
      },
      "execution_count": null,
      "outputs": []
    },
    {
      "cell_type": "markdown",
      "source": [
        "##14. How do you return JSON responses in Flask.\n"
      ],
      "metadata": {
        "id": "5Ej_vXmftoUP"
      }
    },
    {
      "cell_type": "code",
      "source": [
        "from flask import Flask, jsonify\n",
        "\n",
        "app = Flask(__name__)\n",
        "\n",
        "@app.route('/api/data')\n",
        "def get_data():\n",
        "    data = {\"message\": \"Hello, world!\"}\n",
        "    return jsonify(data)\n",
        "\n",
        "if __name__ == '__main__':\n",
        "    app.run(debug=True)\n"
      ],
      "metadata": {
        "id": "C_RkMkDgth80"
      },
      "execution_count": null,
      "outputs": []
    },
    {
      "cell_type": "markdown",
      "source": [
        "## 15.How do you capture URL parameters in Flask?"
      ],
      "metadata": {
        "id": "OkB3Yk4Nt6S-"
      }
    },
    {
      "cell_type": "code",
      "source": [
        "from flask import Flask, request\n",
        "\n",
        "app = Flask(__name__)\n",
        "\n",
        "@app.route('/search')\n",
        "def search():\n",
        "    query = request.args.get('query', default='', type=str)\n",
        "    page = request.args.get('page', default=1, type=int)\n",
        "    return f\"Search results for '{query}' on page {page}\"\n",
        "\n",
        "if __name__ == '__main__':\n",
        "    app.run(debug=True)\n"
      ],
      "metadata": {
        "id": "tcdEUfOLt37k"
      },
      "execution_count": null,
      "outputs": []
    },
    {
      "cell_type": "code",
      "source": [],
      "metadata": {
        "id": "6634nv02uEOu"
      },
      "execution_count": null,
      "outputs": []
    }
  ]
}