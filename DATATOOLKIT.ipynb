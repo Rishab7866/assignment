{
  "nbformat": 4,
  "nbformat_minor": 0,
  "metadata": {
    "colab": {
      "provenance": []
    },
    "kernelspec": {
      "name": "python3",
      "display_name": "Python 3"
    },
    "language_info": {
      "name": "python"
    }
  },
  "cells": [
    {
      "cell_type": "markdown",
      "source": [
        "# Data Toolkit Theory Answers"
      ],
      "metadata": {
        "id": "2pD4Wwcmj7db"
      }
    },
    {
      "cell_type": "markdown",
      "source": [
        "## 1. What is NumPy, and why is it widely used in Python ?\n",
        "-> NumPy (short for Numerical Python) is a foundational open-source Python library designed for efficient numerical computing. It introduces the ndarray, a powerful n-dimensional array object that enables fast and efficient operations on large datasets."
      ],
      "metadata": {
        "id": "r3Mt__M4kF0J"
      }
    },
    {
      "cell_type": "markdown",
      "source": [
        "## 2. How does broadcasting work in NumPy?\n",
        "-> Broadcasting is NumPy’s technique that lets you perform element-wise operations on arrays of different shapes by “stretching” the smaller array to match the dimensions of the larger one—without actually copying the data.\n",
        "\n"
      ],
      "metadata": {
        "id": "QoendGCWkZGN"
      }
    },
    {
      "cell_type": "markdown",
      "source": [
        "## 3. What is a Pandas DataFrame ?\n",
        "-> A Pandas DataFrame is a two-dimensional, labeled data structure in Python that resembles a spreadsheet or SQL table. It enables powerful and intuitive data manipulation."
      ],
      "metadata": {
        "id": "d3LvbKdPkjA_"
      }
    },
    {
      "cell_type": "markdown",
      "source": [
        "## 4. Explain the use of the groupby() method in Pandas.\n",
        "-> The groupby() method allows you to split a DataFrame into multiple groups, apply operations (like aggregations, transformations, or filters) to each group independently, and then combine the results. This is often referred to as the split-apply-combine pattern, and it’s extremely powerful for analyzing and summarizing data."
      ],
      "metadata": {
        "id": "Itxbf9dTku5O"
      }
    },
    {
      "cell_type": "markdown",
      "source": [
        "## 5. Why is Seaborn preferred for statistical visualizations?\n",
        "-> Seaborn is the go-to choice for statistical visualizations because it:\n",
        "\n",
        "Simplifies complex plots with concise code.\n",
        "\n",
        "Automatically produces clean and appealing visuals.\n",
        "\n",
        "Includes rich statistical plot types.\n",
        "\n",
        "Integrates gracefully with data analysis workflows."
      ],
      "metadata": {
        "id": "d-iVciH2lDkh"
      }
    },
    {
      "cell_type": "markdown",
      "source": [
        "## 6. What are the differences between NumPy arrays and Python lists ?\n",
        "-> Data Homogeneity\n",
        "\n",
        "NumPy arrays hold homogeneous data (all elements of the same type) .\n",
        "\n",
        "Python lists are heterogeneous, supporting mixed data types.\n",
        "\n",
        "Memory Layout & Efficiency\n",
        "\n",
        "NumPy arrays store data in contiguous blocks of memory, making them memory-efficient.\n",
        "\n",
        "Python lists are essentially arrays of pointers to separate Python objects, leading to higher memory overhead .\n",
        "\n",
        "Performance & Speed\n",
        "\n",
        "NumPy operations are vectorized and implemented in C/C++, offering significantly faster numerical operations .\n",
        "\n",
        "In contrast, Python lists require loops for element-wise operations, which are slower .\n",
        "\n",
        "Multidimensional Capabilities\n",
        "\n",
        "NumPy arrays natively support multi-dimensional structures (e.g., 2D, 3D, etc.) and advanced indexing .\n",
        "\n",
        "\n",
        "Python lists require nested lists to simulate dimensions, and indexing/manipulation becomes more complex\n",
        "This vs. That.\n",
        "\n",
        "Mathematical & Array Operations\n",
        "\n",
        "NumPy provides rich built-in operations like element-wise arithmetic, broadcasting, aggregation, and linear algebra functions .\n",
        "\n",
        "Python lists lack native numerical operations and rely on manual implementations (e.g., list comprehensions) .\n",
        "\n",
        "Mutability & Resizing\n",
        "\n",
        "Python lists are dynamically sized, allowing easy appending or removal of elements.\n",
        "\n",
        "NumPy arrays are fixed-size; resizing requires creating new arrays (e.g., via np.concatenate, np.pad)"
      ],
      "metadata": {
        "id": "-xbj5J1elXN1"
      }
    },
    {
      "cell_type": "markdown",
      "source": [
        "## 7. What is a heatmap, and when should it be used ?\n",
        "-> A heatmap is your go-to when you want to visually summarize complex, high-dimensional data in a way that’s both insightful and aesthetically compelling. Use it when the goal is to quickly detect relationships, patterns, or hotspots, rather than displaying exact numerical values."
      ],
      "metadata": {
        "id": "8MnjDDSTmUvd"
      }
    },
    {
      "cell_type": "markdown",
      "source": [
        "## 8. What does the term “vectorized operation” mean in NumPy?\n",
        "-> Operate on Whole Arrays: Instead of looping through elements with Python for statements, operations (like addition, multiplication, or application of functions) are applied across the entire array in one line."
      ],
      "metadata": {
        "id": "WDlMIbUEm6jN"
      }
    },
    {
      "cell_type": "markdown",
      "source": [
        "## 9. How does Matplotlib differ from Plotly?\n",
        "-> Choose Matplotlib if you need full control over static visuals—for academic publications or fine-tuned presentations.\n",
        "\n",
        "Opt for Plotly if you want interactive, visually appealing plots quickly—great for dashboards, web apps, or dynamic data exploration."
      ],
      "metadata": {
        "id": "a2ioNFshnDXX"
      }
    },
    {
      "cell_type": "markdown",
      "source": [
        "## 10. What is the significance of hierarchical indexing in Pandas?\n",
        "-> Purpose: Encodes multiple dimensions (like time, location, category) within standard DataFrame or Series.\n",
        "\n",
        "Strengths: Enhances slicing, grouping, reshaping, and analytical clarity.\n",
        "\n",
        "Best Use Cases: Nested data, time-series with hierarchical labels, pivoted analyses.\n",
        "\n",
        "Consider With Caution: Can introduce complexity; ensure readability doesn’t suffer."
      ],
      "metadata": {
        "id": "1So1VkX-nPt9"
      }
    },
    {
      "cell_type": "markdown",
      "source": [
        "## 11. What is the role of Seaborn’s pairplot() function ?\n",
        "-> pairplot() is a high-level Seaborn function that generates a matrix of visualizations to help you explore relationships among several variables at once. Each cell in this grid shows a scatter plot (off-diagonal) or a histogram/KDE (diagonal), providing insights into how features interact and how each individually distributes."
      ],
      "metadata": {
        "id": "YGZd5umInZh9"
      }
    },
    {
      "cell_type": "markdown",
      "source": [
        "## 12. What is the purpose of the describe() function in Pandas?\n",
        "-> The describe() function provides a descriptive statistical summary of data within a Pandas DataFrame or Series.\n",
        "\n",
        "For numerical columns, it returns key metrics like:\n",
        "\n",
        "count (non-null values), mean, standard deviation, min,\n",
        "\n",
        "25%, 50% (median), 75% percentiles, and max."
      ],
      "metadata": {
        "id": "C-xzlNzPnsPt"
      }
    },
    {
      "cell_type": "markdown",
      "source": [
        "## 13. Why is handling missing data important in Pandas?\n",
        "-> In essence, proactively dealing with missing data in Pandas—through detection (isnull()), removal (dropna()), or imputation (fillna()/interpolate())—is essential for producing accurate, robust, and fair insights.\n"
      ],
      "metadata": {
        "id": "tcrOcqgOn4He"
      }
    },
    {
      "cell_type": "markdown",
      "source": [
        "## 14. What are the benefits of using Plotly for data visualization ?\n",
        "-> Plotly is a standout choice when you need interactive, beautiful, and flexible visualizations, especially in Jupyter notebooks or web dashboards. It scales across languages, chart types, and is ideal for both storytelling and deep exploration."
      ],
      "metadata": {
        "id": "GJTbJymDoFlG"
      }
    },
    {
      "cell_type": "markdown",
      "source": [
        "## 15. How does NumPy handle multidimensional arrays ?\n",
        "-> Technically a numpy array is always 1D... Any dimensions you have are stored separately and only used when you index the data. This is why changing the shape of an array is practically free."
      ],
      "metadata": {
        "id": "StJpX22XoQxV"
      }
    },
    {
      "cell_type": "markdown",
      "source": [
        "## 16.  What is the role of Bokeh in data visualization ?\n",
        "-> Bokeh is a Python library tailored for creating interactive, browser-based visualizations. Unlike static plotting libraries, Bokeh emphasizes dynamic, high-performance visuals rendered via JavaScript for modern web environments."
      ],
      "metadata": {
        "id": "MTbhKpb4ocEd"
      }
    },
    {
      "cell_type": "markdown",
      "source": [
        "## 17. Explain the difference between apply() and map() in Pandas.\n",
        "-> map() — Element-wise Series Transformations\n",
        "\n",
        "Scope: Only available on Series objects.\n",
        "\n",
        "Purpose: Performs element-wise operations, replacing each value in the series via a function, dictionary, or another series.\n",
        "\n",
        "Use Cases:\n",
        "\n",
        "Apply simple transformations like series.map(lambda x: x.upper()).\n",
        "\n",
        "Lookup replacements using a dictionary, e.g., series.map({'A':1, 'B':2}).\n",
        "\n",
        "apply() — Flexible Row/Column or Element-wise Operations\n",
        "\n",
        "Scope: Available on both Series and DataFrame.\n",
        "\n",
        "Purpose: Applies a callable function:\n",
        "\n",
        "On a Series, it operates element-wise—similar to map().\n",
        "\n",
        "On a DataFrame, it applies the function along axis=0 (columns) or axis=1 (rows).\n",
        "\n",
        "Use Cases:\n",
        "\n",
        "Aggregation: e.g., df.apply(np.sum, axis=0)\n",
        "\n",
        "Row-wise calculation: e.g., df.apply(lambda row: row['B'] - row['A'], axis=1).\n"
      ],
      "metadata": {
        "id": "jrMzZndnoml1"
      }
    },
    {
      "cell_type": "markdown",
      "source": [
        "## 18. What are some advanced features of NumPy.\n",
        "-> Advanced Features of NumPy\n",
        "1. Broadcasting\n",
        "\n",
        "Broadcasting allows NumPy to perform arithmetic operations on arrays of different shapes without explicit replication of data. This feature simplifies code and enhances performance by eliminating the need for manual looping or reshaping.\n",
        "\n",
        "\n",
        "2. Universal Functions (ufuncs)\n",
        "\n",
        "NumPy's universal functions are optimized, element-wise operations implemented in C, providing fast computations. They support features like broadcasting, type casting, and several built-in methods for accumulation, reduction, and outer products.\n",
        "\n",
        "3. Advanced Indexing and Slicing\n",
        "\n",
        "Beyond basic slicing, NumPy supports advanced indexing techniques, including integer array indexing and boolean masking. These methods enable the selection and manipulation of data in complex ways, facilitating tasks like filtering and reordering.\n",
        "\n",
        "4. Memory Mapping\n",
        "\n",
        "For handling large datasets that don't fit into memory, NumPy provides memory-mapped file support. This feature allows for the reading and writing of large arrays on disk as if they were in memory, enabling efficient processing of big data.\n",
        "\n",
        "5. Linear Algebra Operations\n",
        "\n",
        "NumPy offers a comprehensive set of linear algebra functions, including matrix multiplication, eigenvalue decomposition, and singular value decomposition. These functions are essential for scientific computations and are optimized for performance.\n",
        "\n",
        "6. Random Sampling and Distributions\n",
        "\n",
        "The numpy.random module provides tools for generating random numbers, sampling from various statistical distributions, and performing random permutations. This is particularly useful in simulations, statistical modeling, and machine learning applications.\n",
        "\n",
        "7. Integration with Other Libraries\n",
        "\n",
        "NumPy seamlessly integrates with other scientific computing libraries in the Python ecosystem, such as SciPy, Matplotlib, and Pandas. This interoperability allows for a cohesive workflow in data analysis, visualization, and machine learning tasks."
      ],
      "metadata": {
        "id": "eMksEY1ypE2J"
      }
    },
    {
      "cell_type": "markdown",
      "source": [
        "## 19. How does Pandas simplify time series analysis ?\n",
        "-> From stock market trends and energy consumption to healthcare monitoring and economic indicators—Pandas equips you with the tools needed to handle time-indexed data efficiently and effectively."
      ],
      "metadata": {
        "id": "b8UuX8h_3XgH"
      }
    },
    {
      "cell_type": "markdown",
      "source": [
        "## 20. What is the role of a pivot table in Pandas?\n",
        "-> Pandas’ pivot_table is a supercharged data reshaping tool—think of it as an Excel-style pivot table—built for Python. It lets you summarize, aggregate, and restructure your DataFrame in a clear, multidimensional format that’s perfect for analysis."
      ],
      "metadata": {
        "id": "ynDA3zT83kQG"
      }
    },
    {
      "cell_type": "markdown",
      "source": [
        "## 21. Why is NumPy’s array slicing faster than Python’s list slicing?\n",
        "-> NumPy slicing is faster because:\n",
        "\n",
        "The underlying data is homogeneous and stored contiguously—no pointer chasing.\n",
        "\n",
        "Slicing creates a view, not a copy, so it's quick and lightweight.\n",
        "\n",
        "Post-slice operations run in optimized C/Fortran code, not Python loops."
      ],
      "metadata": {
        "id": "w9T6oMjM3zln"
      }
    },
    {
      "cell_type": "markdown",
      "source": [
        "## 22. What are some common use cases for Seaborn?\n",
        "-> Statistical Visualization\n",
        "\n",
        "Beautiful Default Styles & Themes\n",
        "\n",
        "Integration with Pandas DataFrames\n",
        "\n",
        "Exploratory Data Analysis (EDA)\n",
        "\n",
        "Visualizing Relationships & Trends\n",
        "\n",
        "Categorical Data Plotting\n",
        "\n",
        "Heatmaps & Correlation Matrices\n",
        "\n",
        "Multi-Plot Grids & Faceting\n",
        "\n",
        "Complex Visualizations Made Simple"
      ],
      "metadata": {
        "id": "mHNkPvim39-m"
      }
    },
    {
      "cell_type": "markdown",
      "source": [
        "# Data Toolkit Practical Answers"
      ],
      "metadata": {
        "id": "u2CpC5wh4SrW"
      }
    },
    {
      "cell_type": "markdown",
      "source": [
        "## 1. How do you create a 2D NumPy array and calculate the sum of each row ?"
      ],
      "metadata": {
        "id": "P11rh8Kf4c-N"
      }
    },
    {
      "cell_type": "code",
      "execution_count": 1,
      "metadata": {
        "id": "mBsbeOdTj4vb"
      },
      "outputs": [],
      "source": [
        "import numpy as np\n",
        "\n",
        "arr = np.array([\n",
        "    [1, 2, 3],\n",
        "    [4, 5, 6],\n",
        "    [7, 8, 9]\n",
        "])\n"
      ]
    },
    {
      "cell_type": "markdown",
      "source": [
        "## 2. Write a Pandas script to find the mean of a specific column in a DataFrame."
      ],
      "metadata": {
        "id": "YPfekOlP4r0h"
      }
    },
    {
      "cell_type": "code",
      "source": [
        "import pandas as pd\n",
        "\n",
        "\n",
        "df = pd.DataFrame({\n",
        "    'player': ['A', 'B', 'C', 'D', 'E'],\n",
        "    'points': [25, 20, 14, 16, 27],\n",
        "    'assists': [5, 7, 7, 8, 5],\n",
        "    'rebounds': [None, 8, 10, 6, 6]\n",
        "})\n",
        "\n",
        "\n",
        "mean_points = df['points'].mean()\n",
        "\n",
        "\n",
        "mean_rebounds = df['rebounds'].mean()\n",
        "\n",
        "print(\"Mean of points:\", mean_points)\n",
        "print(\"Mean of rebounds:\", mean_rebounds)\n"
      ],
      "metadata": {
        "colab": {
          "base_uri": "https://localhost:8080/"
        },
        "id": "9hiNbNKL4qZD",
        "outputId": "9063fcaa-3caf-41f4-c9d1-efc62d49f380"
      },
      "execution_count": 2,
      "outputs": [
        {
          "output_type": "stream",
          "name": "stdout",
          "text": [
            "Mean of points: 20.4\n",
            "Mean of rebounds: 7.5\n"
          ]
        }
      ]
    },
    {
      "cell_type": "markdown",
      "source": [
        "## 3. Create a scatter plot using Matplotlib.\n",
        "\n"
      ],
      "metadata": {
        "id": "ec-VSBhv5BVe"
      }
    },
    {
      "cell_type": "code",
      "source": [
        "import matplotlib.pyplot as plt\n",
        "import numpy as np\n",
        "\n",
        "x = np.array([5, 7, 8, 7, 2, 17])\n",
        "y = np.array([99, 86, 87, 88, 111, 86])\n",
        "\n",
        "plt.scatter(x, y)\n",
        "plt.show()"
      ],
      "metadata": {
        "colab": {
          "base_uri": "https://localhost:8080/",
          "height": 430
        },
        "id": "3ZwZ7bZK5A3x",
        "outputId": "f53863ac-5f1a-4763-88f4-332eddf66752"
      },
      "execution_count": 3,
      "outputs": [
        {
          "output_type": "display_data",
          "data": {
            "text/plain": [
              "<Figure size 640x480 with 1 Axes>"
            ],
            "image/png": "[encoded data removed]"
          },
          "metadata": {}
        }
      ]
    },
    {
      "cell_type": "markdown",
      "source": [
        "## 4. How do you calculate the correlation matrix using Seaborn and visualize it with a heatmap?"
      ],
      "metadata": {
        "id": "hO4jMy1U5RsX"
      }
    },
    {
      "cell_type": "code",
      "source": [
        "import pandas as pd\n",
        "\n",
        "\n",
        "df = pd.DataFrame({\n",
        "    'A': [1, 2, 3, 4, 5],\n",
        "    'B': [5, 4, 3, 2, 1],\n",
        "    'C': [2, 3, 2, 4, 5]\n",
        "})\n",
        "\n",
        "corr = df.corr()\n"
      ],
      "metadata": {
        "id": "eaCZVawy5P9D"
      },
      "execution_count": 4,
      "outputs": []
    },
    {
      "cell_type": "code",
      "source": [
        "import seaborn as sns\n",
        "import matplotlib.pyplot as plt\n",
        "\n",
        "sns.heatmap(corr, annot=True, cmap='coolwarm')\n",
        "plt.show()\n"
      ],
      "metadata": {
        "colab": {
          "base_uri": "https://localhost:8080/",
          "height": 435
        },
        "id": "Nd6DI5-95cZd",
        "outputId": "7fc5da22-318f-48b9-8790-30f83a471a11"
      },
      "execution_count": 5,
      "outputs": [
        {
          "output_type": "display_data",
          "data": {
            "text/plain": [
              "<Figure size 640x480 with 2 Axes>"
            ],
            "image/png": "[encoded data removed]"
          },
          "metadata": {}
        }
      ]
    },
    {
      "cell_type": "markdown",
      "source": [
        "## 5. Generate a bar plot using Plotly.\n"
      ],
      "metadata": {
        "id": "viz6eiPe5i9u"
      }
    },
    {
      "cell_type": "code",
      "source": [
        "import plotly.express as px\n",
        "import pandas as pd\n",
        "\n",
        "df = pd.DataFrame({\n",
        "    'category': ['A', 'B', 'C', 'D', 'E'],\n",
        "    'value': [17, 42, 33, 55, 25]\n",
        "})\n",
        "\n",
        "fig = px.bar(df, x='category', y='value', title='Simple Bar Chart')\n",
        "fig.show()\n"
      ],
      "metadata": {
        "colab": {
          "base_uri": "https://localhost:8080/",
          "height": 542
        },
        "id": "V6s5Ri3J5hEs",
        "outputId": "e378c44b-e5ca-4a66-f6ba-c71faa53c75f"
      },
      "execution_count": 6,
      "outputs": [
        {
          "output_type": "display_data",
          "data": {
            "text/html": [
              "<html>\n",
              "<head><meta charset=\"utf-8\" /></head>\n",
              "<body>\n",
              "    <div>            <script src=\"https://cdnjs.cloudflare.com/ajax/libs/mathjax/2.7.5/MathJax.js?config=TeX-AMS-MML_SVG\"></script><script type=\"text/javascript\">if (window.MathJax && window.MathJax.Hub && window.MathJax.Hub.Config) {window.MathJax.Hub.Config({SVG: {font: \"STIX-Web\"}});}</script>                <script type=\"text/javascript\">window.PlotlyConfig = {MathJaxConfig: 'local'};</script>\n",
              "        <script charset=\"utf-8\" src=\"https://cdn.plot.ly/plotly-2.35.2.min.js\"></script>                <div id=\"e3cacbf2-b242-4453-86e0-733115d2afbc\" class=\"plotly-graph-div\" style=\"height:525px; width:100%;\"></div>            <script type=\"text/javascript\">                                    window.PLOTLYENV=window.PLOTLYENV || {};                                    if (document.getElementById(\"e3cacbf2-b242-4453-86e0-733115d2afbc\")) {                    Plotly.newPlot(                        \"e3cacbf2-b242-4453-86e0-733115d2afbc\",                        [{\"alignmentgroup\":\"True\",\"hovertemplate\":\"category=%{x}\\u003cbr\\u003evalue=%{y}\\u003cextra\\u003e\\u003c\\u002fextra\\u003e\",\"legendgroup\":\"\",\"marker\":{\"color\":\"#636efa\",\"pattern\":{\"shape\":\"\"}},\"name\":\"\",\"offsetgroup\":\"\",\"orientation\":\"v\",\"showlegend\":false,\"textposition\":\"auto\",\"x\":[\"A\",\"B\",\"C\",\"D\",\"E\"],\"xaxis\":\"x\",\"y\":[17,42,33,55,25],\"yaxis\":\"y\",\"type\":\"bar\"}],                        {\"template\":{\"data\":{\"histogram2dcontour\":[{\"type\":\"histogram2dcontour\",\"colorbar\":{\"outlinewidth\":0,\"ticks\":\"\"},\"colorscale\":[[0.0,\"#0d0887\"],[0.1111111111111111,\"#46039f\"],[0.2222222222222222,\"#7201a8\"],[0.3333333333333333,\"#9c179e\"],[0.4444444444444444,\"#bd3786\"],[0.5555555555555556,\"#d8576b\"],[0.6666666666666666,\"#ed7953\"],[0.7777777777777778,\"#fb9f3a\"],[0.8888888888888888,\"#fdca26\"],[1.0,\"#f0f921\"]]}],\"choropleth\":[{\"type\":\"choropleth\",\"colorbar\":{\"outlinewidth\":0,\"ticks\":\"\"}}],\"histogram2d\":[{\"type\":\"histogram2d\",\"colorbar\":{\"outlinewidth\":0,\"ticks\":\"\"},\"colorscale\":[[0.0,\"#0d0887\"],[0.1111111111111111,\"#46039f\"],[0.2222222222222222,\"#7201a8\"],[0.3333333333333333,\"#9c179e\"],[0.4444444444444444,\"#bd3786\"],[0.5555555555555556,\"#d8576b\"],[0.6666666666666666,\"#ed7953\"],[0.7777777777777778,\"#fb9f3a\"],[0.8888888888888888,\"#fdca26\"],[1.0,\"#f0f921\"]]}],\"heatmap\":[{\"type\":\"heatmap\",\"colorbar\":{\"outlinewidth\":0,\"ticks\":\"\"},\"colorscale\":[[0.0,\"#0d0887\"],[0.1111111111111111,\"#46039f\"],[0.2222222222222222,\"#7201a8\"],[0.3333333333333333,\"#9c179e\"],[0.4444444444444444,\"#bd3786\"],[0.5555555555555556,\"#d8576b\"],[0.6666666666666666,\"#ed7953\"],[0.7777777777777778,\"#fb9f3a\"],[0.8888888888888888,\"#fdca26\"],[1.0,\"#f0f921\"]]}],\"heatmapgl\":[{\"type\":\"heatmapgl\",\"colorbar\":{\"outlinewidth\":0,\"ticks\":\"\"},\"colorscale\":[[0.0,\"#0d0887\"],[0.1111111111111111,\"#46039f\"],[0.2222222222222222,\"#7201a8\"],[0.3333333333333333,\"#9c179e\"],[0.4444444444444444,\"#bd3786\"],[0.5555555555555556,\"#d8576b\"],[0.6666666666666666,\"#ed7953\"],[0.7777777777777778,\"#fb9f3a\"],[0.8888888888888888,\"#fdca26\"],[1.0,\"#f0f921\"]]}],\"contourcarpet\":[{\"type\":\"contourcarpet\",\"colorbar\":{\"outlinewidth\":0,\"ticks\":\"\"}}],\"contour\":[{\"type\":\"contour\",\"colorbar\":{\"outlinewidth\":0,\"ticks\":\"\"},\"colorscale\":[[0.0,\"#0d0887\"],[0.1111111111111111,\"#46039f\"],[0.2222222222222222,\"#7201a8\"],[0.3333333333333333,\"#9c179e\"],[0.4444444444444444,\"#bd3786\"],[0.5555555555555556,\"#d8576b\"],[0.6666666666666666,\"#ed7953\"],[0.7777777777777778,\"#fb9f3a\"],[0.8888888888888888,\"#fdca26\"],[1.0,\"#f0f921\"]]}],\"surface\":[{\"type\":\"surface\",\"colorbar\":{\"outlinewidth\":0,\"ticks\":\"\"},\"colorscale\":[[0.0,\"#0d0887\"],[0.1111111111111111,\"#46039f\"],[0.2222222222222222,\"#7201a8\"],[0.3333333333333333,\"#9c179e\"],[0.4444444444444444,\"#bd3786\"],[0.5555555555555556,\"#d8576b\"],[0.6666666666666666,\"#ed7953\"],[0.7777777777777778,\"#fb9f3a\"],[0.8888888888888888,\"#fdca26\"],[1.0,\"#f0f921\"]]}],\"mesh3d\":[{\"type\":\"mesh3d\",\"colorbar\":{\"outlinewidth\":0,\"ticks\":\"\"}}],\"scatter\":[{\"fillpattern\":{\"fillmode\":\"overlay\",\"size\":10,\"solidity\":0.2},\"type\":\"scatter\"}],\"parcoords\":[{\"type\":\"parcoords\",\"line\":{\"colorbar\":{\"outlinewidth\":0,\"ticks\":\"\"}}}],\"scatterpolargl\":[{\"type\":\"scatterpolargl\",\"marker\":{\"colorbar\":{\"outlinewidth\":0,\"ticks\":\"\"}}}],\"bar\":[{\"error_x\":{\"color\":\"#2a3f5f\"},\"error_y\":{\"color\":\"#2a3f5f\"},\"marker\":{\"line\":{\"color\":\"#E5ECF6\",\"width\":0.5},\"pattern\":{\"fillmode\":\"overlay\",\"size\":10,\"solidity\":0.2}},\"type\":\"bar\"}],\"scattergeo\":[{\"type\":\"scattergeo\",\"marker\":{\"colorbar\":{\"outlinewidth\":0,\"ticks\":\"\"}}}],\"scatterpolar\":[{\"type\":\"scatterpolar\",\"marker\":{\"colorbar\":{\"outlinewidth\":0,\"ticks\":\"\"}}}],\"histogram\":[{\"marker\":{\"pattern\":{\"fillmode\":\"overlay\",\"size\":10,\"solidity\":0.2}},\"type\":\"histogram\"}],\"scattergl\":[{\"type\":\"scattergl\",\"marker\":{\"colorbar\":{\"outlinewidth\":0,\"ticks\":\"\"}}}],\"scatter3d\":[{\"type\":\"scatter3d\",\"line\":{\"colorbar\":{\"outlinewidth\":0,\"ticks\":\"\"}},\"marker\":{\"colorbar\":{\"outlinewidth\":0,\"ticks\":\"\"}}}],\"scattermapbox\":[{\"type\":\"scattermapbox\",\"marker\":{\"colorbar\":{\"outlinewidth\":0,\"ticks\":\"\"}}}],\"scatterternary\":[{\"type\":\"scatterternary\",\"marker\":{\"colorbar\":{\"outlinewidth\":0,\"ticks\":\"\"}}}],\"scattercarpet\":[{\"type\":\"scattercarpet\",\"marker\":{\"colorbar\":{\"outlinewidth\":0,\"ticks\":\"\"}}}],\"carpet\":[{\"aaxis\":{\"endlinecolor\":\"#2a3f5f\",\"gridcolor\":\"white\",\"linecolor\":\"white\",\"minorgridcolor\":\"white\",\"startlinecolor\":\"#2a3f5f\"},\"baxis\":{\"endlinecolor\":\"#2a3f5f\",\"gridcolor\":\"white\",\"linecolor\":\"white\",\"minorgridcolor\":\"white\",\"startlinecolor\":\"#2a3f5f\"},\"type\":\"carpet\"}],\"table\":[{\"cells\":{\"fill\":{\"color\":\"#EBF0F8\"},\"line\":{\"color\":\"white\"}},\"header\":{\"fill\":{\"color\":\"#C8D4E3\"},\"line\":{\"color\":\"white\"}},\"type\":\"table\"}],\"barpolar\":[{\"marker\":{\"line\":{\"color\":\"#E5ECF6\",\"width\":0.5},\"pattern\":{\"fillmode\":\"overlay\",\"size\":10,\"solidity\":0.2}},\"type\":\"barpolar\"}],\"pie\":[{\"automargin\":true,\"type\":\"pie\"}]},\"layout\":{\"autotypenumbers\":\"strict\",\"colorway\":[\"#636efa\",\"#EF553B\",\"#00cc96\",\"#ab63fa\",\"#FFA15A\",\"#19d3f3\",\"#FF6692\",\"#B6E880\",\"#FF97FF\",\"#FECB52\"],\"font\":{\"color\":\"#2a3f5f\"},\"hovermode\":\"closest\",\"hoverlabel\":{\"align\":\"left\"},\"paper_bgcolor\":\"white\",\"plot_bgcolor\":\"#E5ECF6\",\"polar\":{\"bgcolor\":\"#E5ECF6\",\"angularaxis\":{\"gridcolor\":\"white\",\"linecolor\":\"white\",\"ticks\":\"\"},\"radialaxis\":{\"gridcolor\":\"white\",\"linecolor\":\"white\",\"ticks\":\"\"}},\"ternary\":{\"bgcolor\":\"#E5ECF6\",\"aaxis\":{\"gridcolor\":\"white\",\"linecolor\":\"white\",\"ticks\":\"\"},\"baxis\":{\"gridcolor\":\"white\",\"linecolor\":\"white\",\"ticks\":\"\"},\"caxis\":{\"gridcolor\":\"white\",\"linecolor\":\"white\",\"ticks\":\"\"}},\"coloraxis\":{\"colorbar\":{\"outlinewidth\":0,\"ticks\":\"\"}},\"colorscale\":{\"sequential\":[[0.0,\"#0d0887\"],[0.1111111111111111,\"#46039f\"],[0.2222222222222222,\"#7201a8\"],[0.3333333333333333,\"#9c179e\"],[0.4444444444444444,\"#bd3786\"],[0.5555555555555556,\"#d8576b\"],[0.6666666666666666,\"#ed7953\"],[0.7777777777777778,\"#fb9f3a\"],[0.8888888888888888,\"#fdca26\"],[1.0,\"#f0f921\"]],\"sequentialminus\":[[0.0,\"#0d0887\"],[0.1111111111111111,\"#46039f\"],[0.2222222222222222,\"#7201a8\"],[0.3333333333333333,\"#9c179e\"],[0.4444444444444444,\"#bd3786\"],[0.5555555555555556,\"#d8576b\"],[0.6666666666666666,\"#ed7953\"],[0.7777777777777778,\"#fb9f3a\"],[0.8888888888888888,\"#fdca26\"],[1.0,\"#f0f921\"]],\"diverging\":[[0,\"#8e0152\"],[0.1,\"#c51b7d\"],[0.2,\"#de77ae\"],[0.3,\"#f1b6da\"],[0.4,\"#fde0ef\"],[0.5,\"#f7f7f7\"],[0.6,\"#e6f5d0\"],[0.7,\"#b8e186\"],[0.8,\"#7fbc41\"],[0.9,\"#4d9221\"],[1,\"#276419\"]]},\"xaxis\":{\"gridcolor\":\"white\",\"linecolor\":\"white\",\"ticks\":\"\",\"title\":{\"standoff\":15},\"zerolinecolor\":\"white\",\"automargin\":true,\"zerolinewidth\":2},\"yaxis\":{\"gridcolor\":\"white\",\"linecolor\":\"white\",\"ticks\":\"\",\"title\":{\"standoff\":15},\"zerolinecolor\":\"white\",\"automargin\":true,\"zerolinewidth\":2},\"scene\":{\"xaxis\":{\"backgroundcolor\":\"#E5ECF6\",\"gridcolor\":\"white\",\"linecolor\":\"white\",\"showbackground\":true,\"ticks\":\"\",\"zerolinecolor\":\"white\",\"gridwidth\":2},\"yaxis\":{\"backgroundcolor\":\"#E5ECF6\",\"gridcolor\":\"white\",\"linecolor\":\"white\",\"showbackground\":true,\"ticks\":\"\",\"zerolinecolor\":\"white\",\"gridwidth\":2},\"zaxis\":{\"backgroundcolor\":\"#E5ECF6\",\"gridcolor\":\"white\",\"linecolor\":\"white\",\"showbackground\":true,\"ticks\":\"\",\"zerolinecolor\":\"white\",\"gridwidth\":2}},\"shapedefaults\":{\"line\":{\"color\":\"#2a3f5f\"}},\"annotationdefaults\":{\"arrowcolor\":\"#2a3f5f\",\"arrowhead\":0,\"arrowwidth\":1},\"geo\":{\"bgcolor\":\"white\",\"landcolor\":\"#E5ECF6\",\"subunitcolor\":\"white\",\"showland\":true,\"showlakes\":true,\"lakecolor\":\"white\"},\"title\":{\"x\":0.05},\"mapbox\":{\"style\":\"light\"}}},\"xaxis\":{\"anchor\":\"y\",\"domain\":[0.0,1.0],\"title\":{\"text\":\"category\"}},\"yaxis\":{\"anchor\":\"x\",\"domain\":[0.0,1.0],\"title\":{\"text\":\"value\"}},\"legend\":{\"tracegroupgap\":0},\"title\":{\"text\":\"Simple Bar Chart\"},\"barmode\":\"relative\"},                        {\"responsive\": true}                    ).then(function(){\n",
              "                            \n",
              "var gd = document.getElementById('e3cacbf2-b242-4453-86e0-733115d2afbc');\n",
              "var x = new MutationObserver(function (mutations, observer) {{\n",
              "        var display = window.getComputedStyle(gd).display;\n",
              "        if (!display || display === 'none') {{\n",
              "            console.log([gd, 'removed!']);\n",
              "            Plotly.purge(gd);\n",
              "            observer.disconnect();\n",
              "        }}\n",
              "}});\n",
              "\n",
              "// Listen for the removal of the full notebook cells\n",
              "var notebookContainer = gd.closest('#notebook-container');\n",
              "if (notebookContainer) {{\n",
              "    x.observe(notebookContainer, {childList: true});\n",
              "}}\n",
              "\n",
              "// Listen for the clearing of the current output cell\n",
              "var outputEl = gd.closest('.output');\n",
              "if (outputEl) {{\n",
              "    x.observe(outputEl, {childList: true});\n",
              "}}\n",
              "\n",
              "                        })                };                            </script>        </div>\n",
              "</body>\n",
              "</html>"
            ]
          },
          "metadata": {}
        }
      ]
    },
    {
      "cell_type": "markdown",
      "source": [
        "## 6. Create a DataFrame and add a new column based on an existing column.\n"
      ],
      "metadata": {
        "id": "Wvf44wXH5xlv"
      }
    },
    {
      "cell_type": "code",
      "source": [
        "import pandas as pd\n",
        "\n",
        "\n",
        "df = pd.DataFrame({\n",
        "    'Name': ['Alice', 'Bob', 'Charlie', 'David'],\n",
        "    'Age': [25, 17, 35, 12]\n",
        "})\n",
        "\n",
        "df['IsAdult'] = df['Age'] >= 18\n",
        "\n",
        "df = df.assign(AgeGroup=lambda x: x['Age'].apply(\n",
        "    lambda age: 'Adult' if age >= 18 else 'Minor'\n",
        "))\n",
        "\n",
        "print(df)\n"
      ],
      "metadata": {
        "colab": {
          "base_uri": "https://localhost:8080/"
        },
        "id": "HHeadksB5u5r",
        "outputId": "b6b2113f-5a47-4cd1-b335-54af51c93cd7"
      },
      "execution_count": 7,
      "outputs": [
        {
          "output_type": "stream",
          "name": "stdout",
          "text": [
            "      Name  Age  IsAdult AgeGroup\n",
            "0    Alice   25     True    Adult\n",
            "1      Bob   17    False    Minor\n",
            "2  Charlie   35     True    Adult\n",
            "3    David   12    False    Minor\n"
          ]
        }
      ]
    },
    {
      "cell_type": "code",
      "source": [
        "df['DoubleAge'] = df['Age'] * 2\n",
        "print(df)"
      ],
      "metadata": {
        "colab": {
          "base_uri": "https://localhost:8080/"
        },
        "id": "xxfC6OPj6D1z",
        "outputId": "8e777c27-746c-48c2-81a4-622bf72f5e28"
      },
      "execution_count": 9,
      "outputs": [
        {
          "output_type": "stream",
          "name": "stdout",
          "text": [
            "      Name  Age  IsAdult AgeGroup  DoubleAge\n",
            "0    Alice   25     True    Adult         50\n",
            "1      Bob   17    False    Minor         34\n",
            "2  Charlie   35     True    Adult         70\n",
            "3    David   12    False    Minor         24\n"
          ]
        }
      ]
    },
    {
      "cell_type": "markdown",
      "source": [
        "## 7. Write a program to perform element-wise multiplication of two NumPy arrays."
      ],
      "metadata": {
        "id": "4bgTQ0Sx6NTH"
      }
    },
    {
      "cell_type": "code",
      "source": [
        "import numpy as np\n",
        "\n",
        "arr1 = np.array([1, 2, 3, 4])\n",
        "arr2 = np.array([5, 6, 7, 8])\n",
        "\n",
        "result1 = arr1 * arr2\n",
        "\n",
        "result2 = np.multiply(arr1, arr2)\n",
        "\n",
        "print(\"Using * operator:     \", result1)\n",
        "print(\"Using np.multiply():  \", result2)\n"
      ],
      "metadata": {
        "colab": {
          "base_uri": "https://localhost:8080/"
        },
        "id": "0I-5TJYZ6H8x",
        "outputId": "91d9c636-732d-4c67-d7db-a8679a673a00"
      },
      "execution_count": 10,
      "outputs": [
        {
          "output_type": "stream",
          "name": "stdout",
          "text": [
            "Using * operator:      [ 5 12 21 32]\n",
            "Using np.multiply():   [ 5 12 21 32]\n"
          ]
        }
      ]
    },
    {
      "cell_type": "markdown",
      "source": [
        "## 8. Create a line plot with multiple lines using Matplotlib."
      ],
      "metadata": {
        "id": "LSjImAnP6VX2"
      }
    },
    {
      "cell_type": "code",
      "source": [
        "import numpy as np\n",
        "import matplotlib.pyplot as plt\n",
        "\n",
        "x = np.linspace(0, 10, 100)\n",
        "y1 = np.sin(x)\n",
        "y2 = np.cos(x)\n",
        "y3 = x * 0.1\n",
        "\n",
        "plt.plot(x, y1, label='sin(x)', linestyle='-', color='blue')\n",
        "plt.plot(x, y2, label='cos(x)', linestyle='--', color='green')\n",
        "plt.plot(x, y3, label='0.1x', linestyle=':', color='red')\n",
        "\n",
        "plt.title('Multiple Lines Example')\n",
        "plt.xlabel('X-axis')\n",
        "plt.ylabel('Y-axis')\n",
        "plt.legend()\n",
        "plt.grid(True)\n",
        "plt.show()\n"
      ],
      "metadata": {
        "colab": {
          "base_uri": "https://localhost:8080/",
          "height": 472
        },
        "id": "ppAgihxC6UmR",
        "outputId": "515e4430-5aee-45c6-d14c-dbd6fe4e65cd"
      },
      "execution_count": 11,
      "outputs": [
        {
          "output_type": "display_data",
          "data": {
            "text/plain": [
              "<Figure size 640x480 with 1 Axes>"
            ],
            "image/png": "[encoded data removed]"
          },
          "metadata": {}
        }
      ]
    },
    {
      "cell_type": "markdown",
      "source": [
        "## 9. Generate a Pandas DataFrame and filter rows where a column value is greater than a threshold.\n"
      ],
      "metadata": {
        "id": "K8dMXlJH6hqH"
      }
    },
    {
      "cell_type": "code",
      "source": [
        "import pandas as pd\n",
        "\n",
        "df = pd.DataFrame({\n",
        "    'Name': ['Alice', 'Bob', 'Charlie', 'David', 'Eva'],\n",
        "    'Score': [82, 95, 78, 99, 65]\n",
        "})\n",
        "\n",
        "threshold = 90\n",
        "\n",
        "filtered_df = df[df['Score'] > threshold]\n",
        "\n",
        "print(\"Original DataFrame:\\n\", df, \"\\n\")\n",
        "print(f\"Filtered rows where Score > {threshold}:\\n\", filtered_df)\n"
      ],
      "metadata": {
        "colab": {
          "base_uri": "https://localhost:8080/"
        },
        "id": "slwo4cCZ6eOT",
        "outputId": "06f1ad9d-68a5-400a-f450-3fd9d37e4817"
      },
      "execution_count": 12,
      "outputs": [
        {
          "output_type": "stream",
          "name": "stdout",
          "text": [
            "Original DataFrame:\n",
            "       Name  Score\n",
            "0    Alice     82\n",
            "1      Bob     95\n",
            "2  Charlie     78\n",
            "3    David     99\n",
            "4      Eva     65 \n",
            "\n",
            "Filtered rows where Score > 90:\n",
            "     Name  Score\n",
            "1    Bob     95\n",
            "3  David     99\n"
          ]
        }
      ]
    },
    {
      "cell_type": "markdown",
      "source": [
        "## 10.Create a histogram using Seaborn to visualize a distribution."
      ],
      "metadata": {
        "id": "W2ieuUQY6sm3"
      }
    },
    {
      "cell_type": "code",
      "source": [
        "import seaborn as sns\n",
        "import matplotlib.pyplot as plt\n",
        "\n",
        "# Example: Plotting the distribution of 'flipper_length_mm' from the penguins dataset\n",
        "penguins = sns.load_dataset(\"penguins\")\n",
        "sns.histplot(data=penguins, x=\"flipper_length_mm\")\n",
        "plt.show()\n"
      ],
      "metadata": {
        "colab": {
          "base_uri": "https://localhost:8080/",
          "height": 450
        },
        "id": "WFgx8zcv6oYt",
        "outputId": "266b5b69-c423-4fc2-9073-0b36e4218069"
      },
      "execution_count": 13,
      "outputs": [
        {
          "output_type": "display_data",
          "data": {
            "text/plain": [
              "<Figure size 640x480 with 1 Axes>"
            ],
            "image/png": "[encoded data removed]"
          },
          "metadata": {}
        }
      ]
    },
    {
      "cell_type": "markdown",
      "source": [
        "## 11. Perform matrix multiplication using NumPy."
      ],
      "metadata": {
        "id": "J5WxYe4365yh"
      }
    },
    {
      "cell_type": "code",
      "source": [
        "import numpy as np\n",
        "\n",
        "A = np.array([[1, 2], [3, 4]])\n",
        "B = np.array([[5, 6], [7, 8]])\n",
        "\n",
        "C = np.dot(A, B)\n",
        "print(C)\n"
      ],
      "metadata": {
        "colab": {
          "base_uri": "https://localhost:8080/"
        },
        "id": "WGHKtoz463US",
        "outputId": "91eb67cd-aee3-42fb-8c4c-6b43077fafb1"
      },
      "execution_count": 15,
      "outputs": [
        {
          "output_type": "stream",
          "name": "stdout",
          "text": [
            "[[19 22]\n",
            " [43 50]]\n"
          ]
        }
      ]
    },
    {
      "cell_type": "markdown",
      "source": [
        "## 12. Use Pandas to load a CSV file and display its first 5 rows."
      ],
      "metadata": {
        "id": "rWxcLAGC7C3I"
      }
    },
    {
      "cell_type": "code",
      "source": [
        "import pandas as pd\n",
        "\n",
        "df = pd.read_csv('data.csv')\n",
        "print(df.head())\n"
      ],
      "metadata": {
        "id": "25UbOj6z9Az7"
      },
      "execution_count": null,
      "outputs": []
    },
    {
      "cell_type": "markdown",
      "source": [
        "## 13. Create a 3D scatter plot using Plotly"
      ],
      "metadata": {
        "id": "xPyJcApX-Pj_"
      }
    },
    {
      "cell_type": "code",
      "source": [
        "import plotly.express as px\n",
        "\n",
        "df = px.data.iris()\n",
        "\n",
        "fig = px.scatter_3d(\n",
        "    df,\n",
        "    x='sepal_length',\n",
        "    y='sepal_width',\n",
        "    z='petal_width',\n",
        "    color='species',              # Adds color grouping\n",
        "    size='petal_length',          # Sizes markers by petal length\n",
        "    symbol='species',             # Different symbols per species\n",
        "    opacity=0.7                   # Set transparency\n",
        ")\n",
        "\n",
        "fig.update_layout(margin=dict(l=0, r=0, b=0, t=0))\n",
        "fig.show()\n"
      ],
      "metadata": {
        "colab": {
          "base_uri": "https://localhost:8080/",
          "height": 542
        },
        "id": "thDTADn9-VJ_",
        "outputId": "353eb7ad-5d8d-4db1-d650-4b0f681c8aaa"
      },
      "execution_count": 21,
      "outputs": [
        {
          "output_type": "display_data",
          "data": {
            "text/html": [
              "<html>\n",
              "<head><meta charset=\"utf-8\" /></head>\n",
              "<body>\n",
              "    <div>            <script src=\"https://cdnjs.cloudflare.com/ajax/libs/mathjax/2.7.5/MathJax.js?config=TeX-AMS-MML_SVG\"></script><script type=\"text/javascript\">if (window.MathJax && window.MathJax.Hub && window.MathJax.Hub.Config) {window.MathJax.Hub.Config({SVG: {font: \"STIX-Web\"}});}</script>                <script type=\"text/javascript\">window.PlotlyConfig = {MathJaxConfig: 'local'};</script>\n",
              "        <script charset=\"utf-8\" src=\"https://cdn.plot.ly/plotly-2.35.2.min.js\"></script>                <div id=\"f91b113a-c2a0-49cd-9aa1-048a1670bcf9\" class=\"plotly-graph-div\" style=\"height:525px; width:100%;\"></div>            <script type=\"text/javascript\">                                    window.PLOTLYENV=window.PLOTLYENV || {};                                    if (document.getElementById(\"f91b113a-c2a0-49cd-9aa1-048a1670bcf9\")) {                    Plotly.newPlot(                        \"f91b113a-c2a0-49cd-9aa1-048a1670bcf9\",                        [{\"hovertemplate\":\"species=setosa\\u003cbr\\u003esepal_length=%{x}\\u003cbr\\u003esepal_width=%{y}\\u003cbr\\u003epetal_width=%{z}\\u003cbr\\u003epetal_length=%{marker.size}\\u003cextra\\u003e\\u003c\\u002fextra\\u003e\",\"legendgroup\":\"setosa\",\"marker\":{\"color\":\"#636efa\",\"opacity\":0.7,\"size\":[1.4,1.4,1.3,1.5,1.4,1.7,1.4,1.5,1.4,1.5,1.5,1.6,1.4,1.1,1.2,1.5,1.3,1.4,1.7,1.5,1.7,1.5,1.0,1.7,1.9,1.6,1.6,1.5,1.4,1.6,1.6,1.5,1.5,1.4,1.5,1.2,1.3,1.5,1.3,1.5,1.3,1.3,1.3,1.6,1.9,1.4,1.6,1.4,1.5,1.4],\"sizemode\":\"area\",\"sizeref\":0.01725,\"symbol\":\"circle\"},\"mode\":\"markers\",\"name\":\"setosa\",\"scene\":\"scene\",\"showlegend\":true,\"x\":[5.1,4.9,4.7,4.6,5.0,5.4,4.6,5.0,4.4,4.9,5.4,4.8,4.8,4.3,5.8,5.7,5.4,5.1,5.7,5.1,5.4,5.1,4.6,5.1,4.8,5.0,5.0,5.2,5.2,4.7,4.8,5.4,5.2,5.5,4.9,5.0,5.5,4.9,4.4,5.1,5.0,4.5,4.4,5.0,5.1,4.8,5.1,4.6,5.3,5.0],\"y\":[3.5,3.0,3.2,3.1,3.6,3.9,3.4,3.4,2.9,3.1,3.7,3.4,3.0,3.0,4.0,4.4,3.9,3.5,3.8,3.8,3.4,3.7,3.6,3.3,3.4,3.0,3.4,3.5,3.4,3.2,3.1,3.4,4.1,4.2,3.1,3.2,3.5,3.1,3.0,3.4,3.5,2.3,3.2,3.5,3.8,3.0,3.8,3.2,3.7,3.3],\"z\":[0.2,0.2,0.2,0.2,0.2,0.4,0.3,0.2,0.2,0.1,0.2,0.2,0.1,0.1,0.2,0.4,0.4,0.3,0.3,0.3,0.2,0.4,0.2,0.5,0.2,0.2,0.4,0.2,0.2,0.2,0.2,0.4,0.1,0.2,0.1,0.2,0.2,0.1,0.2,0.2,0.3,0.3,0.2,0.6,0.4,0.3,0.2,0.2,0.2,0.2],\"type\":\"scatter3d\"},{\"hovertemplate\":\"species=versicolor\\u003cbr\\u003esepal_length=%{x}\\u003cbr\\u003esepal_width=%{y}\\u003cbr\\u003epetal_width=%{z}\\u003cbr\\u003epetal_length=%{marker.size}\\u003cextra\\u003e\\u003c\\u002fextra\\u003e\",\"legendgroup\":\"versicolor\",\"marker\":{\"color\":\"#EF553B\",\"opacity\":0.7,\"size\":[4.7,4.5,4.9,4.0,4.6,4.5,4.7,3.3,4.6,3.9,3.5,4.2,4.0,4.7,3.6,4.4,4.5,4.1,4.5,3.9,4.8,4.0,4.9,4.7,4.3,4.4,4.8,5.0,4.5,3.5,3.8,3.7,3.9,5.1,4.5,4.5,4.7,4.4,4.1,4.0,4.4,4.6,4.0,3.3,4.2,4.2,4.2,4.3,3.0,4.1],\"sizemode\":\"area\",\"sizeref\":0.01725,\"symbol\":\"diamond\"},\"mode\":\"markers\",\"name\":\"versicolor\",\"scene\":\"scene\",\"showlegend\":true,\"x\":[7.0,6.4,6.9,5.5,6.5,5.7,6.3,4.9,6.6,5.2,5.0,5.9,6.0,6.1,5.6,6.7,5.6,5.8,6.2,5.6,5.9,6.1,6.3,6.1,6.4,6.6,6.8,6.7,6.0,5.7,5.5,5.5,5.8,6.0,5.4,6.0,6.7,6.3,5.6,5.5,5.5,6.1,5.8,5.0,5.6,5.7,5.7,6.2,5.1,5.7],\"y\":[3.2,3.2,3.1,2.3,2.8,2.8,3.3,2.4,2.9,2.7,2.0,3.0,2.2,2.9,2.9,3.1,3.0,2.7,2.2,2.5,3.2,2.8,2.5,2.8,2.9,3.0,2.8,3.0,2.9,2.6,2.4,2.4,2.7,2.7,3.0,3.4,3.1,2.3,3.0,2.5,2.6,3.0,2.6,2.3,2.7,3.0,2.9,2.9,2.5,2.8],\"z\":[1.4,1.5,1.5,1.3,1.5,1.3,1.6,1.0,1.3,1.4,1.0,1.5,1.0,1.4,1.3,1.4,1.5,1.0,1.5,1.1,1.8,1.3,1.5,1.2,1.3,1.4,1.4,1.7,1.5,1.0,1.1,1.0,1.2,1.6,1.5,1.6,1.5,1.3,1.3,1.3,1.2,1.4,1.2,1.0,1.3,1.2,1.3,1.3,1.1,1.3],\"type\":\"scatter3d\"},{\"hovertemplate\":\"species=virginica\\u003cbr\\u003esepal_length=%{x}\\u003cbr\\u003esepal_width=%{y}\\u003cbr\\u003epetal_width=%{z}\\u003cbr\\u003epetal_length=%{marker.size}\\u003cextra\\u003e\\u003c\\u002fextra\\u003e\",\"legendgroup\":\"virginica\",\"marker\":{\"color\":\"#00cc96\",\"opacity\":0.7,\"size\":[6.0,5.1,5.9,5.6,5.8,6.6,4.5,6.3,5.8,6.1,5.1,5.3,5.5,5.0,5.1,5.3,5.5,6.7,6.9,5.0,5.7,4.9,6.7,4.9,5.7,6.0,4.8,4.9,5.6,5.8,6.1,6.4,5.6,5.1,5.6,6.1,5.6,5.5,4.8,5.4,5.6,5.1,5.1,5.9,5.7,5.2,5.0,5.2,5.4,5.1],\"sizemode\":\"area\",\"sizeref\":0.01725,\"symbol\":\"square\"},\"mode\":\"markers\",\"name\":\"virginica\",\"scene\":\"scene\",\"showlegend\":true,\"x\":[6.3,5.8,7.1,6.3,6.5,7.6,4.9,7.3,6.7,7.2,6.5,6.4,6.8,5.7,5.8,6.4,6.5,7.7,7.7,6.0,6.9,5.6,7.7,6.3,6.7,7.2,6.2,6.1,6.4,7.2,7.4,7.9,6.4,6.3,6.1,7.7,6.3,6.4,6.0,6.9,6.7,6.9,5.8,6.8,6.7,6.7,6.3,6.5,6.2,5.9],\"y\":[3.3,2.7,3.0,2.9,3.0,3.0,2.5,2.9,2.5,3.6,3.2,2.7,3.0,2.5,2.8,3.2,3.0,3.8,2.6,2.2,3.2,2.8,2.8,2.7,3.3,3.2,2.8,3.0,2.8,3.0,2.8,3.8,2.8,2.8,2.6,3.0,3.4,3.1,3.0,3.1,3.1,3.1,2.7,3.2,3.3,3.0,2.5,3.0,3.4,3.0],\"z\":[2.5,1.9,2.1,1.8,2.2,2.1,1.7,1.8,1.8,2.5,2.0,1.9,2.1,2.0,2.4,2.3,1.8,2.2,2.3,1.5,2.3,2.0,2.0,1.8,2.1,1.8,1.8,1.8,2.1,1.6,1.9,2.0,2.2,1.5,1.4,2.3,2.4,1.8,1.8,2.1,2.4,2.3,1.9,2.3,2.5,2.3,1.9,2.0,2.3,1.8],\"type\":\"scatter3d\"}],                        {\"template\":{\"data\":{\"histogram2dcontour\":[{\"type\":\"histogram2dcontour\",\"colorbar\":{\"outlinewidth\":0,\"ticks\":\"\"},\"colorscale\":[[0.0,\"#0d0887\"],[0.1111111111111111,\"#46039f\"],[0.2222222222222222,\"#7201a8\"],[0.3333333333333333,\"#9c179e\"],[0.4444444444444444,\"#bd3786\"],[0.5555555555555556,\"#d8576b\"],[0.6666666666666666,\"#ed7953\"],[0.7777777777777778,\"#fb9f3a\"],[0.8888888888888888,\"#fdca26\"],[1.0,\"#f0f921\"]]}],\"choropleth\":[{\"type\":\"choropleth\",\"colorbar\":{\"outlinewidth\":0,\"ticks\":\"\"}}],\"histogram2d\":[{\"type\":\"histogram2d\",\"colorbar\":{\"outlinewidth\":0,\"ticks\":\"\"},\"colorscale\":[[0.0,\"#0d0887\"],[0.1111111111111111,\"#46039f\"],[0.2222222222222222,\"#7201a8\"],[0.3333333333333333,\"#9c179e\"],[0.4444444444444444,\"#bd3786\"],[0.5555555555555556,\"#d8576b\"],[0.6666666666666666,\"#ed7953\"],[0.7777777777777778,\"#fb9f3a\"],[0.8888888888888888,\"#fdca26\"],[1.0,\"#f0f921\"]]}],\"heatmap\":[{\"type\":\"heatmap\",\"colorbar\":{\"outlinewidth\":0,\"ticks\":\"\"},\"colorscale\":[[0.0,\"#0d0887\"],[0.1111111111111111,\"#46039f\"],[0.2222222222222222,\"#7201a8\"],[0.3333333333333333,\"#9c179e\"],[0.4444444444444444,\"#bd3786\"],[0.5555555555555556,\"#d8576b\"],[0.6666666666666666,\"#ed7953\"],[0.7777777777777778,\"#fb9f3a\"],[0.8888888888888888,\"#fdca26\"],[1.0,\"#f0f921\"]]}],\"heatmapgl\":[{\"type\":\"heatmapgl\",\"colorbar\":{\"outlinewidth\":0,\"ticks\":\"\"},\"colorscale\":[[0.0,\"#0d0887\"],[0.1111111111111111,\"#46039f\"],[0.2222222222222222,\"#7201a8\"],[0.3333333333333333,\"#9c179e\"],[0.4444444444444444,\"#bd3786\"],[0.5555555555555556,\"#d8576b\"],[0.6666666666666666,\"#ed7953\"],[0.7777777777777778,\"#fb9f3a\"],[0.8888888888888888,\"#fdca26\"],[1.0,\"#f0f921\"]]}],\"contourcarpet\":[{\"type\":\"contourcarpet\",\"colorbar\":{\"outlinewidth\":0,\"ticks\":\"\"}}],\"contour\":[{\"type\":\"contour\",\"colorbar\":{\"outlinewidth\":0,\"ticks\":\"\"},\"colorscale\":[[0.0,\"#0d0887\"],[0.1111111111111111,\"#46039f\"],[0.2222222222222222,\"#7201a8\"],[0.3333333333333333,\"#9c179e\"],[0.4444444444444444,\"#bd3786\"],[0.5555555555555556,\"#d8576b\"],[0.6666666666666666,\"#ed7953\"],[0.7777777777777778,\"#fb9f3a\"],[0.8888888888888888,\"#fdca26\"],[1.0,\"#f0f921\"]]}],\"surface\":[{\"type\":\"surface\",\"colorbar\":{\"outlinewidth\":0,\"ticks\":\"\"},\"colorscale\":[[0.0,\"#0d0887\"],[0.1111111111111111,\"#46039f\"],[0.2222222222222222,\"#7201a8\"],[0.3333333333333333,\"#9c179e\"],[0.4444444444444444,\"#bd3786\"],[0.5555555555555556,\"#d8576b\"],[0.6666666666666666,\"#ed7953\"],[0.7777777777777778,\"#fb9f3a\"],[0.8888888888888888,\"#fdca26\"],[1.0,\"#f0f921\"]]}],\"mesh3d\":[{\"type\":\"mesh3d\",\"colorbar\":{\"outlinewidth\":0,\"ticks\":\"\"}}],\"scatter\":[{\"fillpattern\":{\"fillmode\":\"overlay\",\"size\":10,\"solidity\":0.2},\"type\":\"scatter\"}],\"parcoords\":[{\"type\":\"parcoords\",\"line\":{\"colorbar\":{\"outlinewidth\":0,\"ticks\":\"\"}}}],\"scatterpolargl\":[{\"type\":\"scatterpolargl\",\"marker\":{\"colorbar\":{\"outlinewidth\":0,\"ticks\":\"\"}}}],\"bar\":[{\"error_x\":{\"color\":\"#2a3f5f\"},\"error_y\":{\"color\":\"#2a3f5f\"},\"marker\":{\"line\":{\"color\":\"#E5ECF6\",\"width\":0.5},\"pattern\":{\"fillmode\":\"overlay\",\"size\":10,\"solidity\":0.2}},\"type\":\"bar\"}],\"scattergeo\":[{\"type\":\"scattergeo\",\"marker\":{\"colorbar\":{\"outlinewidth\":0,\"ticks\":\"\"}}}],\"scatterpolar\":[{\"type\":\"scatterpolar\",\"marker\":{\"colorbar\":{\"outlinewidth\":0,\"ticks\":\"\"}}}],\"histogram\":[{\"marker\":{\"pattern\":{\"fillmode\":\"overlay\",\"size\":10,\"solidity\":0.2}},\"type\":\"histogram\"}],\"scattergl\":[{\"type\":\"scattergl\",\"marker\":{\"colorbar\":{\"outlinewidth\":0,\"ticks\":\"\"}}}],\"scatter3d\":[{\"type\":\"scatter3d\",\"line\":{\"colorbar\":{\"outlinewidth\":0,\"ticks\":\"\"}},\"marker\":{\"colorbar\":{\"outlinewidth\":0,\"ticks\":\"\"}}}],\"scattermapbox\":[{\"type\":\"scattermapbox\",\"marker\":{\"colorbar\":{\"outlinewidth\":0,\"ticks\":\"\"}}}],\"scatterternary\":[{\"type\":\"scatterternary\",\"marker\":{\"colorbar\":{\"outlinewidth\":0,\"ticks\":\"\"}}}],\"scattercarpet\":[{\"type\":\"scattercarpet\",\"marker\":{\"colorbar\":{\"outlinewidth\":0,\"ticks\":\"\"}}}],\"carpet\":[{\"aaxis\":{\"endlinecolor\":\"#2a3f5f\",\"gridcolor\":\"white\",\"linecolor\":\"white\",\"minorgridcolor\":\"white\",\"startlinecolor\":\"#2a3f5f\"},\"baxis\":{\"endlinecolor\":\"#2a3f5f\",\"gridcolor\":\"white\",\"linecolor\":\"white\",\"minorgridcolor\":\"white\",\"startlinecolor\":\"#2a3f5f\"},\"type\":\"carpet\"}],\"table\":[{\"cells\":{\"fill\":{\"color\":\"#EBF0F8\"},\"line\":{\"color\":\"white\"}},\"header\":{\"fill\":{\"color\":\"#C8D4E3\"},\"line\":{\"color\":\"white\"}},\"type\":\"table\"}],\"barpolar\":[{\"marker\":{\"line\":{\"color\":\"#E5ECF6\",\"width\":0.5},\"pattern\":{\"fillmode\":\"overlay\",\"size\":10,\"solidity\":0.2}},\"type\":\"barpolar\"}],\"pie\":[{\"automargin\":true,\"type\":\"pie\"}]},\"layout\":{\"autotypenumbers\":\"strict\",\"colorway\":[\"#636efa\",\"#EF553B\",\"#00cc96\",\"#ab63fa\",\"#FFA15A\",\"#19d3f3\",\"#FF6692\",\"#B6E880\",\"#FF97FF\",\"#FECB52\"],\"font\":{\"color\":\"#2a3f5f\"},\"hovermode\":\"closest\",\"hoverlabel\":{\"align\":\"left\"},\"paper_bgcolor\":\"white\",\"plot_bgcolor\":\"#E5ECF6\",\"polar\":{\"bgcolor\":\"#E5ECF6\",\"angularaxis\":{\"gridcolor\":\"white\",\"linecolor\":\"white\",\"ticks\":\"\"},\"radialaxis\":{\"gridcolor\":\"white\",\"linecolor\":\"white\",\"ticks\":\"\"}},\"ternary\":{\"bgcolor\":\"#E5ECF6\",\"aaxis\":{\"gridcolor\":\"white\",\"linecolor\":\"white\",\"ticks\":\"\"},\"baxis\":{\"gridcolor\":\"white\",\"linecolor\":\"white\",\"ticks\":\"\"},\"caxis\":{\"gridcolor\":\"white\",\"linecolor\":\"white\",\"ticks\":\"\"}},\"coloraxis\":{\"colorbar\":{\"outlinewidth\":0,\"ticks\":\"\"}},\"colorscale\":{\"sequential\":[[0.0,\"#0d0887\"],[0.1111111111111111,\"#46039f\"],[0.2222222222222222,\"#7201a8\"],[0.3333333333333333,\"#9c179e\"],[0.4444444444444444,\"#bd3786\"],[0.5555555555555556,\"#d8576b\"],[0.6666666666666666,\"#ed7953\"],[0.7777777777777778,\"#fb9f3a\"],[0.8888888888888888,\"#fdca26\"],[1.0,\"#f0f921\"]],\"sequentialminus\":[[0.0,\"#0d0887\"],[0.1111111111111111,\"#46039f\"],[0.2222222222222222,\"#7201a8\"],[0.3333333333333333,\"#9c179e\"],[0.4444444444444444,\"#bd3786\"],[0.5555555555555556,\"#d8576b\"],[0.6666666666666666,\"#ed7953\"],[0.7777777777777778,\"#fb9f3a\"],[0.8888888888888888,\"#fdca26\"],[1.0,\"#f0f921\"]],\"diverging\":[[0,\"#8e0152\"],[0.1,\"#c51b7d\"],[0.2,\"#de77ae\"],[0.3,\"#f1b6da\"],[0.4,\"#fde0ef\"],[0.5,\"#f7f7f7\"],[0.6,\"#e6f5d0\"],[0.7,\"#b8e186\"],[0.8,\"#7fbc41\"],[0.9,\"#4d9221\"],[1,\"#276419\"]]},\"xaxis\":{\"gridcolor\":\"white\",\"linecolor\":\"white\",\"ticks\":\"\",\"title\":{\"standoff\":15},\"zerolinecolor\":\"white\",\"automargin\":true,\"zerolinewidth\":2},\"yaxis\":{\"gridcolor\":\"white\",\"linecolor\":\"white\",\"ticks\":\"\",\"title\":{\"standoff\":15},\"zerolinecolor\":\"white\",\"automargin\":true,\"zerolinewidth\":2},\"scene\":{\"xaxis\":{\"backgroundcolor\":\"#E5ECF6\",\"gridcolor\":\"white\",\"linecolor\":\"white\",\"showbackground\":true,\"ticks\":\"\",\"zerolinecolor\":\"white\",\"gridwidth\":2},\"yaxis\":{\"backgroundcolor\":\"#E5ECF6\",\"gridcolor\":\"white\",\"linecolor\":\"white\",\"showbackground\":true,\"ticks\":\"\",\"zerolinecolor\":\"white\",\"gridwidth\":2},\"zaxis\":{\"backgroundcolor\":\"#E5ECF6\",\"gridcolor\":\"white\",\"linecolor\":\"white\",\"showbackground\":true,\"ticks\":\"\",\"zerolinecolor\":\"white\",\"gridwidth\":2}},\"shapedefaults\":{\"line\":{\"color\":\"#2a3f5f\"}},\"annotationdefaults\":{\"arrowcolor\":\"#2a3f5f\",\"arrowhead\":0,\"arrowwidth\":1},\"geo\":{\"bgcolor\":\"white\",\"landcolor\":\"#E5ECF6\",\"subunitcolor\":\"white\",\"showland\":true,\"showlakes\":true,\"lakecolor\":\"white\"},\"title\":{\"x\":0.05},\"mapbox\":{\"style\":\"light\"}}},\"scene\":{\"domain\":{\"x\":[0.0,1.0],\"y\":[0.0,1.0]},\"xaxis\":{\"title\":{\"text\":\"sepal_length\"}},\"yaxis\":{\"title\":{\"text\":\"sepal_width\"}},\"zaxis\":{\"title\":{\"text\":\"petal_width\"}}},\"legend\":{\"title\":{\"text\":\"species\"},\"tracegroupgap\":0,\"itemsizing\":\"constant\"},\"margin\":{\"t\":0,\"l\":0,\"r\":0,\"b\":0}},                        {\"responsive\": true}                    ).then(function(){\n",
              "                            \n",
              "var gd = document.getElementById('f91b113a-c2a0-49cd-9aa1-048a1670bcf9');\n",
              "var x = new MutationObserver(function (mutations, observer) {{\n",
              "        var display = window.getComputedStyle(gd).display;\n",
              "        if (!display || display === 'none') {{\n",
              "            console.log([gd, 'removed!']);\n",
              "            Plotly.purge(gd);\n",
              "            observer.disconnect();\n",
              "        }}\n",
              "}});\n",
              "\n",
              "// Listen for the removal of the full notebook cells\n",
              "var notebookContainer = gd.closest('#notebook-container');\n",
              "if (notebookContainer) {{\n",
              "    x.observe(notebookContainer, {childList: true});\n",
              "}}\n",
              "\n",
              "// Listen for the clearing of the current output cell\n",
              "var outputEl = gd.closest('.output');\n",
              "if (outputEl) {{\n",
              "    x.observe(outputEl, {childList: true});\n",
              "}}\n",
              "\n",
              "                        })                };                            </script>        </div>\n",
              "</body>\n",
              "</html>"
            ]
          },
          "metadata": {}
        }
      ]
    },
    {
      "cell_type": "code",
      "source": [],
      "metadata": {
        "id": "RHttm0Km-dE_"
      },
      "execution_count": null,
      "outputs": []
    }
  ]
}